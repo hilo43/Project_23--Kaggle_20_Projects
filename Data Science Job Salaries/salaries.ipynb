{
 "cells": [
  {
   "cell_type": "markdown",
   "metadata": {},
   "source": [
    "https://www.kaggle.com/datasets/ruchi798/data-science-job-salaries?datasetId=2268489&sortBy=voteCount"
   ]
  },
  {
   "cell_type": "code",
   "execution_count": 235,
   "metadata": {},
   "outputs": [],
   "source": [
    "import numpy as np\n",
    "import pandas as pd\n",
    "import matplotlib.pyplot as plt\n",
    "import seaborn as sns\n",
    "%matplotlib inline\n",
    "import warnings\n",
    "warnings.filterwarnings('ignore')"
   ]
  },
  {
   "cell_type": "code",
   "execution_count": 236,
   "metadata": {},
   "outputs": [],
   "source": [
    "import matplotlib as mpl\n",
    "import matplotlib.pyplot as plt\n",
    "import seaborn as sns\n",
    "import missingno as msno\n",
    "from matplotlib.pyplot import figure"
   ]
  },
  {
   "cell_type": "code",
   "execution_count": 237,
   "metadata": {},
   "outputs": [],
   "source": [
    "df = pd.read_csv(\"ds_salaries.csv\")"
   ]
  },
  {
   "cell_type": "code",
   "execution_count": 238,
   "metadata": {},
   "outputs": [
    {
     "data": {
      "text/html": [
       "<div>\n",
       "<style scoped>\n",
       "    .dataframe tbody tr th:only-of-type {\n",
       "        vertical-align: middle;\n",
       "    }\n",
       "\n",
       "    .dataframe tbody tr th {\n",
       "        vertical-align: top;\n",
       "    }\n",
       "\n",
       "    .dataframe thead th {\n",
       "        text-align: right;\n",
       "    }\n",
       "</style>\n",
       "<table border=\"1\" class=\"dataframe\">\n",
       "  <thead>\n",
       "    <tr style=\"text-align: right;\">\n",
       "      <th></th>\n",
       "      <th>Unnamed: 0</th>\n",
       "      <th>work_year</th>\n",
       "      <th>experience_level</th>\n",
       "      <th>employment_type</th>\n",
       "      <th>job_title</th>\n",
       "      <th>salary</th>\n",
       "      <th>salary_currency</th>\n",
       "      <th>salary_in_usd</th>\n",
       "      <th>employee_residence</th>\n",
       "      <th>remote_ratio</th>\n",
       "      <th>company_location</th>\n",
       "      <th>company_size</th>\n",
       "    </tr>\n",
       "  </thead>\n",
       "  <tbody>\n",
       "    <tr>\n",
       "      <th>0</th>\n",
       "      <td>0</td>\n",
       "      <td>2020</td>\n",
       "      <td>MI</td>\n",
       "      <td>FT</td>\n",
       "      <td>Data Scientist</td>\n",
       "      <td>70000</td>\n",
       "      <td>EUR</td>\n",
       "      <td>79833</td>\n",
       "      <td>DE</td>\n",
       "      <td>0</td>\n",
       "      <td>DE</td>\n",
       "      <td>L</td>\n",
       "    </tr>\n",
       "    <tr>\n",
       "      <th>1</th>\n",
       "      <td>1</td>\n",
       "      <td>2020</td>\n",
       "      <td>SE</td>\n",
       "      <td>FT</td>\n",
       "      <td>Machine Learning Scientist</td>\n",
       "      <td>260000</td>\n",
       "      <td>USD</td>\n",
       "      <td>260000</td>\n",
       "      <td>JP</td>\n",
       "      <td>0</td>\n",
       "      <td>JP</td>\n",
       "      <td>S</td>\n",
       "    </tr>\n",
       "    <tr>\n",
       "      <th>2</th>\n",
       "      <td>2</td>\n",
       "      <td>2020</td>\n",
       "      <td>SE</td>\n",
       "      <td>FT</td>\n",
       "      <td>Big Data Engineer</td>\n",
       "      <td>85000</td>\n",
       "      <td>GBP</td>\n",
       "      <td>109024</td>\n",
       "      <td>GB</td>\n",
       "      <td>50</td>\n",
       "      <td>GB</td>\n",
       "      <td>M</td>\n",
       "    </tr>\n",
       "    <tr>\n",
       "      <th>3</th>\n",
       "      <td>3</td>\n",
       "      <td>2020</td>\n",
       "      <td>MI</td>\n",
       "      <td>FT</td>\n",
       "      <td>Product Data Analyst</td>\n",
       "      <td>20000</td>\n",
       "      <td>USD</td>\n",
       "      <td>20000</td>\n",
       "      <td>HN</td>\n",
       "      <td>0</td>\n",
       "      <td>HN</td>\n",
       "      <td>S</td>\n",
       "    </tr>\n",
       "    <tr>\n",
       "      <th>4</th>\n",
       "      <td>4</td>\n",
       "      <td>2020</td>\n",
       "      <td>SE</td>\n",
       "      <td>FT</td>\n",
       "      <td>Machine Learning Engineer</td>\n",
       "      <td>150000</td>\n",
       "      <td>USD</td>\n",
       "      <td>150000</td>\n",
       "      <td>US</td>\n",
       "      <td>50</td>\n",
       "      <td>US</td>\n",
       "      <td>L</td>\n",
       "    </tr>\n",
       "  </tbody>\n",
       "</table>\n",
       "</div>"
      ],
      "text/plain": [
       "   Unnamed: 0  work_year experience_level employment_type  \\\n",
       "0           0       2020               MI              FT   \n",
       "1           1       2020               SE              FT   \n",
       "2           2       2020               SE              FT   \n",
       "3           3       2020               MI              FT   \n",
       "4           4       2020               SE              FT   \n",
       "\n",
       "                    job_title  salary salary_currency  salary_in_usd  \\\n",
       "0              Data Scientist   70000             EUR          79833   \n",
       "1  Machine Learning Scientist  260000             USD         260000   \n",
       "2           Big Data Engineer   85000             GBP         109024   \n",
       "3        Product Data Analyst   20000             USD          20000   \n",
       "4   Machine Learning Engineer  150000             USD         150000   \n",
       "\n",
       "  employee_residence  remote_ratio company_location company_size  \n",
       "0                 DE             0               DE            L  \n",
       "1                 JP             0               JP            S  \n",
       "2                 GB            50               GB            M  \n",
       "3                 HN             0               HN            S  \n",
       "4                 US            50               US            L  "
      ]
     },
     "execution_count": 238,
     "metadata": {},
     "output_type": "execute_result"
    }
   ],
   "source": [
    "df.head()"
   ]
  },
  {
   "cell_type": "code",
   "execution_count": 239,
   "metadata": {},
   "outputs": [
    {
     "name": "stdout",
     "output_type": "stream",
     "text": [
      "<class 'pandas.core.frame.DataFrame'>\n",
      "RangeIndex: 607 entries, 0 to 606\n",
      "Data columns (total 12 columns):\n",
      " #   Column              Non-Null Count  Dtype \n",
      "---  ------              --------------  ----- \n",
      " 0   Unnamed: 0          607 non-null    int64 \n",
      " 1   work_year           607 non-null    int64 \n",
      " 2   experience_level    607 non-null    object\n",
      " 3   employment_type     607 non-null    object\n",
      " 4   job_title           607 non-null    object\n",
      " 5   salary              607 non-null    int64 \n",
      " 6   salary_currency     607 non-null    object\n",
      " 7   salary_in_usd       607 non-null    int64 \n",
      " 8   employee_residence  607 non-null    object\n",
      " 9   remote_ratio        607 non-null    int64 \n",
      " 10  company_location    607 non-null    object\n",
      " 11  company_size        607 non-null    object\n",
      "dtypes: int64(5), object(7)\n",
      "memory usage: 57.0+ KB\n"
     ]
    }
   ],
   "source": [
    "df.info()"
   ]
  },
  {
   "cell_type": "code",
   "execution_count": 240,
   "metadata": {},
   "outputs": [],
   "source": [
    "df.drop([\"Unnamed: 0\",\"salary\",\"salary_currency\"],axis=1 , inplace=True)"
   ]
  },
  {
   "cell_type": "code",
   "execution_count": 241,
   "metadata": {},
   "outputs": [
    {
     "data": {
      "text/html": [
       "<div>\n",
       "<style scoped>\n",
       "    .dataframe tbody tr th:only-of-type {\n",
       "        vertical-align: middle;\n",
       "    }\n",
       "\n",
       "    .dataframe tbody tr th {\n",
       "        vertical-align: top;\n",
       "    }\n",
       "\n",
       "    .dataframe thead th {\n",
       "        text-align: right;\n",
       "    }\n",
       "</style>\n",
       "<table border=\"1\" class=\"dataframe\">\n",
       "  <thead>\n",
       "    <tr style=\"text-align: right;\">\n",
       "      <th></th>\n",
       "      <th>work_year</th>\n",
       "      <th>experience_level</th>\n",
       "      <th>employment_type</th>\n",
       "      <th>job_title</th>\n",
       "      <th>salary_in_usd</th>\n",
       "      <th>employee_residence</th>\n",
       "      <th>remote_ratio</th>\n",
       "      <th>company_location</th>\n",
       "      <th>company_size</th>\n",
       "    </tr>\n",
       "  </thead>\n",
       "  <tbody>\n",
       "    <tr>\n",
       "      <th>0</th>\n",
       "      <td>2020</td>\n",
       "      <td>MI</td>\n",
       "      <td>FT</td>\n",
       "      <td>Data Scientist</td>\n",
       "      <td>79833</td>\n",
       "      <td>DE</td>\n",
       "      <td>0</td>\n",
       "      <td>DE</td>\n",
       "      <td>L</td>\n",
       "    </tr>\n",
       "    <tr>\n",
       "      <th>1</th>\n",
       "      <td>2020</td>\n",
       "      <td>SE</td>\n",
       "      <td>FT</td>\n",
       "      <td>Machine Learning Scientist</td>\n",
       "      <td>260000</td>\n",
       "      <td>JP</td>\n",
       "      <td>0</td>\n",
       "      <td>JP</td>\n",
       "      <td>S</td>\n",
       "    </tr>\n",
       "    <tr>\n",
       "      <th>2</th>\n",
       "      <td>2020</td>\n",
       "      <td>SE</td>\n",
       "      <td>FT</td>\n",
       "      <td>Big Data Engineer</td>\n",
       "      <td>109024</td>\n",
       "      <td>GB</td>\n",
       "      <td>50</td>\n",
       "      <td>GB</td>\n",
       "      <td>M</td>\n",
       "    </tr>\n",
       "    <tr>\n",
       "      <th>3</th>\n",
       "      <td>2020</td>\n",
       "      <td>MI</td>\n",
       "      <td>FT</td>\n",
       "      <td>Product Data Analyst</td>\n",
       "      <td>20000</td>\n",
       "      <td>HN</td>\n",
       "      <td>0</td>\n",
       "      <td>HN</td>\n",
       "      <td>S</td>\n",
       "    </tr>\n",
       "    <tr>\n",
       "      <th>4</th>\n",
       "      <td>2020</td>\n",
       "      <td>SE</td>\n",
       "      <td>FT</td>\n",
       "      <td>Machine Learning Engineer</td>\n",
       "      <td>150000</td>\n",
       "      <td>US</td>\n",
       "      <td>50</td>\n",
       "      <td>US</td>\n",
       "      <td>L</td>\n",
       "    </tr>\n",
       "  </tbody>\n",
       "</table>\n",
       "</div>"
      ],
      "text/plain": [
       "   work_year experience_level employment_type                   job_title  \\\n",
       "0       2020               MI              FT              Data Scientist   \n",
       "1       2020               SE              FT  Machine Learning Scientist   \n",
       "2       2020               SE              FT           Big Data Engineer   \n",
       "3       2020               MI              FT        Product Data Analyst   \n",
       "4       2020               SE              FT   Machine Learning Engineer   \n",
       "\n",
       "   salary_in_usd employee_residence  remote_ratio company_location  \\\n",
       "0          79833                 DE             0               DE   \n",
       "1         260000                 JP             0               JP   \n",
       "2         109024                 GB            50               GB   \n",
       "3          20000                 HN             0               HN   \n",
       "4         150000                 US            50               US   \n",
       "\n",
       "  company_size  \n",
       "0            L  \n",
       "1            S  \n",
       "2            M  \n",
       "3            S  \n",
       "4            L  "
      ]
     },
     "execution_count": 241,
     "metadata": {},
     "output_type": "execute_result"
    }
   ],
   "source": [
    "df.head()"
   ]
  },
  {
   "cell_type": "code",
   "execution_count": 242,
   "metadata": {},
   "outputs": [
    {
     "name": "stdout",
     "output_type": "stream",
     "text": [
      "<class 'pandas.core.frame.DataFrame'>\n",
      "RangeIndex: 607 entries, 0 to 606\n",
      "Data columns (total 9 columns):\n",
      " #   Column              Non-Null Count  Dtype \n",
      "---  ------              --------------  ----- \n",
      " 0   work_year           607 non-null    int64 \n",
      " 1   experience_level    607 non-null    object\n",
      " 2   employment_type     607 non-null    object\n",
      " 3   job_title           607 non-null    object\n",
      " 4   salary_in_usd       607 non-null    int64 \n",
      " 5   employee_residence  607 non-null    object\n",
      " 6   remote_ratio        607 non-null    int64 \n",
      " 7   company_location    607 non-null    object\n",
      " 8   company_size        607 non-null    object\n",
      "dtypes: int64(3), object(6)\n",
      "memory usage: 42.8+ KB\n"
     ]
    }
   ],
   "source": [
    "df.info()"
   ]
  },
  {
   "cell_type": "code",
   "execution_count": 243,
   "metadata": {},
   "outputs": [
    {
     "data": {
      "text/plain": [
       "2022    318\n",
       "2021    217\n",
       "2020     72\n",
       "Name: work_year, dtype: int64"
      ]
     },
     "execution_count": 243,
     "metadata": {},
     "output_type": "execute_result"
    }
   ],
   "source": [
    "df[\"work_year\"].value_counts()"
   ]
  },
  {
   "cell_type": "code",
   "execution_count": null,
   "metadata": {},
   "outputs": [],
   "source": []
  },
  {
   "cell_type": "code",
   "execution_count": 244,
   "metadata": {},
   "outputs": [
    {
     "data": {
      "text/plain": [
       "SE    280\n",
       "MI    213\n",
       "EN     88\n",
       "EX     26\n",
       "Name: experience_level, dtype: int64"
      ]
     },
     "execution_count": 244,
     "metadata": {},
     "output_type": "execute_result"
    }
   ],
   "source": [
    "df[\"experience_level\"].value_counts()"
   ]
  },
  {
   "cell_type": "code",
   "execution_count": 245,
   "metadata": {},
   "outputs": [],
   "source": [
    "df[\"experience_level\"] = df[\"experience_level\"].replace({\"EN\":0 , \"MI\":1  ,\"SE\":2 , \"EX\":3})\n",
    "df[\"experience_level\"] = df[\"experience_level\"].astype(float)"
   ]
  },
  {
   "cell_type": "code",
   "execution_count": 246,
   "metadata": {},
   "outputs": [
    {
     "data": {
      "text/plain": [
       "FT    588\n",
       "PT     10\n",
       "CT      5\n",
       "FL      4\n",
       "Name: employment_type, dtype: int64"
      ]
     },
     "execution_count": 246,
     "metadata": {},
     "output_type": "execute_result"
    }
   ],
   "source": [
    "df[\"employment_type\"].value_counts()"
   ]
  },
  {
   "cell_type": "code",
   "execution_count": 247,
   "metadata": {},
   "outputs": [],
   "source": [
    "#df[\"employment_type\"] = df[\"employment_type\"].replace({\"FT\":2 , \"PT\":1  ,\"CT\":2 , \"FL\":2})"
   ]
  },
  {
   "cell_type": "code",
   "execution_count": 248,
   "metadata": {},
   "outputs": [
    {
     "data": {
      "text/plain": [
       "Data Scientist                              143\n",
       "Data Engineer                               132\n",
       "Data Analyst                                 97\n",
       "Machine Learning Engineer                    41\n",
       "Research Scientist                           16\n",
       "Data Science Manager                         12\n",
       "Data Architect                               11\n",
       "Big Data Engineer                             8\n",
       "Machine Learning Scientist                    8\n",
       "Principal Data Scientist                      7\n",
       "AI Scientist                                  7\n",
       "Data Science Consultant                       7\n",
       "Director of Data Science                      7\n",
       "Data Analytics Manager                        7\n",
       "ML Engineer                                   6\n",
       "Computer Vision Engineer                      6\n",
       "BI Data Analyst                               6\n",
       "Lead Data Engineer                            6\n",
       "Data Engineering Manager                      5\n",
       "Business Data Analyst                         5\n",
       "Head of Data                                  5\n",
       "Applied Data Scientist                        5\n",
       "Applied Machine Learning Scientist            4\n",
       "Head of Data Science                          4\n",
       "Analytics Engineer                            4\n",
       "Data Analytics Engineer                       4\n",
       "Machine Learning Developer                    3\n",
       "Machine Learning Infrastructure Engineer      3\n",
       "Lead Data Scientist                           3\n",
       "Computer Vision Software Engineer             3\n",
       "Lead Data Analyst                             3\n",
       "Data Science Engineer                         3\n",
       "Principal Data Engineer                       3\n",
       "Principal Data Analyst                        2\n",
       "ETL Developer                                 2\n",
       "Product Data Analyst                          2\n",
       "Director of Data Engineering                  2\n",
       "Financial Data Analyst                        2\n",
       "Cloud Data Engineer                           2\n",
       "Lead Machine Learning Engineer                1\n",
       "NLP Engineer                                  1\n",
       "Head of Machine Learning                      1\n",
       "3D Computer Vision Researcher                 1\n",
       "Data Specialist                               1\n",
       "Staff Data Scientist                          1\n",
       "Big Data Architect                            1\n",
       "Finance Data Analyst                          1\n",
       "Marketing Data Analyst                        1\n",
       "Machine Learning Manager                      1\n",
       "Data Analytics Lead                           1\n",
       "Name: job_title, dtype: int64"
      ]
     },
     "execution_count": 248,
     "metadata": {},
     "output_type": "execute_result"
    }
   ],
   "source": [
    "df[\"job_title\"].value_counts()"
   ]
  },
  {
   "cell_type": "code",
   "execution_count": 249,
   "metadata": {},
   "outputs": [],
   "source": [
    "top5_job_title = df['job_title'].value_counts()[:5]"
   ]
  },
  {
   "cell_type": "code",
   "execution_count": 250,
   "metadata": {},
   "outputs": [
    {
     "data": {
      "text/plain": [
       "<Figure size 3200x1920 with 0 Axes>"
      ]
     },
     "execution_count": 250,
     "metadata": {},
     "output_type": "execute_result"
    },
    {
     "data": {
      "image/png": "[encoded data removed]",
      "text/plain": [
       "<Figure size 432x288 with 1 Axes>"
      ]
     },
     "metadata": {
      "needs_background": "light"
     },
     "output_type": "display_data"
    },
    {
     "data": {
      "text/plain": [
       "<Figure size 3200x1920 with 0 Axes>"
      ]
     },
     "metadata": {},
     "output_type": "display_data"
    }
   ],
   "source": [
    "\n",
    "fig = plt.bar(x=top5_job_title.index, height=top5_job_title.values )\n",
    "plt.xticks(rotation = 30)\n",
    "figure(figsize=(20, 12), dpi=160)"
   ]
  },
  {
   "cell_type": "code",
   "execution_count": 251,
   "metadata": {},
   "outputs": [],
   "source": [
    "salary_job = df.groupby(['salary_in_usd','job_title']).size().reset_index()\n",
    "salary_job = salary_job[-10:]"
   ]
  },
  {
   "cell_type": "code",
   "execution_count": 252,
   "metadata": {},
   "outputs": [
    {
     "data": {
      "text/plain": [
       "<Figure size 3200x1920 with 0 Axes>"
      ]
     },
     "execution_count": 252,
     "metadata": {},
     "output_type": "execute_result"
    },
    {
     "data": {
      "image/png": "[encoded data removed]",
      "text/plain": [
       "<Figure size 432x288 with 1 Axes>"
      ]
     },
     "metadata": {
      "needs_background": "light"
     },
     "output_type": "display_data"
    },
    {
     "data": {
      "text/plain": [
       "<Figure size 3200x1920 with 0 Axes>"
      ]
     },
     "metadata": {},
     "output_type": "display_data"
    }
   ],
   "source": [
    "\n",
    "fig = plt.bar(x=salary_job.job_title, height=salary_job.salary_in_usd)\n",
    "plt.xticks(rotation = 60)\n",
    "figure(figsize=(20, 12), dpi=160)"
   ]
  },
  {
   "cell_type": "code",
   "execution_count": 253,
   "metadata": {},
   "outputs": [
    {
     "data": {
      "text/plain": [
       "<AxesSubplot:xlabel='salary_in_usd'>"
      ]
     },
     "execution_count": 253,
     "metadata": {},
     "output_type": "execute_result"
    },
    {
     "data": {
      "image/png": "[encoded data removed]",
      "text/plain": [
       "<Figure size 432x288 with 1 Axes>"
      ]
     },
     "metadata": {
      "needs_background": "light"
     },
     "output_type": "display_data"
    }
   ],
   "source": [
    "sns.swarmplot(df['salary_in_usd'])"
   ]
  },
  {
   "cell_type": "code",
   "execution_count": 254,
   "metadata": {},
   "outputs": [
    {
     "name": "stdout",
     "output_type": "stream",
     "text": [
      "<class 'pandas.core.frame.DataFrame'>\n",
      "RangeIndex: 607 entries, 0 to 606\n",
      "Data columns (total 9 columns):\n",
      " #   Column              Non-Null Count  Dtype  \n",
      "---  ------              --------------  -----  \n",
      " 0   work_year           607 non-null    int64  \n",
      " 1   experience_level    607 non-null    float64\n",
      " 2   employment_type     607 non-null    object \n",
      " 3   job_title           607 non-null    object \n",
      " 4   salary_in_usd       607 non-null    int64  \n",
      " 5   employee_residence  607 non-null    object \n",
      " 6   remote_ratio        607 non-null    int64  \n",
      " 7   company_location    607 non-null    object \n",
      " 8   company_size        607 non-null    object \n",
      "dtypes: float64(1), int64(3), object(5)\n",
      "memory usage: 42.8+ KB\n"
     ]
    }
   ],
   "source": [
    "df.info()"
   ]
  },
  {
   "cell_type": "code",
   "execution_count": 255,
   "metadata": {},
   "outputs": [
    {
     "data": {
      "text/plain": [
       "US    332\n",
       "GB     44\n",
       "IN     30\n",
       "CA     29\n",
       "DE     25\n",
       "FR     18\n",
       "ES     15\n",
       "GR     13\n",
       "JP      7\n",
       "PT      6\n",
       "BR      6\n",
       "PK      6\n",
       "NL      5\n",
       "PL      4\n",
       "IT      4\n",
       "RU      4\n",
       "AE      3\n",
       "AT      3\n",
       "VN      3\n",
       "TR      3\n",
       "AU      3\n",
       "RO      2\n",
       "BE      2\n",
       "SG      2\n",
       "SI      2\n",
       "DK      2\n",
       "HU      2\n",
       "NG      2\n",
       "MX      2\n",
       "BO      1\n",
       "MY      1\n",
       "TN      1\n",
       "IE      1\n",
       "DZ      1\n",
       "AR      1\n",
       "CZ      1\n",
       "JE      1\n",
       "LU      1\n",
       "PR      1\n",
       "RS      1\n",
       "EE      1\n",
       "CL      1\n",
       "HK      1\n",
       "KE      1\n",
       "MD      1\n",
       "CO      1\n",
       "IR      1\n",
       "CN      1\n",
       "MT      1\n",
       "UA      1\n",
       "IQ      1\n",
       "HN      1\n",
       "BG      1\n",
       "HR      1\n",
       "PH      1\n",
       "NZ      1\n",
       "CH      1\n",
       "Name: employee_residence, dtype: int64"
      ]
     },
     "execution_count": 255,
     "metadata": {},
     "output_type": "execute_result"
    }
   ],
   "source": [
    "df[\"employee_residence\"].value_counts()"
   ]
  },
  {
   "cell_type": "code",
   "execution_count": 256,
   "metadata": {},
   "outputs": [
    {
     "data": {
      "text/plain": [
       "100    381\n",
       "0      127\n",
       "50      99\n",
       "Name: remote_ratio, dtype: int64"
      ]
     },
     "execution_count": 256,
     "metadata": {},
     "output_type": "execute_result"
    }
   ],
   "source": [
    "df[\"remote_ratio\"].value_counts()"
   ]
  },
  {
   "cell_type": "code",
   "execution_count": 257,
   "metadata": {},
   "outputs": [
    {
     "data": {
      "text/plain": [
       "US    355\n",
       "GB     47\n",
       "CA     30\n",
       "DE     28\n",
       "IN     24\n",
       "FR     15\n",
       "ES     14\n",
       "GR     11\n",
       "JP      6\n",
       "NL      4\n",
       "AT      4\n",
       "PT      4\n",
       "PL      4\n",
       "LU      3\n",
       "PK      3\n",
       "BR      3\n",
       "AE      3\n",
       "MX      3\n",
       "AU      3\n",
       "TR      3\n",
       "DK      3\n",
       "IT      2\n",
       "CZ      2\n",
       "SI      2\n",
       "RU      2\n",
       "CH      2\n",
       "NG      2\n",
       "CN      2\n",
       "BE      2\n",
       "VN      1\n",
       "EE      1\n",
       "AS      1\n",
       "DZ      1\n",
       "MY      1\n",
       "MD      1\n",
       "KE      1\n",
       "SG      1\n",
       "CO      1\n",
       "IR      1\n",
       "CL      1\n",
       "MT      1\n",
       "IL      1\n",
       "UA      1\n",
       "IQ      1\n",
       "RO      1\n",
       "HR      1\n",
       "NZ      1\n",
       "HU      1\n",
       "HN      1\n",
       "IE      1\n",
       "Name: company_location, dtype: int64"
      ]
     },
     "execution_count": 257,
     "metadata": {},
     "output_type": "execute_result"
    }
   ],
   "source": [
    "df[\"company_location\"].value_counts()"
   ]
  },
  {
   "cell_type": "code",
   "execution_count": 258,
   "metadata": {},
   "outputs": [
    {
     "data": {
      "text/plain": [
       "M    326\n",
       "L    198\n",
       "S     83\n",
       "Name: company_size, dtype: int64"
      ]
     },
     "execution_count": 258,
     "metadata": {},
     "output_type": "execute_result"
    }
   ],
   "source": [
    "df[\"company_size\"].value_counts()\n"
   ]
  },
  {
   "cell_type": "code",
   "execution_count": 259,
   "metadata": {},
   "outputs": [],
   "source": [
    "#df[\"company_size\"] = df[\"company_size\"].replace({\"S\":1 , \"M\":2  ,\"L\":3 })"
   ]
  },
  {
   "cell_type": "code",
   "execution_count": 260,
   "metadata": {},
   "outputs": [
    {
     "data": {
      "text/plain": [
       "salary_in_usd       1.000000\n",
       "experience_level    0.484233\n",
       "work_year           0.170493\n",
       "remote_ratio        0.132122\n",
       "Name: salary_in_usd, dtype: float64"
      ]
     },
     "execution_count": 260,
     "metadata": {},
     "output_type": "execute_result"
    }
   ],
   "source": [
    "abs(df.corr()[\"salary_in_usd\"]).sort_values(ascending = False)"
   ]
  },
  {
   "cell_type": "code",
   "execution_count": 261,
   "metadata": {},
   "outputs": [
    {
     "name": "stdout",
     "output_type": "stream",
     "text": [
      "<class 'pandas.core.frame.DataFrame'>\n",
      "RangeIndex: 607 entries, 0 to 606\n",
      "Data columns (total 9 columns):\n",
      " #   Column              Non-Null Count  Dtype  \n",
      "---  ------              --------------  -----  \n",
      " 0   work_year           607 non-null    int64  \n",
      " 1   experience_level    607 non-null    float64\n",
      " 2   employment_type     607 non-null    object \n",
      " 3   job_title           607 non-null    object \n",
      " 4   salary_in_usd       607 non-null    int64  \n",
      " 5   employee_residence  607 non-null    object \n",
      " 6   remote_ratio        607 non-null    int64  \n",
      " 7   company_location    607 non-null    object \n",
      " 8   company_size        607 non-null    object \n",
      "dtypes: float64(1), int64(3), object(5)\n",
      "memory usage: 42.8+ KB\n"
     ]
    }
   ],
   "source": [
    "df.info()"
   ]
  },
  {
   "cell_type": "code",
   "execution_count": 262,
   "metadata": {},
   "outputs": [],
   "source": [
    "outliers = df.quantile(.97)\n",
    "df = df[(df['salary_in_usd']<outliers['salary_in_usd'])]"
   ]
  },
  {
   "cell_type": "code",
   "execution_count": 263,
   "metadata": {},
   "outputs": [],
   "source": [
    "#df_model = df.drop([\"company_location\",\"employee_residence\"] , axis = 1)"
   ]
  },
  {
   "cell_type": "code",
   "execution_count": 264,
   "metadata": {},
   "outputs": [],
   "source": [
    "df_model = pd.get_dummies(df)"
   ]
  },
  {
   "cell_type": "code",
   "execution_count": 265,
   "metadata": {},
   "outputs": [],
   "source": [
    "import numpy as np"
   ]
  },
  {
   "cell_type": "code",
   "execution_count": 266,
   "metadata": {},
   "outputs": [
    {
     "data": {
      "text/html": [
       "<style type=\"text/css\">\n",
       "#T_2f5a0_ th {\n",
       "  text-align: left;\n",
       "}\n",
       "#T_2f5a0_row0_col0, #T_2f5a0_row0_col1, #T_2f5a0_row0_col5, #T_2f5a0_row0_col6, #T_2f5a0_row1_col0, #T_2f5a0_row1_col1, #T_2f5a0_row1_col2, #T_2f5a0_row1_col3, #T_2f5a0_row1_col4, #T_2f5a0_row1_col5, #T_2f5a0_row1_col6, #T_2f5a0_row2_col0, #T_2f5a0_row2_col2, #T_2f5a0_row2_col3, #T_2f5a0_row2_col4, #T_2f5a0_row2_col5, #T_2f5a0_row2_col6, #T_2f5a0_row3_col0, #T_2f5a0_row3_col1, #T_2f5a0_row3_col2, #T_2f5a0_row3_col3, #T_2f5a0_row3_col4, #T_2f5a0_row3_col5, #T_2f5a0_row3_col6, #T_2f5a0_row4_col0, #T_2f5a0_row4_col1, #T_2f5a0_row4_col2, #T_2f5a0_row4_col3, #T_2f5a0_row4_col4, #T_2f5a0_row4_col6, #T_2f5a0_row5_col0, #T_2f5a0_row5_col1, #T_2f5a0_row5_col2, #T_2f5a0_row5_col3, #T_2f5a0_row5_col4, #T_2f5a0_row5_col5, #T_2f5a0_row5_col6, #T_2f5a0_row6_col0, #T_2f5a0_row6_col1, #T_2f5a0_row6_col2, #T_2f5a0_row6_col3, #T_2f5a0_row6_col4, #T_2f5a0_row6_col5, #T_2f5a0_row6_col6, #T_2f5a0_row7_col0, #T_2f5a0_row7_col1, #T_2f5a0_row7_col2, #T_2f5a0_row7_col3, #T_2f5a0_row7_col4, #T_2f5a0_row7_col5, #T_2f5a0_row7_col6, #T_2f5a0_row8_col0, #T_2f5a0_row8_col1, #T_2f5a0_row8_col2, #T_2f5a0_row8_col3, #T_2f5a0_row8_col4, #T_2f5a0_row8_col5, #T_2f5a0_row8_col6, #T_2f5a0_row9_col0, #T_2f5a0_row9_col1, #T_2f5a0_row9_col2, #T_2f5a0_row9_col3, #T_2f5a0_row9_col4, #T_2f5a0_row9_col5, #T_2f5a0_row9_col6, #T_2f5a0_row10_col0, #T_2f5a0_row10_col1, #T_2f5a0_row10_col2, #T_2f5a0_row10_col3, #T_2f5a0_row10_col4, #T_2f5a0_row10_col5, #T_2f5a0_row11_col0, #T_2f5a0_row11_col1, #T_2f5a0_row11_col2, #T_2f5a0_row11_col3, #T_2f5a0_row11_col4, #T_2f5a0_row11_col5, #T_2f5a0_row11_col6, #T_2f5a0_row12_col0, #T_2f5a0_row12_col1, #T_2f5a0_row12_col2, #T_2f5a0_row12_col3, #T_2f5a0_row12_col4, #T_2f5a0_row12_col5, #T_2f5a0_row12_col6, #T_2f5a0_row13_col0, #T_2f5a0_row13_col1, #T_2f5a0_row13_col2, #T_2f5a0_row13_col3, #T_2f5a0_row13_col4, #T_2f5a0_row13_col5, #T_2f5a0_row13_col6, #T_2f5a0_row14_col0, #T_2f5a0_row14_col1, #T_2f5a0_row14_col2, #T_2f5a0_row14_col3, #T_2f5a0_row14_col4, #T_2f5a0_row14_col5, #T_2f5a0_row14_col6, #T_2f5a0_row15_col0, #T_2f5a0_row15_col1, #T_2f5a0_row15_col2, #T_2f5a0_row15_col3, #T_2f5a0_row15_col4, #T_2f5a0_row15_col5, #T_2f5a0_row15_col6, #T_2f5a0_row16_col0, #T_2f5a0_row16_col1, #T_2f5a0_row16_col2, #T_2f5a0_row16_col3, #T_2f5a0_row16_col4, #T_2f5a0_row16_col5, #T_2f5a0_row16_col6, #T_2f5a0_row17_col0, #T_2f5a0_row17_col1, #T_2f5a0_row17_col2, #T_2f5a0_row17_col3, #T_2f5a0_row17_col4, #T_2f5a0_row17_col5, #T_2f5a0_row17_col6, #T_2f5a0_row18_col0, #T_2f5a0_row18_col1, #T_2f5a0_row18_col2, #T_2f5a0_row18_col3, #T_2f5a0_row18_col4, #T_2f5a0_row18_col5, #T_2f5a0_row18_col6 {\n",
       "  text-align: left;\n",
       "}\n",
       "#T_2f5a0_row0_col2, #T_2f5a0_row0_col3, #T_2f5a0_row0_col4, #T_2f5a0_row2_col1, #T_2f5a0_row4_col5, #T_2f5a0_row10_col6 {\n",
       "  text-align: left;\n",
       "  background-color: yellow;\n",
       "}\n",
       "#T_2f5a0_row0_col7, #T_2f5a0_row1_col7, #T_2f5a0_row2_col7, #T_2f5a0_row3_col7, #T_2f5a0_row4_col7, #T_2f5a0_row5_col7, #T_2f5a0_row6_col7, #T_2f5a0_row7_col7, #T_2f5a0_row8_col7, #T_2f5a0_row9_col7, #T_2f5a0_row10_col7, #T_2f5a0_row11_col7, #T_2f5a0_row12_col7, #T_2f5a0_row13_col7, #T_2f5a0_row14_col7, #T_2f5a0_row16_col7, #T_2f5a0_row17_col7, #T_2f5a0_row18_col7 {\n",
       "  text-align: left;\n",
       "  background-color: lightgrey;\n",
       "}\n",
       "#T_2f5a0_row15_col7 {\n",
       "  text-align: left;\n",
       "  background-color: yellow;\n",
       "  background-color: lightgrey;\n",
       "}\n",
       "</style>\n",
       "<table id=\"T_2f5a0_\">\n",
       "  <thead>\n",
       "    <tr>\n",
       "      <th class=\"blank level0\" >&nbsp;</th>\n",
       "      <th class=\"col_heading level0 col0\" >Model</th>\n",
       "      <th class=\"col_heading level0 col1\" >MAE</th>\n",
       "      <th class=\"col_heading level0 col2\" >MSE</th>\n",
       "      <th class=\"col_heading level0 col3\" >RMSE</th>\n",
       "      <th class=\"col_heading level0 col4\" >R2</th>\n",
       "      <th class=\"col_heading level0 col5\" >RMSLE</th>\n",
       "      <th class=\"col_heading level0 col6\" >MAPE</th>\n",
       "      <th class=\"col_heading level0 col7\" >TT (Sec)</th>\n",
       "    </tr>\n",
       "  </thead>\n",
       "  <tbody>\n",
       "    <tr>\n",
       "      <th id=\"T_2f5a0_level0_row0\" class=\"row_heading level0 row0\" >br</th>\n",
       "      <td id=\"T_2f5a0_row0_col0\" class=\"data row0 col0\" >Bayesian Ridge</td>\n",
       "      <td id=\"T_2f5a0_row0_col1\" class=\"data row0 col1\" >27301.4456</td>\n",
       "      <td id=\"T_2f5a0_row0_col2\" class=\"data row0 col2\" >1202568055.2446</td>\n",
       "      <td id=\"T_2f5a0_row0_col3\" class=\"data row0 col3\" >34534.6833</td>\n",
       "      <td id=\"T_2f5a0_row0_col4\" class=\"data row0 col4\" >0.6123</td>\n",
       "      <td id=\"T_2f5a0_row0_col5\" class=\"data row0 col5\" >0.5279</td>\n",
       "      <td id=\"T_2f5a0_row0_col6\" class=\"data row0 col6\" >0.5064</td>\n",
       "      <td id=\"T_2f5a0_row0_col7\" class=\"data row0 col7\" >0.0120</td>\n",
       "    </tr>\n",
       "    <tr>\n",
       "      <th id=\"T_2f5a0_level0_row1\" class=\"row_heading level0 row1\" >huber</th>\n",
       "      <td id=\"T_2f5a0_row1_col0\" class=\"data row1 col0\" >Huber Regressor</td>\n",
       "      <td id=\"T_2f5a0_row1_col1\" class=\"data row1 col1\" >27455.9228</td>\n",
       "      <td id=\"T_2f5a0_row1_col2\" class=\"data row1 col2\" >1219786374.2101</td>\n",
       "      <td id=\"T_2f5a0_row1_col3\" class=\"data row1 col3\" >34785.2482</td>\n",
       "      <td id=\"T_2f5a0_row1_col4\" class=\"data row1 col4\" >0.6069</td>\n",
       "      <td id=\"T_2f5a0_row1_col5\" class=\"data row1 col5\" >0.5385</td>\n",
       "      <td id=\"T_2f5a0_row1_col6\" class=\"data row1 col6\" >0.4838</td>\n",
       "      <td id=\"T_2f5a0_row1_col7\" class=\"data row1 col7\" >0.0240</td>\n",
       "    </tr>\n",
       "    <tr>\n",
       "      <th id=\"T_2f5a0_level0_row2\" class=\"row_heading level0 row2\" >gbr</th>\n",
       "      <td id=\"T_2f5a0_row2_col0\" class=\"data row2 col0\" >Gradient Boosting Regressor</td>\n",
       "      <td id=\"T_2f5a0_row2_col1\" class=\"data row2 col1\" >27173.5952</td>\n",
       "      <td id=\"T_2f5a0_row2_col2\" class=\"data row2 col2\" >1243152686.8777</td>\n",
       "      <td id=\"T_2f5a0_row2_col3\" class=\"data row2 col3\" >35039.2043</td>\n",
       "      <td id=\"T_2f5a0_row2_col4\" class=\"data row2 col4\" >0.5988</td>\n",
       "      <td id=\"T_2f5a0_row2_col5\" class=\"data row2 col5\" >0.4936</td>\n",
       "      <td id=\"T_2f5a0_row2_col6\" class=\"data row2 col6\" >0.4953</td>\n",
       "      <td id=\"T_2f5a0_row2_col7\" class=\"data row2 col7\" >0.0260</td>\n",
       "    </tr>\n",
       "    <tr>\n",
       "      <th id=\"T_2f5a0_level0_row3\" class=\"row_heading level0 row3\" >ridge</th>\n",
       "      <td id=\"T_2f5a0_row3_col0\" class=\"data row3 col0\" >Ridge Regression</td>\n",
       "      <td id=\"T_2f5a0_row3_col1\" class=\"data row3 col1\" >27848.3151</td>\n",
       "      <td id=\"T_2f5a0_row3_col2\" class=\"data row3 col2\" >1248443402.2122</td>\n",
       "      <td id=\"T_2f5a0_row3_col3\" class=\"data row3 col3\" >35195.3877</td>\n",
       "      <td id=\"T_2f5a0_row3_col4\" class=\"data row3 col4\" >0.5967</td>\n",
       "      <td id=\"T_2f5a0_row3_col5\" class=\"data row3 col5\" >0.5483</td>\n",
       "      <td id=\"T_2f5a0_row3_col6\" class=\"data row3 col6\" >0.4926</td>\n",
       "      <td id=\"T_2f5a0_row3_col7\" class=\"data row3 col7\" >0.0060</td>\n",
       "    </tr>\n",
       "    <tr>\n",
       "      <th id=\"T_2f5a0_level0_row4\" class=\"row_heading level0 row4\" >rf</th>\n",
       "      <td id=\"T_2f5a0_row4_col0\" class=\"data row4 col0\" >Random Forest Regressor</td>\n",
       "      <td id=\"T_2f5a0_row4_col1\" class=\"data row4 col1\" >27220.0464</td>\n",
       "      <td id=\"T_2f5a0_row4_col2\" class=\"data row4 col2\" >1284291067.1310</td>\n",
       "      <td id=\"T_2f5a0_row4_col3\" class=\"data row4 col3\" >35657.9649</td>\n",
       "      <td id=\"T_2f5a0_row4_col4\" class=\"data row4 col4\" >0.5870</td>\n",
       "      <td id=\"T_2f5a0_row4_col5\" class=\"data row4 col5\" >0.4756</td>\n",
       "      <td id=\"T_2f5a0_row4_col6\" class=\"data row4 col6\" >0.4405</td>\n",
       "      <td id=\"T_2f5a0_row4_col7\" class=\"data row4 col7\" >0.1740</td>\n",
       "    </tr>\n",
       "    <tr>\n",
       "      <th id=\"T_2f5a0_level0_row5\" class=\"row_heading level0 row5\" >par</th>\n",
       "      <td id=\"T_2f5a0_row5_col0\" class=\"data row5 col0\" >Passive Aggressive Regressor</td>\n",
       "      <td id=\"T_2f5a0_row5_col1\" class=\"data row5 col1\" >28489.3138</td>\n",
       "      <td id=\"T_2f5a0_row5_col2\" class=\"data row5 col2\" >1312262637.0108</td>\n",
       "      <td id=\"T_2f5a0_row5_col3\" class=\"data row5 col3\" >36054.6947</td>\n",
       "      <td id=\"T_2f5a0_row5_col4\" class=\"data row5 col4\" >0.5775</td>\n",
       "      <td id=\"T_2f5a0_row5_col5\" class=\"data row5 col5\" >0.5200</td>\n",
       "      <td id=\"T_2f5a0_row5_col6\" class=\"data row5 col6\" >0.5539</td>\n",
       "      <td id=\"T_2f5a0_row5_col7\" class=\"data row5 col7\" >0.0500</td>\n",
       "    </tr>\n",
       "    <tr>\n",
       "      <th id=\"T_2f5a0_level0_row6\" class=\"row_heading level0 row6\" >omp</th>\n",
       "      <td id=\"T_2f5a0_row6_col0\" class=\"data row6 col0\" >Orthogonal Matching Pursuit</td>\n",
       "      <td id=\"T_2f5a0_row6_col1\" class=\"data row6 col1\" >28206.9715</td>\n",
       "      <td id=\"T_2f5a0_row6_col2\" class=\"data row6 col2\" >1340424570.9031</td>\n",
       "      <td id=\"T_2f5a0_row6_col3\" class=\"data row6 col3\" >36203.3496</td>\n",
       "      <td id=\"T_2f5a0_row6_col4\" class=\"data row6 col4\" >0.5717</td>\n",
       "      <td id=\"T_2f5a0_row6_col5\" class=\"data row6 col5\" >0.5323</td>\n",
       "      <td id=\"T_2f5a0_row6_col6\" class=\"data row6 col6\" >0.5397</td>\n",
       "      <td id=\"T_2f5a0_row6_col7\" class=\"data row6 col7\" >0.0080</td>\n",
       "    </tr>\n",
       "    <tr>\n",
       "      <th id=\"T_2f5a0_level0_row7\" class=\"row_heading level0 row7\" >lightgbm</th>\n",
       "      <td id=\"T_2f5a0_row7_col0\" class=\"data row7 col0\" >Light Gradient Boosting Machine</td>\n",
       "      <td id=\"T_2f5a0_row7_col1\" class=\"data row7 col1\" >28529.5606</td>\n",
       "      <td id=\"T_2f5a0_row7_col2\" class=\"data row7 col2\" >1356564211.4359</td>\n",
       "      <td id=\"T_2f5a0_row7_col3\" class=\"data row7 col3\" >36537.1130</td>\n",
       "      <td id=\"T_2f5a0_row7_col4\" class=\"data row7 col4\" >0.5663</td>\n",
       "      <td id=\"T_2f5a0_row7_col5\" class=\"data row7 col5\" >0.5139</td>\n",
       "      <td id=\"T_2f5a0_row7_col6\" class=\"data row7 col6\" >0.5031</td>\n",
       "      <td id=\"T_2f5a0_row7_col7\" class=\"data row7 col7\" >0.0090</td>\n",
       "    </tr>\n",
       "    <tr>\n",
       "      <th id=\"T_2f5a0_level0_row8\" class=\"row_heading level0 row8\" >xgboost</th>\n",
       "      <td id=\"T_2f5a0_row8_col0\" class=\"data row8 col0\" >Extreme Gradient Boosting</td>\n",
       "      <td id=\"T_2f5a0_row8_col1\" class=\"data row8 col1\" >28243.1520</td>\n",
       "      <td id=\"T_2f5a0_row8_col2\" class=\"data row8 col2\" >1349836165.5502</td>\n",
       "      <td id=\"T_2f5a0_row8_col3\" class=\"data row8 col3\" >36540.6992</td>\n",
       "      <td id=\"T_2f5a0_row8_col4\" class=\"data row8 col4\" >0.5641</td>\n",
       "      <td id=\"T_2f5a0_row8_col5\" class=\"data row8 col5\" >0.5439</td>\n",
       "      <td id=\"T_2f5a0_row8_col6\" class=\"data row8 col6\" >0.4743</td>\n",
       "      <td id=\"T_2f5a0_row8_col7\" class=\"data row8 col7\" >0.0640</td>\n",
       "    </tr>\n",
       "    <tr>\n",
       "      <th id=\"T_2f5a0_level0_row9\" class=\"row_heading level0 row9\" >ada</th>\n",
       "      <td id=\"T_2f5a0_row9_col0\" class=\"data row9 col0\" >AdaBoost Regressor</td>\n",
       "      <td id=\"T_2f5a0_row9_col1\" class=\"data row9 col1\" >30319.5690</td>\n",
       "      <td id=\"T_2f5a0_row9_col2\" class=\"data row9 col2\" >1470640798.7769</td>\n",
       "      <td id=\"T_2f5a0_row9_col3\" class=\"data row9 col3\" >38107.1500</td>\n",
       "      <td id=\"T_2f5a0_row9_col4\" class=\"data row9 col4\" >0.5301</td>\n",
       "      <td id=\"T_2f5a0_row9_col5\" class=\"data row9 col5\" >0.5767</td>\n",
       "      <td id=\"T_2f5a0_row9_col6\" class=\"data row9 col6\" >0.6706</td>\n",
       "      <td id=\"T_2f5a0_row9_col7\" class=\"data row9 col7\" >0.0160</td>\n",
       "    </tr>\n",
       "    <tr>\n",
       "      <th id=\"T_2f5a0_level0_row10\" class=\"row_heading level0 row10\" >et</th>\n",
       "      <td id=\"T_2f5a0_row10_col0\" class=\"data row10 col0\" >Extra Trees Regressor</td>\n",
       "      <td id=\"T_2f5a0_row10_col1\" class=\"data row10 col1\" >29470.1730</td>\n",
       "      <td id=\"T_2f5a0_row10_col2\" class=\"data row10 col2\" >1524471779.8342</td>\n",
       "      <td id=\"T_2f5a0_row10_col3\" class=\"data row10 col3\" >38844.2992</td>\n",
       "      <td id=\"T_2f5a0_row10_col4\" class=\"data row10 col4\" >0.5069</td>\n",
       "      <td id=\"T_2f5a0_row10_col5\" class=\"data row10 col5\" >0.5305</td>\n",
       "      <td id=\"T_2f5a0_row10_col6\" class=\"data row10 col6\" >0.4232</td>\n",
       "      <td id=\"T_2f5a0_row10_col7\" class=\"data row10 col7\" >0.1720</td>\n",
       "    </tr>\n",
       "    <tr>\n",
       "      <th id=\"T_2f5a0_level0_row11\" class=\"row_heading level0 row11\" >dt</th>\n",
       "      <td id=\"T_2f5a0_row11_col0\" class=\"data row11 col0\" >Decision Tree Regressor</td>\n",
       "      <td id=\"T_2f5a0_row11_col1\" class=\"data row11 col1\" >30773.8892</td>\n",
       "      <td id=\"T_2f5a0_row11_col2\" class=\"data row11 col2\" >1622739009.3194</td>\n",
       "      <td id=\"T_2f5a0_row11_col3\" class=\"data row11 col3\" >40045.3481</td>\n",
       "      <td id=\"T_2f5a0_row11_col4\" class=\"data row11 col4\" >0.4688</td>\n",
       "      <td id=\"T_2f5a0_row11_col5\" class=\"data row11 col5\" >0.5837</td>\n",
       "      <td id=\"T_2f5a0_row11_col6\" class=\"data row11 col6\" >0.4469</td>\n",
       "      <td id=\"T_2f5a0_row11_col7\" class=\"data row11 col7\" >0.0090</td>\n",
       "    </tr>\n",
       "    <tr>\n",
       "      <th id=\"T_2f5a0_level0_row12\" class=\"row_heading level0 row12\" >lasso</th>\n",
       "      <td id=\"T_2f5a0_row12_col0\" class=\"data row12 col0\" >Lasso Regression</td>\n",
       "      <td id=\"T_2f5a0_row12_col1\" class=\"data row12 col1\" >30480.9669</td>\n",
       "      <td id=\"T_2f5a0_row12_col2\" class=\"data row12 col2\" >1633141082.8720</td>\n",
       "      <td id=\"T_2f5a0_row12_col3\" class=\"data row12 col3\" >40239.8299</td>\n",
       "      <td id=\"T_2f5a0_row12_col4\" class=\"data row12 col4\" >0.4634</td>\n",
       "      <td id=\"T_2f5a0_row12_col5\" class=\"data row12 col5\" >0.6137</td>\n",
       "      <td id=\"T_2f5a0_row12_col6\" class=\"data row12 col6\" >0.5142</td>\n",
       "      <td id=\"T_2f5a0_row12_col7\" class=\"data row12 col7\" >0.0150</td>\n",
       "    </tr>\n",
       "    <tr>\n",
       "      <th id=\"T_2f5a0_level0_row13\" class=\"row_heading level0 row13\" >knn</th>\n",
       "      <td id=\"T_2f5a0_row13_col0\" class=\"data row13 col0\" >K Neighbors Regressor</td>\n",
       "      <td id=\"T_2f5a0_row13_col1\" class=\"data row13 col1\" >31814.4270</td>\n",
       "      <td id=\"T_2f5a0_row13_col2\" class=\"data row13 col2\" >1671022489.2789</td>\n",
       "      <td id=\"T_2f5a0_row13_col3\" class=\"data row13 col3\" >40498.0834</td>\n",
       "      <td id=\"T_2f5a0_row13_col4\" class=\"data row13 col4\" >0.4632</td>\n",
       "      <td id=\"T_2f5a0_row13_col5\" class=\"data row13 col5\" >0.5722</td>\n",
       "      <td id=\"T_2f5a0_row13_col6\" class=\"data row13 col6\" >0.6588</td>\n",
       "      <td id=\"T_2f5a0_row13_col7\" class=\"data row13 col7\" >0.0270</td>\n",
       "    </tr>\n",
       "    <tr>\n",
       "      <th id=\"T_2f5a0_level0_row14\" class=\"row_heading level0 row14\" >en</th>\n",
       "      <td id=\"T_2f5a0_row14_col0\" class=\"data row14 col0\" >Elastic Net</td>\n",
       "      <td id=\"T_2f5a0_row14_col1\" class=\"data row14 col1\" >33333.0915</td>\n",
       "      <td id=\"T_2f5a0_row14_col2\" class=\"data row14 col2\" >1697697055.6468</td>\n",
       "      <td id=\"T_2f5a0_row14_col3\" class=\"data row14 col3\" >40993.4822</td>\n",
       "      <td id=\"T_2f5a0_row14_col4\" class=\"data row14 col4\" >0.4570</td>\n",
       "      <td id=\"T_2f5a0_row14_col5\" class=\"data row14 col5\" >0.6262</td>\n",
       "      <td id=\"T_2f5a0_row14_col6\" class=\"data row14 col6\" >0.7964</td>\n",
       "      <td id=\"T_2f5a0_row14_col7\" class=\"data row14 col7\" >0.0110</td>\n",
       "    </tr>\n",
       "    <tr>\n",
       "      <th id=\"T_2f5a0_level0_row15\" class=\"row_heading level0 row15\" >dummy</th>\n",
       "      <td id=\"T_2f5a0_row15_col0\" class=\"data row15 col0\" >Dummy Regressor</td>\n",
       "      <td id=\"T_2f5a0_row15_col1\" class=\"data row15 col1\" >46196.4586</td>\n",
       "      <td id=\"T_2f5a0_row15_col2\" class=\"data row15 col2\" >3128158924.2671</td>\n",
       "      <td id=\"T_2f5a0_row15_col3\" class=\"data row15 col3\" >55758.1686</td>\n",
       "      <td id=\"T_2f5a0_row15_col4\" class=\"data row15 col4\" >-0.0047</td>\n",
       "      <td id=\"T_2f5a0_row15_col5\" class=\"data row15 col5\" >0.7879</td>\n",
       "      <td id=\"T_2f5a0_row15_col6\" class=\"data row15 col6\" >1.2018</td>\n",
       "      <td id=\"T_2f5a0_row15_col7\" class=\"data row15 col7\" >0.0050</td>\n",
       "    </tr>\n",
       "    <tr>\n",
       "      <th id=\"T_2f5a0_level0_row16\" class=\"row_heading level0 row16\" >lr</th>\n",
       "      <td id=\"T_2f5a0_row16_col0\" class=\"data row16 col0\" >Linear Regression</td>\n",
       "      <td id=\"T_2f5a0_row16_col1\" class=\"data row16 col1\" >35953281.5549</td>\n",
       "      <td id=\"T_2f5a0_row16_col2\" class=\"data row16 col2\" >68844997058905624.0000</td>\n",
       "      <td id=\"T_2f5a0_row16_col3\" class=\"data row16 col3\" >160808223.3149</td>\n",
       "      <td id=\"T_2f5a0_row16_col4\" class=\"data row16 col4\" >-27504149.2358</td>\n",
       "      <td id=\"T_2f5a0_row16_col5\" class=\"data row16 col5\" >2.6573</td>\n",
       "      <td id=\"T_2f5a0_row16_col6\" class=\"data row16 col6\" >1588.1094</td>\n",
       "      <td id=\"T_2f5a0_row16_col7\" class=\"data row16 col7\" >0.0070</td>\n",
       "    </tr>\n",
       "    <tr>\n",
       "      <th id=\"T_2f5a0_level0_row17\" class=\"row_heading level0 row17\" >llar</th>\n",
       "      <td id=\"T_2f5a0_row17_col0\" class=\"data row17 col0\" >Lasso Least Angle Regression</td>\n",
       "      <td id=\"T_2f5a0_row17_col1\" class=\"data row17 col1\" >803648547.7315</td>\n",
       "      <td id=\"T_2f5a0_row17_col2\" class=\"data row17 col2\" >137932399566165803008.0000</td>\n",
       "      <td id=\"T_2f5a0_row17_col3\" class=\"data row17 col3\" >5145707680.1670</td>\n",
       "      <td id=\"T_2f5a0_row17_col4\" class=\"data row17 col4\" >-42709301456.1034</td>\n",
       "      <td id=\"T_2f5a0_row17_col5\" class=\"data row17 col5\" >0.8946</td>\n",
       "      <td id=\"T_2f5a0_row17_col6\" class=\"data row17 col6\" >10147.3716</td>\n",
       "      <td id=\"T_2f5a0_row17_col7\" class=\"data row17 col7\" >0.0100</td>\n",
       "    </tr>\n",
       "    <tr>\n",
       "      <th id=\"T_2f5a0_level0_row18\" class=\"row_heading level0 row18\" >lar</th>\n",
       "      <td id=\"T_2f5a0_row18_col0\" class=\"data row18 col0\" >Least Angle Regression</td>\n",
       "      <td id=\"T_2f5a0_row18_col1\" class=\"data row18 col1\" >508734361748712980480.0000</td>\n",
       "      <td id=\"T_2f5a0_row18_col2\" class=\"data row18 col2\" >13326633977376001851490973278191274759815168.0000</td>\n",
       "      <td id=\"T_2f5a0_row18_col3\" class=\"data row18 col3\" >1563809761741041041408.0000</td>\n",
       "      <td id=\"T_2f5a0_row18_col4\" class=\"data row18 col4\" >-3710782808942475991110445156007936.0000</td>\n",
       "      <td id=\"T_2f5a0_row18_col5\" class=\"data row18 col5\" >20.4115</td>\n",
       "      <td id=\"T_2f5a0_row18_col6\" class=\"data row18 col6\" >11572023304677070.0000</td>\n",
       "      <td id=\"T_2f5a0_row18_col7\" class=\"data row18 col7\" >0.0140</td>\n",
       "    </tr>\n",
       "  </tbody>\n",
       "</table>\n"
      ],
      "text/plain": [
       "<pandas.io.formats.style.Styler at 0x18d1c3e6fc8>"
      ]
     },
     "metadata": {},
     "output_type": "display_data"
    }
   ],
   "source": [
    "from pycaret.regression import *\n",
    "\n",
    "exp_name = setup(data = df_model , target = \"salary_in_usd\")\n",
    "\n",
    "best_model = compare_models()"
   ]
  },
  {
   "cell_type": "code",
   "execution_count": null,
   "metadata": {},
   "outputs": [],
   "source": []
  }
 ],
 "metadata": {
  "kernelspec": {
   "display_name": "Python 3.7.9 64-bit",
   "language": "python",
   "name": "python3"
  },
  "language_info": {
   "codemirror_mode": {
    "name": "ipython",
    "version": 3
   },
   "file_extension": ".py",
   "mimetype": "text/x-python",
   "name": "python",
   "nbconvert_exporter": "python",
   "pygments_lexer": "ipython3",
   "version": "3.7.9"
  },
  "orig_nbformat": 4,
  "vscode": {
   "interpreter": {
    "hash": "16f3484daa4199d826ac59be93380ed5ae89d2875afe8f45f4b2e96f2f02b6fc"
   }
  }
 },
 "nbformat": 4,
 "nbformat_minor": 2
}
