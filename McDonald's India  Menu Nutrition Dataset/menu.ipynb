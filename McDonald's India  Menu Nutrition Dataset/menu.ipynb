{
 "cells": [
  {
   "cell_type": "markdown",
   "metadata": {},
   "source": [
    "https://www.kaggle.com/datasets/deepcontractor/mcdonalds-india-menu-nutrition-facts/code"
   ]
  },
  {
   "cell_type": "code",
   "execution_count": 35,
   "metadata": {},
   "outputs": [],
   "source": [
    "import numpy as np\n",
    "import pandas as pd\n",
    "import matplotlib.pyplot as plt\n",
    "import seaborn as sns\n",
    "%matplotlib inline\n",
    "import warnings\n",
    "warnings.filterwarnings('ignore')"
   ]
  },
  {
   "cell_type": "code",
   "execution_count": 68,
   "metadata": {},
   "outputs": [],
   "source": [
    "from sklearn.metrics import accuracy_score, precision_score, recall_score, f1_score \n",
    "from sklearn.metrics import confusion_matrix, classification_report\n",
    "from sklearn.ensemble import GradientBoostingClassifier\n",
    "\n",
    "gbc = GradientBoostingClassifier()\n",
    "\n",
    "from sklearn.ensemble import RandomForestClassifier\n",
    "\n",
    "r = RandomForestClassifier() \n",
    "\n",
    "from sklearn.tree import DecisionTreeClassifier\n",
    "\n",
    "d = DecisionTreeClassifier()\n",
    "\n",
    "from sklearn.linear_model import LogisticRegression\n",
    "\n",
    "log = LogisticRegression()\n",
    "\n",
    "from sklearn.neighbors import KNeighborsClassifier\n",
    "\n",
    "k = KNeighborsClassifier()\n",
    "\n",
    "from sklearn.naive_bayes import GaussianNB\n",
    "\n",
    "from sklearn.naive_bayes import BernoulliNB\n",
    "\n",
    "g = GaussianNB()\n",
    "\n",
    "b = BernoulliNB()\n",
    "\n",
    "from xgboost import XGBClassifier\n",
    "\n",
    "xgbc = XGBClassifier()\n",
    "\n",
    "from sklearn.ensemble import GradientBoostingRegressor\n",
    "\n",
    "GBR = GradientBoostingRegressor()"
   ]
  },
  {
   "cell_type": "code",
   "execution_count": 36,
   "metadata": {},
   "outputs": [],
   "source": [
    "df = pd.read_csv(\"India_Menu.csv\")"
   ]
  },
  {
   "cell_type": "code",
   "execution_count": 37,
   "metadata": {},
   "outputs": [
    {
     "data": {
      "text/html": [
       "<div>\n",
       "<style scoped>\n",
       "    .dataframe tbody tr th:only-of-type {\n",
       "        vertical-align: middle;\n",
       "    }\n",
       "\n",
       "    .dataframe tbody tr th {\n",
       "        vertical-align: top;\n",
       "    }\n",
       "\n",
       "    .dataframe thead th {\n",
       "        text-align: right;\n",
       "    }\n",
       "</style>\n",
       "<table border=\"1\" class=\"dataframe\">\n",
       "  <thead>\n",
       "    <tr style=\"text-align: right;\">\n",
       "      <th></th>\n",
       "      <th>Menu Category</th>\n",
       "      <th>Menu Items</th>\n",
       "      <th>Per Serve Size</th>\n",
       "      <th>Energy (kCal)</th>\n",
       "      <th>Protein (g)</th>\n",
       "      <th>Total fat (g)</th>\n",
       "      <th>Sat Fat (g)</th>\n",
       "      <th>Trans fat (g)</th>\n",
       "      <th>Cholesterols (mg)</th>\n",
       "      <th>Total carbohydrate (g)</th>\n",
       "      <th>Total Sugars (g)</th>\n",
       "      <th>Added Sugars (g)</th>\n",
       "      <th>Sodium (mg)</th>\n",
       "    </tr>\n",
       "  </thead>\n",
       "  <tbody>\n",
       "    <tr>\n",
       "      <th>0</th>\n",
       "      <td>Regular Menu</td>\n",
       "      <td>McVeggie™ Burger</td>\n",
       "      <td>168 g</td>\n",
       "      <td>402.05</td>\n",
       "      <td>10.24</td>\n",
       "      <td>13.83</td>\n",
       "      <td>5.34</td>\n",
       "      <td>0.16</td>\n",
       "      <td>2.49</td>\n",
       "      <td>56.54</td>\n",
       "      <td>7.90</td>\n",
       "      <td>4.49</td>\n",
       "      <td>706.13</td>\n",
       "    </tr>\n",
       "    <tr>\n",
       "      <th>1</th>\n",
       "      <td>Regular Menu</td>\n",
       "      <td>McAloo Tikki Burger®</td>\n",
       "      <td>146 g</td>\n",
       "      <td>339.52</td>\n",
       "      <td>8.50</td>\n",
       "      <td>11.31</td>\n",
       "      <td>4.27</td>\n",
       "      <td>0.20</td>\n",
       "      <td>1.47</td>\n",
       "      <td>50.27</td>\n",
       "      <td>7.05</td>\n",
       "      <td>4.07</td>\n",
       "      <td>545.34</td>\n",
       "    </tr>\n",
       "    <tr>\n",
       "      <th>2</th>\n",
       "      <td>Regular Menu</td>\n",
       "      <td>McSpicy™ Paneer Burger</td>\n",
       "      <td>199 g</td>\n",
       "      <td>652.76</td>\n",
       "      <td>20.29</td>\n",
       "      <td>39.45</td>\n",
       "      <td>17.12</td>\n",
       "      <td>0.18</td>\n",
       "      <td>21.85</td>\n",
       "      <td>52.33</td>\n",
       "      <td>8.35</td>\n",
       "      <td>5.27</td>\n",
       "      <td>1074.58</td>\n",
       "    </tr>\n",
       "    <tr>\n",
       "      <th>3</th>\n",
       "      <td>Regular Menu</td>\n",
       "      <td>Spicy Paneer Wrap</td>\n",
       "      <td>250 g</td>\n",
       "      <td>674.68</td>\n",
       "      <td>20.96</td>\n",
       "      <td>39.10</td>\n",
       "      <td>19.73</td>\n",
       "      <td>0.26</td>\n",
       "      <td>40.93</td>\n",
       "      <td>59.27</td>\n",
       "      <td>3.50</td>\n",
       "      <td>1.08</td>\n",
       "      <td>1087.46</td>\n",
       "    </tr>\n",
       "    <tr>\n",
       "      <th>4</th>\n",
       "      <td>Regular Menu</td>\n",
       "      <td>American Veg Burger</td>\n",
       "      <td>177 g</td>\n",
       "      <td>512.17</td>\n",
       "      <td>15.30</td>\n",
       "      <td>23.45</td>\n",
       "      <td>10.51</td>\n",
       "      <td>0.17</td>\n",
       "      <td>25.24</td>\n",
       "      <td>56.96</td>\n",
       "      <td>7.85</td>\n",
       "      <td>4.76</td>\n",
       "      <td>1051.24</td>\n",
       "    </tr>\n",
       "  </tbody>\n",
       "</table>\n",
       "</div>"
      ],
      "text/plain": [
       "  Menu Category              Menu Items Per Serve Size  Energy (kCal)  \\\n",
       "0  Regular Menu        McVeggie™ Burger          168 g         402.05   \n",
       "1  Regular Menu    McAloo Tikki Burger®          146 g         339.52   \n",
       "2  Regular Menu  McSpicy™ Paneer Burger          199 g         652.76   \n",
       "3  Regular Menu       Spicy Paneer Wrap          250 g         674.68   \n",
       "4  Regular Menu     American Veg Burger          177 g         512.17   \n",
       "\n",
       "   Protein (g)  Total fat (g)  Sat Fat (g)  Trans fat (g)  Cholesterols (mg)  \\\n",
       "0        10.24          13.83         5.34           0.16               2.49   \n",
       "1         8.50          11.31         4.27           0.20               1.47   \n",
       "2        20.29          39.45        17.12           0.18              21.85   \n",
       "3        20.96          39.10        19.73           0.26              40.93   \n",
       "4        15.30          23.45        10.51           0.17              25.24   \n",
       "\n",
       "   Total carbohydrate (g)  Total Sugars (g)  Added Sugars (g)  Sodium (mg)  \n",
       "0                   56.54              7.90              4.49       706.13  \n",
       "1                   50.27              7.05              4.07       545.34  \n",
       "2                   52.33              8.35              5.27      1074.58  \n",
       "3                   59.27              3.50              1.08      1087.46  \n",
       "4                   56.96              7.85              4.76      1051.24  "
      ]
     },
     "execution_count": 37,
     "metadata": {},
     "output_type": "execute_result"
    }
   ],
   "source": [
    "df.head()"
   ]
  },
  {
   "cell_type": "code",
   "execution_count": 38,
   "metadata": {},
   "outputs": [
    {
     "name": "stdout",
     "output_type": "stream",
     "text": [
      "<class 'pandas.core.frame.DataFrame'>\n",
      "RangeIndex: 141 entries, 0 to 140\n",
      "Data columns (total 13 columns):\n",
      " #   Column                  Non-Null Count  Dtype  \n",
      "---  ------                  --------------  -----  \n",
      " 0   Menu Category           141 non-null    object \n",
      " 1   Menu Items              141 non-null    object \n",
      " 2   Per Serve Size          141 non-null    object \n",
      " 3   Energy (kCal)           141 non-null    float64\n",
      " 4   Protein (g)             141 non-null    float64\n",
      " 5   Total fat (g)           141 non-null    float64\n",
      " 6   Sat Fat (g)             141 non-null    float64\n",
      " 7   Trans fat (g)           141 non-null    float64\n",
      " 8   Cholesterols (mg)       141 non-null    float64\n",
      " 9   Total carbohydrate (g)  141 non-null    float64\n",
      " 10  Total Sugars (g)        141 non-null    float64\n",
      " 11  Added Sugars (g)        141 non-null    float64\n",
      " 12  Sodium (mg)             140 non-null    float64\n",
      "dtypes: float64(10), object(3)\n",
      "memory usage: 14.4+ KB\n"
     ]
    }
   ],
   "source": [
    "df.info()"
   ]
  },
  {
   "cell_type": "code",
   "execution_count": 39,
   "metadata": {},
   "outputs": [
    {
     "data": {
      "text/plain": [
       "Menu Category             0\n",
       "Menu Items                0\n",
       "Per Serve Size            0\n",
       "Energy (kCal)             0\n",
       "Protein (g)               0\n",
       "Total fat (g)             0\n",
       "Sat Fat (g)               0\n",
       "Trans fat (g)             0\n",
       "Cholesterols (mg)         0\n",
       "Total carbohydrate (g)    0\n",
       "Total Sugars (g)          0\n",
       "Added Sugars (g)          0\n",
       "Sodium (mg)               1\n",
       "dtype: int64"
      ]
     },
     "execution_count": 39,
     "metadata": {},
     "output_type": "execute_result"
    }
   ],
   "source": [
    "df.isnull().sum()"
   ]
  },
  {
   "cell_type": "code",
   "execution_count": 40,
   "metadata": {},
   "outputs": [
    {
     "data": {
      "text/plain": [
       "0.32      2\n",
       "706.13    1\n",
       "185.73    1\n",
       "40.78     1\n",
       "51.31     1\n",
       "         ..\n",
       "804.04    1\n",
       "742.60    1\n",
       "773.60    1\n",
       "622.95    1\n",
       "10.80     1\n",
       "Name: Sodium (mg), Length: 139, dtype: int64"
      ]
     },
     "execution_count": 40,
     "metadata": {},
     "output_type": "execute_result"
    }
   ],
   "source": [
    "df[\"Sodium (mg)\"].value_counts()"
   ]
  },
  {
   "cell_type": "code",
   "execution_count": 41,
   "metadata": {},
   "outputs": [],
   "source": [
    "df[\"Sodium (mg)\"] = df[\"Sodium (mg)\"].fillna(df[\"Sodium (mg)\"].mean())"
   ]
  },
  {
   "cell_type": "code",
   "execution_count": 52,
   "metadata": {},
   "outputs": [],
   "source": [
    "df[\"species\"] = np.nan\n",
    "for i in range(len(df)):\n",
    "    if 'ml' in str(df['Per Serve Size'][i]):\n",
    "        df['species'][i] = 'drink'\n",
    "    else:\n",
    "        df['species'][i] = 'food'"
   ]
  },
  {
   "cell_type": "code",
   "execution_count": 53,
   "metadata": {},
   "outputs": [
    {
     "data": {
      "text/plain": [
       "food     73\n",
       "drink    68\n",
       "Name: species, dtype: int64"
      ]
     },
     "execution_count": 53,
     "metadata": {},
     "output_type": "execute_result"
    }
   ],
   "source": [
    "df[\"species\"].value_counts()"
   ]
  },
  {
   "cell_type": "code",
   "execution_count": 54,
   "metadata": {},
   "outputs": [],
   "source": [
    "df[\"Per Serve Size\"] = df[\"Per Serve Size\"].str.replace(\" g\" ,\"\")"
   ]
  },
  {
   "cell_type": "code",
   "execution_count": 55,
   "metadata": {},
   "outputs": [],
   "source": [
    "df[\"Per Serve Size\"] = df[\"Per Serve Size\"].str.replace(\" ml\" ,\"\")"
   ]
  },
  {
   "cell_type": "markdown",
   "metadata": {},
   "source": [
    "st"
   ]
  },
  {
   "cell_type": "code",
   "execution_count": 56,
   "metadata": {},
   "outputs": [],
   "source": [
    "df[\"Per Serve Size\"] = df[\"Per Serve Size\"].astype(\"float\")"
   ]
  },
  {
   "cell_type": "code",
   "execution_count": 57,
   "metadata": {},
   "outputs": [
    {
     "name": "stdout",
     "output_type": "stream",
     "text": [
      "<class 'pandas.core.frame.DataFrame'>\n",
      "RangeIndex: 141 entries, 0 to 140\n",
      "Data columns (total 14 columns):\n",
      " #   Column                  Non-Null Count  Dtype  \n",
      "---  ------                  --------------  -----  \n",
      " 0   Menu Category           141 non-null    object \n",
      " 1   Menu Items              141 non-null    object \n",
      " 2   Per Serve Size          141 non-null    float64\n",
      " 3   Energy (kCal)           141 non-null    float64\n",
      " 4   Protein (g)             141 non-null    float64\n",
      " 5   Total fat (g)           141 non-null    float64\n",
      " 6   Sat Fat (g)             141 non-null    float64\n",
      " 7   Trans fat (g)           141 non-null    float64\n",
      " 8   Cholesterols (mg)       141 non-null    float64\n",
      " 9   Total carbohydrate (g)  141 non-null    float64\n",
      " 10  Total Sugars (g)        141 non-null    float64\n",
      " 11  Added Sugars (g)        141 non-null    float64\n",
      " 12  Sodium (mg)             141 non-null    float64\n",
      " 13  species                 141 non-null    object \n",
      "dtypes: float64(11), object(3)\n",
      "memory usage: 15.5+ KB\n"
     ]
    }
   ],
   "source": [
    "df.info()"
   ]
  },
  {
   "cell_type": "code",
   "execution_count": 58,
   "metadata": {},
   "outputs": [
    {
     "data": {
      "text/plain": [
       "McCafe Menu        51\n",
       "Regular Menu       36\n",
       "Beverages Menu     17\n",
       "Breakfast Menu     15\n",
       "Gourmet Menu       11\n",
       "Condiments Menu     9\n",
       "Desserts Menu       2\n",
       "Name: Menu Category, dtype: int64"
      ]
     },
     "execution_count": 58,
     "metadata": {},
     "output_type": "execute_result"
    }
   ],
   "source": [
    "df[\"Menu Category\"].value_counts()"
   ]
  },
  {
   "cell_type": "code",
   "execution_count": 59,
   "metadata": {},
   "outputs": [
    {
     "data": {
      "text/plain": [
       "(array([0, 1, 2, 3, 4, 5, 6]),\n",
       " [Text(0, 0, 'Regular Menu'),\n",
       "  Text(1, 0, 'Breakfast Menu'),\n",
       "  Text(2, 0, 'McCafe Menu'),\n",
       "  Text(3, 0, 'Desserts Menu'),\n",
       "  Text(4, 0, 'Gourmet Menu'),\n",
       "  Text(5, 0, 'Beverages Menu'),\n",
       "  Text(6, 0, 'Condiments Menu')])"
      ]
     },
     "execution_count": 59,
     "metadata": {},
     "output_type": "execute_result"
    },
    {
     "data": {
      "image/png": "[encoded data removed]",
      "text/plain": [
       "<Figure size 432x288 with 1 Axes>"
      ]
     },
     "metadata": {
      "needs_background": "light"
     },
     "output_type": "display_data"
    }
   ],
   "source": [
    "sns.countplot(df[\"Menu Category\"])\n",
    "plt.xticks(rotation = 30)"
   ]
  },
  {
   "cell_type": "code",
   "execution_count": 60,
   "metadata": {},
   "outputs": [
    {
     "data": {
      "text/plain": [
       "McVeggie™ Burger                 1\n",
       "Medium Soft Serve: Strawberry    1\n",
       "American Mud Pie Shake           1\n",
       "Soft serve cone                  1\n",
       "McSwirl ChocoDip                 1\n",
       "                                ..\n",
       "Egg McMuffin                     1\n",
       "Sausage Mc Muffin with egg       1\n",
       "Sausage Mc Muffin                1\n",
       "Spicy Egg McMuffin               1\n",
       "Mixed Fruit Beverage             1\n",
       "Name: Menu Items, Length: 141, dtype: int64"
      ]
     },
     "execution_count": 60,
     "metadata": {},
     "output_type": "execute_result"
    }
   ],
   "source": [
    "df[\"Menu Items\"].value_counts()"
   ]
  },
  {
   "cell_type": "markdown",
   "metadata": {},
   "source": [
    "# Modelling"
   ]
  },
  {
   "cell_type": "code",
   "execution_count": 88,
   "metadata": {},
   "outputs": [],
   "source": [
    "y = df[\"Menu Category\"]\n",
    "\n",
    "x = df.drop([\"Menu Category\" , \"Menu Items\"], axis=1)"
   ]
  },
  {
   "cell_type": "code",
   "execution_count": 89,
   "metadata": {},
   "outputs": [],
   "source": [
    "x = pd.get_dummies(x)"
   ]
  },
  {
   "cell_type": "code",
   "execution_count": 90,
   "metadata": {},
   "outputs": [],
   "source": [
    "df_model = pd.concat([x,y] , axis=1)"
   ]
  },
  {
   "cell_type": "code",
   "execution_count": 91,
   "metadata": {},
   "outputs": [],
   "source": [
    "from sklearn.model_selection import train_test_split\n",
    "\n",
    "x_train, x_test, y_train, y_test = train_test_split(x, y, test_size = 0.2)"
   ]
  },
  {
   "cell_type": "code",
   "execution_count": 92,
   "metadata": {},
   "outputs": [],
   "source": [
    "import numpy as np"
   ]
  },
  {
   "cell_type": "code",
   "execution_count": 95,
   "metadata": {},
   "outputs": [
    {
     "data": {
      "text/html": [
       "<style type=\"text/css\">\n",
       "#T_d3fc3_ th {\n",
       "  text-align: left;\n",
       "}\n",
       "#T_d3fc3_row0_col0, #T_d3fc3_row0_col2, #T_d3fc3_row1_col0, #T_d3fc3_row1_col1, #T_d3fc3_row1_col3, #T_d3fc3_row1_col4, #T_d3fc3_row1_col5, #T_d3fc3_row1_col6, #T_d3fc3_row1_col7, #T_d3fc3_row2_col0, #T_d3fc3_row2_col1, #T_d3fc3_row2_col2, #T_d3fc3_row2_col3, #T_d3fc3_row2_col4, #T_d3fc3_row2_col5, #T_d3fc3_row2_col6, #T_d3fc3_row2_col7, #T_d3fc3_row3_col0, #T_d3fc3_row3_col1, #T_d3fc3_row3_col2, #T_d3fc3_row3_col3, #T_d3fc3_row3_col4, #T_d3fc3_row3_col5, #T_d3fc3_row3_col6, #T_d3fc3_row3_col7, #T_d3fc3_row4_col0, #T_d3fc3_row4_col1, #T_d3fc3_row4_col2, #T_d3fc3_row4_col3, #T_d3fc3_row4_col4, #T_d3fc3_row4_col5, #T_d3fc3_row4_col6, #T_d3fc3_row4_col7, #T_d3fc3_row5_col0, #T_d3fc3_row5_col1, #T_d3fc3_row5_col2, #T_d3fc3_row5_col3, #T_d3fc3_row5_col4, #T_d3fc3_row5_col5, #T_d3fc3_row5_col6, #T_d3fc3_row5_col7, #T_d3fc3_row6_col0, #T_d3fc3_row6_col1, #T_d3fc3_row6_col2, #T_d3fc3_row6_col3, #T_d3fc3_row6_col4, #T_d3fc3_row6_col5, #T_d3fc3_row6_col6, #T_d3fc3_row6_col7, #T_d3fc3_row7_col0, #T_d3fc3_row7_col1, #T_d3fc3_row7_col2, #T_d3fc3_row7_col3, #T_d3fc3_row7_col4, #T_d3fc3_row7_col5, #T_d3fc3_row7_col6, #T_d3fc3_row7_col7, #T_d3fc3_row8_col0, #T_d3fc3_row8_col1, #T_d3fc3_row8_col2, #T_d3fc3_row8_col3, #T_d3fc3_row8_col4, #T_d3fc3_row8_col5, #T_d3fc3_row8_col6, #T_d3fc3_row8_col7, #T_d3fc3_row9_col0, #T_d3fc3_row9_col1, #T_d3fc3_row9_col2, #T_d3fc3_row9_col3, #T_d3fc3_row9_col4, #T_d3fc3_row9_col5, #T_d3fc3_row9_col6, #T_d3fc3_row9_col7, #T_d3fc3_row10_col0, #T_d3fc3_row10_col1, #T_d3fc3_row10_col2, #T_d3fc3_row10_col3, #T_d3fc3_row10_col4, #T_d3fc3_row10_col5, #T_d3fc3_row10_col6, #T_d3fc3_row10_col7, #T_d3fc3_row11_col0, #T_d3fc3_row11_col1, #T_d3fc3_row11_col2, #T_d3fc3_row11_col3, #T_d3fc3_row11_col4, #T_d3fc3_row11_col5, #T_d3fc3_row11_col6, #T_d3fc3_row11_col7, #T_d3fc3_row12_col0, #T_d3fc3_row12_col1, #T_d3fc3_row12_col2, #T_d3fc3_row12_col3, #T_d3fc3_row12_col4, #T_d3fc3_row12_col5, #T_d3fc3_row12_col6, #T_d3fc3_row12_col7, #T_d3fc3_row13_col0, #T_d3fc3_row13_col1, #T_d3fc3_row13_col2, #T_d3fc3_row13_col3, #T_d3fc3_row13_col4, #T_d3fc3_row13_col5, #T_d3fc3_row13_col6, #T_d3fc3_row13_col7 {\n",
       "  text-align: left;\n",
       "}\n",
       "#T_d3fc3_row0_col1, #T_d3fc3_row0_col3, #T_d3fc3_row0_col4, #T_d3fc3_row0_col5, #T_d3fc3_row0_col6, #T_d3fc3_row0_col7, #T_d3fc3_row1_col2 {\n",
       "  text-align: left;\n",
       "  background-color: yellow;\n",
       "}\n",
       "#T_d3fc3_row0_col8, #T_d3fc3_row1_col8, #T_d3fc3_row2_col8, #T_d3fc3_row3_col8, #T_d3fc3_row4_col8, #T_d3fc3_row5_col8, #T_d3fc3_row6_col8, #T_d3fc3_row7_col8, #T_d3fc3_row8_col8, #T_d3fc3_row10_col8, #T_d3fc3_row11_col8, #T_d3fc3_row12_col8 {\n",
       "  text-align: left;\n",
       "  background-color: lightgrey;\n",
       "}\n",
       "#T_d3fc3_row9_col8, #T_d3fc3_row13_col8 {\n",
       "  text-align: left;\n",
       "  background-color: yellow;\n",
       "  background-color: lightgrey;\n",
       "}\n",
       "</style>\n",
       "<table id=\"T_d3fc3_\">\n",
       "  <thead>\n",
       "    <tr>\n",
       "      <th class=\"blank level0\" >&nbsp;</th>\n",
       "      <th class=\"col_heading level0 col0\" >Model</th>\n",
       "      <th class=\"col_heading level0 col1\" >Accuracy</th>\n",
       "      <th class=\"col_heading level0 col2\" >AUC</th>\n",
       "      <th class=\"col_heading level0 col3\" >Recall</th>\n",
       "      <th class=\"col_heading level0 col4\" >Prec.</th>\n",
       "      <th class=\"col_heading level0 col5\" >F1</th>\n",
       "      <th class=\"col_heading level0 col6\" >Kappa</th>\n",
       "      <th class=\"col_heading level0 col7\" >MCC</th>\n",
       "      <th class=\"col_heading level0 col8\" >TT (Sec)</th>\n",
       "    </tr>\n",
       "  </thead>\n",
       "  <tbody>\n",
       "    <tr>\n",
       "      <th id=\"T_d3fc3_level0_row0\" class=\"row_heading level0 row0\" >et</th>\n",
       "      <td id=\"T_d3fc3_row0_col0\" class=\"data row0 col0\" >Extra Trees Classifier</td>\n",
       "      <td id=\"T_d3fc3_row0_col1\" class=\"data row0 col1\" >0.8078</td>\n",
       "      <td id=\"T_d3fc3_row0_col2\" class=\"data row0 col2\" >0.0931</td>\n",
       "      <td id=\"T_d3fc3_row0_col3\" class=\"data row0 col3\" >0.6875</td>\n",
       "      <td id=\"T_d3fc3_row0_col4\" class=\"data row0 col4\" >0.7806</td>\n",
       "      <td id=\"T_d3fc3_row0_col5\" class=\"data row0 col5\" >0.7783</td>\n",
       "      <td id=\"T_d3fc3_row0_col6\" class=\"data row0 col6\" >0.7426</td>\n",
       "      <td id=\"T_d3fc3_row0_col7\" class=\"data row0 col7\" >0.7605</td>\n",
       "      <td id=\"T_d3fc3_row0_col8\" class=\"data row0 col8\" >0.1640</td>\n",
       "    </tr>\n",
       "    <tr>\n",
       "      <th id=\"T_d3fc3_level0_row1\" class=\"row_heading level0 row1\" >rf</th>\n",
       "      <td id=\"T_d3fc3_row1_col0\" class=\"data row1 col0\" >Random Forest Classifier</td>\n",
       "      <td id=\"T_d3fc3_row1_col1\" class=\"data row1 col1\" >0.7889</td>\n",
       "      <td id=\"T_d3fc3_row1_col2\" class=\"data row1 col2\" >0.0961</td>\n",
       "      <td id=\"T_d3fc3_row1_col3\" class=\"data row1 col3\" >0.6735</td>\n",
       "      <td id=\"T_d3fc3_row1_col4\" class=\"data row1 col4\" >0.7501</td>\n",
       "      <td id=\"T_d3fc3_row1_col5\" class=\"data row1 col5\" >0.7590</td>\n",
       "      <td id=\"T_d3fc3_row1_col6\" class=\"data row1 col6\" >0.7169</td>\n",
       "      <td id=\"T_d3fc3_row1_col7\" class=\"data row1 col7\" >0.7321</td>\n",
       "      <td id=\"T_d3fc3_row1_col8\" class=\"data row1 col8\" >0.1760</td>\n",
       "    </tr>\n",
       "    <tr>\n",
       "      <th id=\"T_d3fc3_level0_row2\" class=\"row_heading level0 row2\" >gbc</th>\n",
       "      <td id=\"T_d3fc3_row2_col0\" class=\"data row2 col0\" >Gradient Boosting Classifier</td>\n",
       "      <td id=\"T_d3fc3_row2_col1\" class=\"data row2 col1\" >0.7500</td>\n",
       "      <td id=\"T_d3fc3_row2_col2\" class=\"data row2 col2\" >0.0867</td>\n",
       "      <td id=\"T_d3fc3_row2_col3\" class=\"data row2 col3\" >0.6632</td>\n",
       "      <td id=\"T_d3fc3_row2_col4\" class=\"data row2 col4\" >0.7490</td>\n",
       "      <td id=\"T_d3fc3_row2_col5\" class=\"data row2 col5\" >0.7311</td>\n",
       "      <td id=\"T_d3fc3_row2_col6\" class=\"data row2 col6\" >0.6679</td>\n",
       "      <td id=\"T_d3fc3_row2_col7\" class=\"data row2 col7\" >0.6839</td>\n",
       "      <td id=\"T_d3fc3_row2_col8\" class=\"data row2 col8\" >0.1160</td>\n",
       "    </tr>\n",
       "    <tr>\n",
       "      <th id=\"T_d3fc3_level0_row3\" class=\"row_heading level0 row3\" >xgboost</th>\n",
       "      <td id=\"T_d3fc3_row3_col0\" class=\"data row3 col0\" >Extreme Gradient Boosting</td>\n",
       "      <td id=\"T_d3fc3_row3_col1\" class=\"data row3 col1\" >0.7178</td>\n",
       "      <td id=\"T_d3fc3_row3_col2\" class=\"data row3 col2\" >0.0000</td>\n",
       "      <td id=\"T_d3fc3_row3_col3\" class=\"data row3 col3\" >0.6486</td>\n",
       "      <td id=\"T_d3fc3_row3_col4\" class=\"data row3 col4\" >0.6951</td>\n",
       "      <td id=\"T_d3fc3_row3_col5\" class=\"data row3 col5\" >0.6909</td>\n",
       "      <td id=\"T_d3fc3_row3_col6\" class=\"data row3 col6\" >0.6526</td>\n",
       "      <td id=\"T_d3fc3_row3_col7\" class=\"data row3 col7\" >0.6682</td>\n",
       "      <td id=\"T_d3fc3_row3_col8\" class=\"data row3 col8\" >0.0250</td>\n",
       "    </tr>\n",
       "    <tr>\n",
       "      <th id=\"T_d3fc3_level0_row4\" class=\"row_heading level0 row4\" >lightgbm</th>\n",
       "      <td id=\"T_d3fc3_row4_col0\" class=\"data row4 col0\" >Light Gradient Boosting Machine</td>\n",
       "      <td id=\"T_d3fc3_row4_col1\" class=\"data row4 col1\" >0.7178</td>\n",
       "      <td id=\"T_d3fc3_row4_col2\" class=\"data row4 col2\" >0.0906</td>\n",
       "      <td id=\"T_d3fc3_row4_col3\" class=\"data row4 col3\" >0.5703</td>\n",
       "      <td id=\"T_d3fc3_row4_col4\" class=\"data row4 col4\" >0.6924</td>\n",
       "      <td id=\"T_d3fc3_row4_col5\" class=\"data row4 col5\" >0.6872</td>\n",
       "      <td id=\"T_d3fc3_row4_col6\" class=\"data row4 col6\" >0.6177</td>\n",
       "      <td id=\"T_d3fc3_row4_col7\" class=\"data row4 col7\" >0.6368</td>\n",
       "      <td id=\"T_d3fc3_row4_col8\" class=\"data row4 col8\" >0.0180</td>\n",
       "    </tr>\n",
       "    <tr>\n",
       "      <th id=\"T_d3fc3_level0_row5\" class=\"row_heading level0 row5\" >lda</th>\n",
       "      <td id=\"T_d3fc3_row5_col0\" class=\"data row5 col0\" >Linear Discriminant Analysis</td>\n",
       "      <td id=\"T_d3fc3_row5_col1\" class=\"data row5 col1\" >0.7167</td>\n",
       "      <td id=\"T_d3fc3_row5_col2\" class=\"data row5 col2\" >0.0821</td>\n",
       "      <td id=\"T_d3fc3_row5_col3\" class=\"data row5 col3\" >0.6085</td>\n",
       "      <td id=\"T_d3fc3_row5_col4\" class=\"data row5 col4\" >0.7123</td>\n",
       "      <td id=\"T_d3fc3_row5_col5\" class=\"data row5 col5\" >0.6931</td>\n",
       "      <td id=\"T_d3fc3_row5_col6\" class=\"data row5 col6\" >0.6211</td>\n",
       "      <td id=\"T_d3fc3_row5_col7\" class=\"data row5 col7\" >0.6428</td>\n",
       "      <td id=\"T_d3fc3_row5_col8\" class=\"data row5 col8\" >0.0050</td>\n",
       "    </tr>\n",
       "    <tr>\n",
       "      <th id=\"T_d3fc3_level0_row6\" class=\"row_heading level0 row6\" >knn</th>\n",
       "      <td id=\"T_d3fc3_row6_col0\" class=\"data row6 col0\" >K Neighbors Classifier</td>\n",
       "      <td id=\"T_d3fc3_row6_col1\" class=\"data row6 col1\" >0.6967</td>\n",
       "      <td id=\"T_d3fc3_row6_col2\" class=\"data row6 col2\" >0.0693</td>\n",
       "      <td id=\"T_d3fc3_row6_col3\" class=\"data row6 col3\" >0.5568</td>\n",
       "      <td id=\"T_d3fc3_row6_col4\" class=\"data row6 col4\" >0.6435</td>\n",
       "      <td id=\"T_d3fc3_row6_col5\" class=\"data row6 col5\" >0.6555</td>\n",
       "      <td id=\"T_d3fc3_row6_col6\" class=\"data row6 col6\" >0.5857</td>\n",
       "      <td id=\"T_d3fc3_row6_col7\" class=\"data row6 col7\" >0.6053</td>\n",
       "      <td id=\"T_d3fc3_row6_col8\" class=\"data row6 col8\" >0.0460</td>\n",
       "    </tr>\n",
       "    <tr>\n",
       "      <th id=\"T_d3fc3_level0_row7\" class=\"row_heading level0 row7\" >lr</th>\n",
       "      <td id=\"T_d3fc3_row7_col0\" class=\"data row7 col0\" >Logistic Regression</td>\n",
       "      <td id=\"T_d3fc3_row7_col1\" class=\"data row7 col1\" >0.6867</td>\n",
       "      <td id=\"T_d3fc3_row7_col2\" class=\"data row7 col2\" >0.0689</td>\n",
       "      <td id=\"T_d3fc3_row7_col3\" class=\"data row7 col3\" >0.5405</td>\n",
       "      <td id=\"T_d3fc3_row7_col4\" class=\"data row7 col4\" >0.6300</td>\n",
       "      <td id=\"T_d3fc3_row7_col5\" class=\"data row7 col5\" >0.6479</td>\n",
       "      <td id=\"T_d3fc3_row7_col6\" class=\"data row7 col6\" >0.5703</td>\n",
       "      <td id=\"T_d3fc3_row7_col7\" class=\"data row7 col7\" >0.5968</td>\n",
       "      <td id=\"T_d3fc3_row7_col8\" class=\"data row7 col8\" >0.0710</td>\n",
       "    </tr>\n",
       "    <tr>\n",
       "      <th id=\"T_d3fc3_level0_row8\" class=\"row_heading level0 row8\" >nb</th>\n",
       "      <td id=\"T_d3fc3_row8_col0\" class=\"data row8 col0\" >Naive Bayes</td>\n",
       "      <td id=\"T_d3fc3_row8_col1\" class=\"data row8 col1\" >0.6333</td>\n",
       "      <td id=\"T_d3fc3_row8_col2\" class=\"data row8 col2\" >0.0796</td>\n",
       "      <td id=\"T_d3fc3_row8_col3\" class=\"data row8 col3\" >0.5401</td>\n",
       "      <td id=\"T_d3fc3_row8_col4\" class=\"data row8 col4\" >0.6118</td>\n",
       "      <td id=\"T_d3fc3_row8_col5\" class=\"data row8 col5\" >0.5982</td>\n",
       "      <td id=\"T_d3fc3_row8_col6\" class=\"data row8 col6\" >0.5225</td>\n",
       "      <td id=\"T_d3fc3_row8_col7\" class=\"data row8 col7\" >0.5502</td>\n",
       "      <td id=\"T_d3fc3_row8_col8\" class=\"data row8 col8\" >0.0050</td>\n",
       "    </tr>\n",
       "    <tr>\n",
       "      <th id=\"T_d3fc3_level0_row9\" class=\"row_heading level0 row9\" >ridge</th>\n",
       "      <td id=\"T_d3fc3_row9_col0\" class=\"data row9 col0\" >Ridge Classifier</td>\n",
       "      <td id=\"T_d3fc3_row9_col1\" class=\"data row9 col1\" >0.6267</td>\n",
       "      <td id=\"T_d3fc3_row9_col2\" class=\"data row9 col2\" >0.0000</td>\n",
       "      <td id=\"T_d3fc3_row9_col3\" class=\"data row9 col3\" >0.4949</td>\n",
       "      <td id=\"T_d3fc3_row9_col4\" class=\"data row9 col4\" >0.5672</td>\n",
       "      <td id=\"T_d3fc3_row9_col5\" class=\"data row9 col5\" >0.5877</td>\n",
       "      <td id=\"T_d3fc3_row9_col6\" class=\"data row9 col6\" >0.4781</td>\n",
       "      <td id=\"T_d3fc3_row9_col7\" class=\"data row9 col7\" >0.4915</td>\n",
       "      <td id=\"T_d3fc3_row9_col8\" class=\"data row9 col8\" >0.0040</td>\n",
       "    </tr>\n",
       "    <tr>\n",
       "      <th id=\"T_d3fc3_level0_row10\" class=\"row_heading level0 row10\" >ada</th>\n",
       "      <td id=\"T_d3fc3_row10_col0\" class=\"data row10 col0\" >Ada Boost Classifier</td>\n",
       "      <td id=\"T_d3fc3_row10_col1\" class=\"data row10 col1\" >0.5922</td>\n",
       "      <td id=\"T_d3fc3_row10_col2\" class=\"data row10 col2\" >0.0706</td>\n",
       "      <td id=\"T_d3fc3_row10_col3\" class=\"data row10 col3\" >0.4550</td>\n",
       "      <td id=\"T_d3fc3_row10_col4\" class=\"data row10 col4\" >0.5162</td>\n",
       "      <td id=\"T_d3fc3_row10_col5\" class=\"data row10 col5\" >0.5214</td>\n",
       "      <td id=\"T_d3fc3_row10_col6\" class=\"data row10 col6\" >0.4240</td>\n",
       "      <td id=\"T_d3fc3_row10_col7\" class=\"data row10 col7\" >0.4603</td>\n",
       "      <td id=\"T_d3fc3_row10_col8\" class=\"data row10 col8\" >0.0220</td>\n",
       "    </tr>\n",
       "    <tr>\n",
       "      <th id=\"T_d3fc3_level0_row11\" class=\"row_heading level0 row11\" >dt</th>\n",
       "      <td id=\"T_d3fc3_row11_col0\" class=\"data row11 col0\" >Decision Tree Classifier</td>\n",
       "      <td id=\"T_d3fc3_row11_col1\" class=\"data row11 col1\" >0.5833</td>\n",
       "      <td id=\"T_d3fc3_row11_col2\" class=\"data row11 col2\" >0.0681</td>\n",
       "      <td id=\"T_d3fc3_row11_col3\" class=\"data row11 col3\" >0.4660</td>\n",
       "      <td id=\"T_d3fc3_row11_col4\" class=\"data row11 col4\" >0.5764</td>\n",
       "      <td id=\"T_d3fc3_row11_col5\" class=\"data row11 col5\" >0.5652</td>\n",
       "      <td id=\"T_d3fc3_row11_col6\" class=\"data row11 col6\" >0.4455</td>\n",
       "      <td id=\"T_d3fc3_row11_col7\" class=\"data row11 col7\" >0.4601</td>\n",
       "      <td id=\"T_d3fc3_row11_col8\" class=\"data row11 col8\" >0.0050</td>\n",
       "    </tr>\n",
       "    <tr>\n",
       "      <th id=\"T_d3fc3_level0_row12\" class=\"row_heading level0 row12\" >svm</th>\n",
       "      <td id=\"T_d3fc3_row12_col0\" class=\"data row12 col0\" >SVM - Linear Kernel</td>\n",
       "      <td id=\"T_d3fc3_row12_col1\" class=\"data row12 col1\" >0.4278</td>\n",
       "      <td id=\"T_d3fc3_row12_col2\" class=\"data row12 col2\" >0.0000</td>\n",
       "      <td id=\"T_d3fc3_row12_col3\" class=\"data row12 col3\" >0.3863</td>\n",
       "      <td id=\"T_d3fc3_row12_col4\" class=\"data row12 col4\" >0.3721</td>\n",
       "      <td id=\"T_d3fc3_row12_col5\" class=\"data row12 col5\" >0.3433</td>\n",
       "      <td id=\"T_d3fc3_row12_col6\" class=\"data row12 col6\" >0.2711</td>\n",
       "      <td id=\"T_d3fc3_row12_col7\" class=\"data row12 col7\" >0.3342</td>\n",
       "      <td id=\"T_d3fc3_row12_col8\" class=\"data row12 col8\" >0.0260</td>\n",
       "    </tr>\n",
       "    <tr>\n",
       "      <th id=\"T_d3fc3_level0_row13\" class=\"row_heading level0 row13\" >dummy</th>\n",
       "      <td id=\"T_d3fc3_row13_col0\" class=\"data row13 col0\" >Dummy Classifier</td>\n",
       "      <td id=\"T_d3fc3_row13_col1\" class=\"data row13 col1\" >0.3867</td>\n",
       "      <td id=\"T_d3fc3_row13_col2\" class=\"data row13 col2\" >0.0500</td>\n",
       "      <td id=\"T_d3fc3_row13_col3\" class=\"data row13 col3\" >0.1900</td>\n",
       "      <td id=\"T_d3fc3_row13_col4\" class=\"data row13 col4\" >0.1502</td>\n",
       "      <td id=\"T_d3fc3_row13_col5\" class=\"data row13 col5\" >0.2162</td>\n",
       "      <td id=\"T_d3fc3_row13_col6\" class=\"data row13 col6\" >0.0000</td>\n",
       "      <td id=\"T_d3fc3_row13_col7\" class=\"data row13 col7\" >0.0000</td>\n",
       "      <td id=\"T_d3fc3_row13_col8\" class=\"data row13 col8\" >0.0040</td>\n",
       "    </tr>\n",
       "  </tbody>\n",
       "</table>\n"
      ],
      "text/plain": [
       "<pandas.io.formats.style.Styler at 0x27ea2fc6b48>"
      ]
     },
     "metadata": {},
     "output_type": "display_data"
    }
   ],
   "source": [
    "from pycaret.classification import *\n",
    "\n",
    "exp_name = setup(data = df_model , target = \"Menu Category\")\n",
    "\n",
    "best_model = compare_models()"
   ]
  },
  {
   "cell_type": "markdown",
   "metadata": {},
   "source": [
    "## Menüyü en iyi tahmin eden algoritmamız Extra Trees Classifier'dır"
   ]
  }
 ],
 "metadata": {
  "kernelspec": {
   "display_name": "Python 3.7.9 64-bit",
   "language": "python",
   "name": "python3"
  },
  "language_info": {
   "codemirror_mode": {
    "name": "ipython",
    "version": 3
   },
   "file_extension": ".py",
   "mimetype": "text/x-python",
   "name": "python",
   "nbconvert_exporter": "python",
   "pygments_lexer": "ipython3",
   "version": "3.7.9"
  },
  "orig_nbformat": 4,
  "vscode": {
   "interpreter": {
    "hash": "16f3484daa4199d826ac59be93380ed5ae89d2875afe8f45f4b2e96f2f02b6fc"
   }
  }
 },
 "nbformat": 4,
 "nbformat_minor": 2
}
