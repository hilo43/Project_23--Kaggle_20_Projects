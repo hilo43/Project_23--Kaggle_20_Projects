{
 "cells": [
  {
   "cell_type": "code",
   "execution_count": null,
   "metadata": {},
   "outputs": [],
   "source": []
  },
  {
   "cell_type": "code",
   "execution_count": 84,
   "metadata": {},
   "outputs": [],
   "source": [
    "from sklearn.metrics import accuracy_score, precision_score, recall_score, f1_score \n",
    "from sklearn.metrics import confusion_matrix, classification_report\n",
    "from sklearn.metrics import confusion_matrix,roc_curve,auc,roc_auc_score,accuracy_score\n",
    "from sklearn.model_selection import train_test_split\n",
    "\n",
    "from sklearn.ensemble import GradientBoostingClassifier\n",
    "\n",
    "gbc = GradientBoostingClassifier()\n",
    "\n",
    "from sklearn.ensemble import RandomForestClassifier\n",
    "\n",
    "r = RandomForestClassifier() \n",
    "\n",
    "from sklearn.tree import DecisionTreeClassifier\n",
    "\n",
    "d = DecisionTreeClassifier()\n",
    "\n",
    "from sklearn.linear_model import LogisticRegression\n",
    "\n",
    "log = LogisticRegression()\n",
    "\n",
    "from sklearn.neighbors import KNeighborsClassifier\n",
    "\n",
    "k = KNeighborsClassifier()\n",
    "\n",
    "from sklearn.naive_bayes import GaussianNB\n",
    "\n",
    "from sklearn.naive_bayes import BernoulliNB\n",
    "\n",
    "g = GaussianNB()\n",
    "\n",
    "b = BernoulliNB()\n",
    "\n",
    "from xgboost import XGBClassifier\n",
    "\n",
    "xgbc = XGBClassifier()"
   ]
  },
  {
   "cell_type": "code",
   "execution_count": 31,
   "metadata": {},
   "outputs": [],
   "source": [
    "import pandas as pd"
   ]
  },
  {
   "cell_type": "code",
   "execution_count": 32,
   "metadata": {},
   "outputs": [],
   "source": [
    "df = pd.read_csv(\"framingham.csv\")"
   ]
  },
  {
   "cell_type": "code",
   "execution_count": 33,
   "metadata": {},
   "outputs": [
    {
     "data": {
      "text/html": [
       "<div>\n",
       "<style scoped>\n",
       "    .dataframe tbody tr th:only-of-type {\n",
       "        vertical-align: middle;\n",
       "    }\n",
       "\n",
       "    .dataframe tbody tr th {\n",
       "        vertical-align: top;\n",
       "    }\n",
       "\n",
       "    .dataframe thead th {\n",
       "        text-align: right;\n",
       "    }\n",
       "</style>\n",
       "<table border=\"1\" class=\"dataframe\">\n",
       "  <thead>\n",
       "    <tr style=\"text-align: right;\">\n",
       "      <th></th>\n",
       "      <th>male</th>\n",
       "      <th>age</th>\n",
       "      <th>education</th>\n",
       "      <th>currentSmoker</th>\n",
       "      <th>cigsPerDay</th>\n",
       "      <th>BPMeds</th>\n",
       "      <th>prevalentStroke</th>\n",
       "      <th>prevalentHyp</th>\n",
       "      <th>diabetes</th>\n",
       "      <th>totChol</th>\n",
       "      <th>sysBP</th>\n",
       "      <th>diaBP</th>\n",
       "      <th>BMI</th>\n",
       "      <th>heartRate</th>\n",
       "      <th>glucose</th>\n",
       "      <th>TenYearCHD</th>\n",
       "    </tr>\n",
       "  </thead>\n",
       "  <tbody>\n",
       "    <tr>\n",
       "      <th>0</th>\n",
       "      <td>1</td>\n",
       "      <td>39</td>\n",
       "      <td>4.0</td>\n",
       "      <td>0</td>\n",
       "      <td>0.0</td>\n",
       "      <td>0.0</td>\n",
       "      <td>0</td>\n",
       "      <td>0</td>\n",
       "      <td>0</td>\n",
       "      <td>195.0</td>\n",
       "      <td>106.0</td>\n",
       "      <td>70.0</td>\n",
       "      <td>26.97</td>\n",
       "      <td>80.0</td>\n",
       "      <td>77.0</td>\n",
       "      <td>0</td>\n",
       "    </tr>\n",
       "    <tr>\n",
       "      <th>1</th>\n",
       "      <td>0</td>\n",
       "      <td>46</td>\n",
       "      <td>2.0</td>\n",
       "      <td>0</td>\n",
       "      <td>0.0</td>\n",
       "      <td>0.0</td>\n",
       "      <td>0</td>\n",
       "      <td>0</td>\n",
       "      <td>0</td>\n",
       "      <td>250.0</td>\n",
       "      <td>121.0</td>\n",
       "      <td>81.0</td>\n",
       "      <td>28.73</td>\n",
       "      <td>95.0</td>\n",
       "      <td>76.0</td>\n",
       "      <td>0</td>\n",
       "    </tr>\n",
       "    <tr>\n",
       "      <th>2</th>\n",
       "      <td>1</td>\n",
       "      <td>48</td>\n",
       "      <td>1.0</td>\n",
       "      <td>1</td>\n",
       "      <td>20.0</td>\n",
       "      <td>0.0</td>\n",
       "      <td>0</td>\n",
       "      <td>0</td>\n",
       "      <td>0</td>\n",
       "      <td>245.0</td>\n",
       "      <td>127.5</td>\n",
       "      <td>80.0</td>\n",
       "      <td>25.34</td>\n",
       "      <td>75.0</td>\n",
       "      <td>70.0</td>\n",
       "      <td>0</td>\n",
       "    </tr>\n",
       "    <tr>\n",
       "      <th>3</th>\n",
       "      <td>0</td>\n",
       "      <td>61</td>\n",
       "      <td>3.0</td>\n",
       "      <td>1</td>\n",
       "      <td>30.0</td>\n",
       "      <td>0.0</td>\n",
       "      <td>0</td>\n",
       "      <td>1</td>\n",
       "      <td>0</td>\n",
       "      <td>225.0</td>\n",
       "      <td>150.0</td>\n",
       "      <td>95.0</td>\n",
       "      <td>28.58</td>\n",
       "      <td>65.0</td>\n",
       "      <td>103.0</td>\n",
       "      <td>1</td>\n",
       "    </tr>\n",
       "    <tr>\n",
       "      <th>4</th>\n",
       "      <td>0</td>\n",
       "      <td>46</td>\n",
       "      <td>3.0</td>\n",
       "      <td>1</td>\n",
       "      <td>23.0</td>\n",
       "      <td>0.0</td>\n",
       "      <td>0</td>\n",
       "      <td>0</td>\n",
       "      <td>0</td>\n",
       "      <td>285.0</td>\n",
       "      <td>130.0</td>\n",
       "      <td>84.0</td>\n",
       "      <td>23.10</td>\n",
       "      <td>85.0</td>\n",
       "      <td>85.0</td>\n",
       "      <td>0</td>\n",
       "    </tr>\n",
       "  </tbody>\n",
       "</table>\n",
       "</div>"
      ],
      "text/plain": [
       "   male  age  education  currentSmoker  cigsPerDay  BPMeds  prevalentStroke  \\\n",
       "0     1   39        4.0              0         0.0     0.0                0   \n",
       "1     0   46        2.0              0         0.0     0.0                0   \n",
       "2     1   48        1.0              1        20.0     0.0                0   \n",
       "3     0   61        3.0              1        30.0     0.0                0   \n",
       "4     0   46        3.0              1        23.0     0.0                0   \n",
       "\n",
       "   prevalentHyp  diabetes  totChol  sysBP  diaBP    BMI  heartRate  glucose  \\\n",
       "0             0         0    195.0  106.0   70.0  26.97       80.0     77.0   \n",
       "1             0         0    250.0  121.0   81.0  28.73       95.0     76.0   \n",
       "2             0         0    245.0  127.5   80.0  25.34       75.0     70.0   \n",
       "3             1         0    225.0  150.0   95.0  28.58       65.0    103.0   \n",
       "4             0         0    285.0  130.0   84.0  23.10       85.0     85.0   \n",
       "\n",
       "   TenYearCHD  \n",
       "0           0  \n",
       "1           0  \n",
       "2           0  \n",
       "3           1  \n",
       "4           0  "
      ]
     },
     "execution_count": 33,
     "metadata": {},
     "output_type": "execute_result"
    }
   ],
   "source": [
    "df.head()"
   ]
  },
  {
   "cell_type": "code",
   "execution_count": 34,
   "metadata": {},
   "outputs": [
    {
     "name": "stdout",
     "output_type": "stream",
     "text": [
      "<class 'pandas.core.frame.DataFrame'>\n",
      "RangeIndex: 4238 entries, 0 to 4237\n",
      "Data columns (total 16 columns):\n",
      " #   Column           Non-Null Count  Dtype  \n",
      "---  ------           --------------  -----  \n",
      " 0   male             4238 non-null   int64  \n",
      " 1   age              4238 non-null   int64  \n",
      " 2   education        4133 non-null   float64\n",
      " 3   currentSmoker    4238 non-null   int64  \n",
      " 4   cigsPerDay       4209 non-null   float64\n",
      " 5   BPMeds           4185 non-null   float64\n",
      " 6   prevalentStroke  4238 non-null   int64  \n",
      " 7   prevalentHyp     4238 non-null   int64  \n",
      " 8   diabetes         4238 non-null   int64  \n",
      " 9   totChol          4188 non-null   float64\n",
      " 10  sysBP            4238 non-null   float64\n",
      " 11  diaBP            4238 non-null   float64\n",
      " 12  BMI              4219 non-null   float64\n",
      " 13  heartRate        4237 non-null   float64\n",
      " 14  glucose          3850 non-null   float64\n",
      " 15  TenYearCHD       4238 non-null   int64  \n",
      "dtypes: float64(9), int64(7)\n",
      "memory usage: 529.9 KB\n"
     ]
    }
   ],
   "source": [
    "df.info()"
   ]
  },
  {
   "cell_type": "code",
   "execution_count": 35,
   "metadata": {},
   "outputs": [],
   "source": [
    "df = df.dropna(subset =[\"heartRate\"] )"
   ]
  },
  {
   "cell_type": "code",
   "execution_count": 36,
   "metadata": {},
   "outputs": [
    {
     "data": {
      "text/plain": [
       "male                 0\n",
       "age                  0\n",
       "education          105\n",
       "currentSmoker        0\n",
       "cigsPerDay          29\n",
       "BPMeds              53\n",
       "prevalentStroke      0\n",
       "prevalentHyp         0\n",
       "diabetes             0\n",
       "totChol             50\n",
       "sysBP                0\n",
       "diaBP                0\n",
       "BMI                 19\n",
       "heartRate            0\n",
       "glucose            388\n",
       "TenYearCHD           0\n",
       "dtype: int64"
      ]
     },
     "execution_count": 36,
     "metadata": {},
     "output_type": "execute_result"
    }
   ],
   "source": [
    "df.isnull().sum()"
   ]
  },
  {
   "cell_type": "code",
   "execution_count": 37,
   "metadata": {},
   "outputs": [
    {
     "data": {
      "text/plain": [
       "1.0    1719\n",
       "2.0    1253\n",
       "3.0     687\n",
       "4.0     473\n",
       "Name: education, dtype: int64"
      ]
     },
     "execution_count": 37,
     "metadata": {},
     "output_type": "execute_result"
    }
   ],
   "source": [
    "df[\"education\"].value_counts()"
   ]
  },
  {
   "cell_type": "code",
   "execution_count": 38,
   "metadata": {},
   "outputs": [],
   "source": [
    "df_null = df[df[\"education\"].isnull()]\n",
    "df_notnull = df[df[\"education\"].notnull()]\n"
   ]
  },
  {
   "cell_type": "code",
   "execution_count": 39,
   "metadata": {},
   "outputs": [
    {
     "data": {
      "text/html": [
       "<div>\n",
       "<style scoped>\n",
       "    .dataframe tbody tr th:only-of-type {\n",
       "        vertical-align: middle;\n",
       "    }\n",
       "\n",
       "    .dataframe tbody tr th {\n",
       "        vertical-align: top;\n",
       "    }\n",
       "\n",
       "    .dataframe thead th {\n",
       "        text-align: right;\n",
       "    }\n",
       "</style>\n",
       "<table border=\"1\" class=\"dataframe\">\n",
       "  <thead>\n",
       "    <tr style=\"text-align: right;\">\n",
       "      <th></th>\n",
       "      <th>male</th>\n",
       "      <th>age</th>\n",
       "      <th>education</th>\n",
       "      <th>currentSmoker</th>\n",
       "      <th>cigsPerDay</th>\n",
       "      <th>BPMeds</th>\n",
       "      <th>prevalentStroke</th>\n",
       "      <th>prevalentHyp</th>\n",
       "      <th>diabetes</th>\n",
       "      <th>totChol</th>\n",
       "      <th>sysBP</th>\n",
       "      <th>diaBP</th>\n",
       "      <th>BMI</th>\n",
       "      <th>heartRate</th>\n",
       "      <th>glucose</th>\n",
       "      <th>TenYearCHD</th>\n",
       "    </tr>\n",
       "  </thead>\n",
       "  <tbody>\n",
       "    <tr>\n",
       "      <th>33</th>\n",
       "      <td>1</td>\n",
       "      <td>61</td>\n",
       "      <td>NaN</td>\n",
       "      <td>1</td>\n",
       "      <td>5.0</td>\n",
       "      <td>0.0</td>\n",
       "      <td>0</td>\n",
       "      <td>0</td>\n",
       "      <td>0</td>\n",
       "      <td>175.0</td>\n",
       "      <td>134.0</td>\n",
       "      <td>82.5</td>\n",
       "      <td>18.59</td>\n",
       "      <td>72.0</td>\n",
       "      <td>75.0</td>\n",
       "      <td>1</td>\n",
       "    </tr>\n",
       "    <tr>\n",
       "      <th>36</th>\n",
       "      <td>1</td>\n",
       "      <td>56</td>\n",
       "      <td>NaN</td>\n",
       "      <td>0</td>\n",
       "      <td>0.0</td>\n",
       "      <td>0.0</td>\n",
       "      <td>0</td>\n",
       "      <td>0</td>\n",
       "      <td>0</td>\n",
       "      <td>257.0</td>\n",
       "      <td>153.5</td>\n",
       "      <td>102.0</td>\n",
       "      <td>28.09</td>\n",
       "      <td>72.0</td>\n",
       "      <td>75.0</td>\n",
       "      <td>0</td>\n",
       "    </tr>\n",
       "    <tr>\n",
       "      <th>72</th>\n",
       "      <td>0</td>\n",
       "      <td>37</td>\n",
       "      <td>NaN</td>\n",
       "      <td>0</td>\n",
       "      <td>0.0</td>\n",
       "      <td>0.0</td>\n",
       "      <td>0</td>\n",
       "      <td>0</td>\n",
       "      <td>0</td>\n",
       "      <td>200.0</td>\n",
       "      <td>119.0</td>\n",
       "      <td>79.0</td>\n",
       "      <td>33.29</td>\n",
       "      <td>67.0</td>\n",
       "      <td>87.0</td>\n",
       "      <td>0</td>\n",
       "    </tr>\n",
       "    <tr>\n",
       "      <th>184</th>\n",
       "      <td>1</td>\n",
       "      <td>67</td>\n",
       "      <td>NaN</td>\n",
       "      <td>0</td>\n",
       "      <td>0.0</td>\n",
       "      <td>0.0</td>\n",
       "      <td>0</td>\n",
       "      <td>0</td>\n",
       "      <td>0</td>\n",
       "      <td>257.0</td>\n",
       "      <td>125.0</td>\n",
       "      <td>67.5</td>\n",
       "      <td>25.95</td>\n",
       "      <td>65.0</td>\n",
       "      <td>69.0</td>\n",
       "      <td>0</td>\n",
       "    </tr>\n",
       "    <tr>\n",
       "      <th>213</th>\n",
       "      <td>0</td>\n",
       "      <td>34</td>\n",
       "      <td>NaN</td>\n",
       "      <td>0</td>\n",
       "      <td>0.0</td>\n",
       "      <td>0.0</td>\n",
       "      <td>0</td>\n",
       "      <td>0</td>\n",
       "      <td>0</td>\n",
       "      <td>163.0</td>\n",
       "      <td>107.0</td>\n",
       "      <td>71.0</td>\n",
       "      <td>23.88</td>\n",
       "      <td>73.0</td>\n",
       "      <td>80.0</td>\n",
       "      <td>0</td>\n",
       "    </tr>\n",
       "  </tbody>\n",
       "</table>\n",
       "</div>"
      ],
      "text/plain": [
       "     male  age  education  currentSmoker  cigsPerDay  BPMeds  prevalentStroke  \\\n",
       "33      1   61        NaN              1         5.0     0.0                0   \n",
       "36      1   56        NaN              0         0.0     0.0                0   \n",
       "72      0   37        NaN              0         0.0     0.0                0   \n",
       "184     1   67        NaN              0         0.0     0.0                0   \n",
       "213     0   34        NaN              0         0.0     0.0                0   \n",
       "\n",
       "     prevalentHyp  diabetes  totChol  sysBP  diaBP    BMI  heartRate  glucose  \\\n",
       "33              0         0    175.0  134.0   82.5  18.59       72.0     75.0   \n",
       "36              0         0    257.0  153.5  102.0  28.09       72.0     75.0   \n",
       "72              0         0    200.0  119.0   79.0  33.29       67.0     87.0   \n",
       "184             0         0    257.0  125.0   67.5  25.95       65.0     69.0   \n",
       "213             0         0    163.0  107.0   71.0  23.88       73.0     80.0   \n",
       "\n",
       "     TenYearCHD  \n",
       "33            1  \n",
       "36            0  \n",
       "72            0  \n",
       "184           0  \n",
       "213           0  "
      ]
     },
     "execution_count": 39,
     "metadata": {},
     "output_type": "execute_result"
    }
   ],
   "source": [
    "df_null.head()"
   ]
  },
  {
   "cell_type": "code",
   "execution_count": 40,
   "metadata": {},
   "outputs": [
    {
     "data": {
      "text/plain": [
       "education          1.000000\n",
       "age                0.165566\n",
       "BMI                0.137331\n",
       "sysBP              0.129275\n",
       "prevalentHyp       0.081655\n",
       "diaBP              0.062480\n",
       "heartRate          0.054206\n",
       "TenYearCHD         0.053552\n",
       "diabetes           0.038722\n",
       "glucose            0.035630\n",
       "prevalentStroke    0.035135\n",
       "totChol            0.023212\n",
       "currentSmoker      0.018771\n",
       "male               0.017626\n",
       "BPMeds             0.010857\n",
       "cigsPerDay         0.008262\n",
       "Name: education, dtype: float64"
      ]
     },
     "execution_count": 40,
     "metadata": {},
     "output_type": "execute_result"
    }
   ],
   "source": [
    "abs(df.corr()[\"education\"]).sort_values(ascending = False) "
   ]
  },
  {
   "cell_type": "code",
   "execution_count": 41,
   "metadata": {},
   "outputs": [],
   "source": [
    "x_train , y_train , x_test , y_test = df_notnull[[\"age\" , \"sysBP\"  ]] , df_notnull[\"education\"] , df_null[[\"age\" , \"sysBP\" ]] , df_null[[\"education\"]]"
   ]
  },
  {
   "cell_type": "code",
   "execution_count": 42,
   "metadata": {},
   "outputs": [],
   "source": [
    "r.fit(x_train,y_train)\n",
    "tahmin = r.predict(x_test)"
   ]
  },
  {
   "cell_type": "code",
   "execution_count": 43,
   "metadata": {},
   "outputs": [
    {
     "name": "stderr",
     "output_type": "stream",
     "text": [
      "c:\\Users\\oztur\\AppData\\Local\\Programs\\Python\\Python37\\lib\\site-packages\\ipykernel_launcher.py:1: SettingWithCopyWarning: \n",
      "A value is trying to be set on a copy of a slice from a DataFrame.\n",
      "Try using .loc[row_indexer,col_indexer] = value instead\n",
      "\n",
      "See the caveats in the documentation: https://pandas.pydata.org/pandas-docs/stable/user_guide/indexing.html#returning-a-view-versus-a-copy\n",
      "  \"\"\"Entry point for launching an IPython kernel.\n"
     ]
    }
   ],
   "source": [
    "df_null[\"education\"] = tahmin\n",
    "df[\"education\"].loc[df[\"education\"].isnull()] = df_null[\"education\"]"
   ]
  },
  {
   "cell_type": "code",
   "execution_count": 44,
   "metadata": {},
   "outputs": [
    {
     "data": {
      "text/plain": [
       "male                 0\n",
       "age                  0\n",
       "education            0\n",
       "currentSmoker        0\n",
       "cigsPerDay          29\n",
       "BPMeds              53\n",
       "prevalentStroke      0\n",
       "prevalentHyp         0\n",
       "diabetes             0\n",
       "totChol             50\n",
       "sysBP                0\n",
       "diaBP                0\n",
       "BMI                 19\n",
       "heartRate            0\n",
       "glucose            388\n",
       "TenYearCHD           0\n",
       "dtype: int64"
      ]
     },
     "execution_count": 44,
     "metadata": {},
     "output_type": "execute_result"
    }
   ],
   "source": [
    "df.isnull().sum()"
   ]
  },
  {
   "cell_type": "code",
   "execution_count": 45,
   "metadata": {},
   "outputs": [
    {
     "data": {
      "text/plain": [
       "0.0     2144\n",
       "20.0     734\n",
       "30.0     217\n",
       "15.0     210\n",
       "10.0     143\n",
       "9.0      130\n",
       "5.0      121\n",
       "3.0      100\n",
       "40.0      80\n",
       "1.0       67\n",
       "43.0      56\n",
       "25.0      55\n",
       "35.0      22\n",
       "2.0       18\n",
       "6.0       18\n",
       "7.0       12\n",
       "8.0       11\n",
       "60.0      11\n",
       "4.0        9\n",
       "17.0       7\n",
       "18.0       7\n",
       "50.0       6\n",
       "23.0       6\n",
       "11.0       5\n",
       "45.0       3\n",
       "13.0       3\n",
       "12.0       3\n",
       "16.0       3\n",
       "14.0       2\n",
       "19.0       2\n",
       "38.0       1\n",
       "29.0       1\n",
       "70.0       1\n",
       "Name: cigsPerDay, dtype: int64"
      ]
     },
     "execution_count": 45,
     "metadata": {},
     "output_type": "execute_result"
    }
   ],
   "source": [
    "df[\"cigsPerDay\"].value_counts()"
   ]
  },
  {
   "cell_type": "code",
   "execution_count": 47,
   "metadata": {},
   "outputs": [],
   "source": [
    "df[\"cigsPerDay\"].fillna(0 , inplace=True)"
   ]
  },
  {
   "cell_type": "code",
   "execution_count": 48,
   "metadata": {},
   "outputs": [
    {
     "data": {
      "text/plain": [
       "0.0    4060\n",
       "1.0     124\n",
       "Name: BPMeds, dtype: int64"
      ]
     },
     "execution_count": 48,
     "metadata": {},
     "output_type": "execute_result"
    }
   ],
   "source": [
    "df[\"BPMeds\"].value_counts()"
   ]
  },
  {
   "cell_type": "code",
   "execution_count": 49,
   "metadata": {},
   "outputs": [],
   "source": [
    "df[\"BPMeds\"].fillna(0 , inplace=True)"
   ]
  },
  {
   "cell_type": "code",
   "execution_count": 50,
   "metadata": {},
   "outputs": [
    {
     "data": {
      "text/plain": [
       "240.0    85\n",
       "220.0    70\n",
       "260.0    62\n",
       "210.0    61\n",
       "232.0    59\n",
       "         ..\n",
       "392.0     1\n",
       "405.0     1\n",
       "359.0     1\n",
       "398.0     1\n",
       "119.0     1\n",
       "Name: totChol, Length: 248, dtype: int64"
      ]
     },
     "execution_count": 50,
     "metadata": {},
     "output_type": "execute_result"
    }
   ],
   "source": [
    "df[\"totChol\"].value_counts()"
   ]
  },
  {
   "cell_type": "code",
   "execution_count": 51,
   "metadata": {},
   "outputs": [],
   "source": [
    "mean_value=df['totChol'].mean()\n",
    "df['totChol'].fillna(value=mean_value, inplace=True)"
   ]
  },
  {
   "cell_type": "code",
   "execution_count": 52,
   "metadata": {},
   "outputs": [
    {
     "data": {
      "text/plain": [
       "23.48    18\n",
       "22.19    18\n",
       "22.91    18\n",
       "22.54    18\n",
       "25.09    16\n",
       "         ..\n",
       "34.13     1\n",
       "23.21     1\n",
       "29.13     1\n",
       "19.87     1\n",
       "43.67     1\n",
       "Name: BMI, Length: 1363, dtype: int64"
      ]
     },
     "execution_count": 52,
     "metadata": {},
     "output_type": "execute_result"
    }
   ],
   "source": [
    "df[\"BMI\"].value_counts()"
   ]
  },
  {
   "cell_type": "code",
   "execution_count": 53,
   "metadata": {},
   "outputs": [],
   "source": [
    "mean_value=df['BMI'].mean()\n",
    "df['BMI'].fillna(value=mean_value, inplace=True)"
   ]
  },
  {
   "cell_type": "code",
   "execution_count": 54,
   "metadata": {},
   "outputs": [
    {
     "data": {
      "text/plain": [
       "75.0     193\n",
       "77.0     167\n",
       "73.0     156\n",
       "80.0     152\n",
       "70.0     152\n",
       "        ... \n",
       "386.0      1\n",
       "155.0      1\n",
       "147.0      1\n",
       "205.0      1\n",
       "260.0      1\n",
       "Name: glucose, Length: 143, dtype: int64"
      ]
     },
     "execution_count": 54,
     "metadata": {},
     "output_type": "execute_result"
    }
   ],
   "source": [
    "df[\"glucose\"].value_counts()"
   ]
  },
  {
   "cell_type": "code",
   "execution_count": 56,
   "metadata": {},
   "outputs": [],
   "source": [
    "from sklearn.ensemble import GradientBoostingRegressor\n",
    "\n",
    "gbr = GradientBoostingRegressor()"
   ]
  },
  {
   "cell_type": "code",
   "execution_count": 57,
   "metadata": {},
   "outputs": [
    {
     "data": {
      "text/plain": [
       "glucose            1.000000\n",
       "diabetes           0.617657\n",
       "sysBP              0.140506\n",
       "TenYearCHD         0.125406\n",
       "age                0.122139\n",
       "heartRate          0.094500\n",
       "prevalentHyp       0.086715\n",
       "BMI                0.086346\n",
       "diaBP              0.061301\n",
       "cigsPerDay         0.059553\n",
       "currentSmoker      0.056935\n",
       "BPMeds             0.050982\n",
       "totChol            0.046414\n",
       "education          0.034603\n",
       "prevalentStroke    0.018439\n",
       "male               0.005974\n",
       "Name: glucose, dtype: float64"
      ]
     },
     "execution_count": 57,
     "metadata": {},
     "output_type": "execute_result"
    }
   ],
   "source": [
    "abs(df.corr()[\"glucose\"]).sort_values(ascending = False) "
   ]
  },
  {
   "cell_type": "code",
   "execution_count": 58,
   "metadata": {},
   "outputs": [],
   "source": [
    "df_null = df[df[\"glucose\"].isnull()]\n",
    "df_notnull = df[df[\"glucose\"].notnull()]\n"
   ]
  },
  {
   "cell_type": "code",
   "execution_count": 59,
   "metadata": {},
   "outputs": [],
   "source": [
    "x_train , y_train , x_test , y_test = df_notnull[[\"diabetes\" , \"TenYearCHD\" ,\"age\" ]] , df_notnull[\"glucose\"] , df_null[[\"diabetes\" , \"TenYearCHD\" ,\"age\" ]] , df_null[[\"glucose\"]]"
   ]
  },
  {
   "cell_type": "code",
   "execution_count": 60,
   "metadata": {},
   "outputs": [],
   "source": [
    "gbr.fit(x_train,y_train)\n",
    "tahmin = gbr.predict(x_test)"
   ]
  },
  {
   "cell_type": "code",
   "execution_count": 61,
   "metadata": {},
   "outputs": [
    {
     "name": "stderr",
     "output_type": "stream",
     "text": [
      "c:\\Users\\oztur\\AppData\\Local\\Programs\\Python\\Python37\\lib\\site-packages\\ipykernel_launcher.py:1: SettingWithCopyWarning: \n",
      "A value is trying to be set on a copy of a slice from a DataFrame.\n",
      "Try using .loc[row_indexer,col_indexer] = value instead\n",
      "\n",
      "See the caveats in the documentation: https://pandas.pydata.org/pandas-docs/stable/user_guide/indexing.html#returning-a-view-versus-a-copy\n",
      "  \"\"\"Entry point for launching an IPython kernel.\n"
     ]
    }
   ],
   "source": [
    "df_null[\"glucose\"] = tahmin\n",
    "df[\"glucose\"].loc[df[\"glucose\"].isnull()] = df_null[\"glucose\"]"
   ]
  },
  {
   "cell_type": "code",
   "execution_count": 62,
   "metadata": {},
   "outputs": [
    {
     "data": {
      "text/plain": [
       "male               0\n",
       "age                0\n",
       "education          0\n",
       "currentSmoker      0\n",
       "cigsPerDay         0\n",
       "BPMeds             0\n",
       "prevalentStroke    0\n",
       "prevalentHyp       0\n",
       "diabetes           0\n",
       "totChol            0\n",
       "sysBP              0\n",
       "diaBP              0\n",
       "BMI                0\n",
       "heartRate          0\n",
       "glucose            0\n",
       "TenYearCHD         0\n",
       "dtype: int64"
      ]
     },
     "execution_count": 62,
     "metadata": {},
     "output_type": "execute_result"
    }
   ],
   "source": [
    "df.isnull().sum()"
   ]
  },
  {
   "cell_type": "code",
   "execution_count": 63,
   "metadata": {},
   "outputs": [
    {
     "data": {
      "text/html": [
       "<div>\n",
       "<style scoped>\n",
       "    .dataframe tbody tr th:only-of-type {\n",
       "        vertical-align: middle;\n",
       "    }\n",
       "\n",
       "    .dataframe tbody tr th {\n",
       "        vertical-align: top;\n",
       "    }\n",
       "\n",
       "    .dataframe thead th {\n",
       "        text-align: right;\n",
       "    }\n",
       "</style>\n",
       "<table border=\"1\" class=\"dataframe\">\n",
       "  <thead>\n",
       "    <tr style=\"text-align: right;\">\n",
       "      <th></th>\n",
       "      <th>male</th>\n",
       "      <th>age</th>\n",
       "      <th>education</th>\n",
       "      <th>currentSmoker</th>\n",
       "      <th>cigsPerDay</th>\n",
       "      <th>BPMeds</th>\n",
       "      <th>prevalentStroke</th>\n",
       "      <th>prevalentHyp</th>\n",
       "      <th>diabetes</th>\n",
       "      <th>totChol</th>\n",
       "      <th>sysBP</th>\n",
       "      <th>diaBP</th>\n",
       "      <th>BMI</th>\n",
       "      <th>heartRate</th>\n",
       "      <th>glucose</th>\n",
       "      <th>TenYearCHD</th>\n",
       "    </tr>\n",
       "  </thead>\n",
       "  <tbody>\n",
       "    <tr>\n",
       "      <th>0</th>\n",
       "      <td>1</td>\n",
       "      <td>39</td>\n",
       "      <td>4.0</td>\n",
       "      <td>0</td>\n",
       "      <td>0.0</td>\n",
       "      <td>0.0</td>\n",
       "      <td>0</td>\n",
       "      <td>0</td>\n",
       "      <td>0</td>\n",
       "      <td>195.0</td>\n",
       "      <td>106.0</td>\n",
       "      <td>70.0</td>\n",
       "      <td>26.97</td>\n",
       "      <td>80.0</td>\n",
       "      <td>77.0</td>\n",
       "      <td>0</td>\n",
       "    </tr>\n",
       "    <tr>\n",
       "      <th>1</th>\n",
       "      <td>0</td>\n",
       "      <td>46</td>\n",
       "      <td>2.0</td>\n",
       "      <td>0</td>\n",
       "      <td>0.0</td>\n",
       "      <td>0.0</td>\n",
       "      <td>0</td>\n",
       "      <td>0</td>\n",
       "      <td>0</td>\n",
       "      <td>250.0</td>\n",
       "      <td>121.0</td>\n",
       "      <td>81.0</td>\n",
       "      <td>28.73</td>\n",
       "      <td>95.0</td>\n",
       "      <td>76.0</td>\n",
       "      <td>0</td>\n",
       "    </tr>\n",
       "    <tr>\n",
       "      <th>2</th>\n",
       "      <td>1</td>\n",
       "      <td>48</td>\n",
       "      <td>1.0</td>\n",
       "      <td>1</td>\n",
       "      <td>20.0</td>\n",
       "      <td>0.0</td>\n",
       "      <td>0</td>\n",
       "      <td>0</td>\n",
       "      <td>0</td>\n",
       "      <td>245.0</td>\n",
       "      <td>127.5</td>\n",
       "      <td>80.0</td>\n",
       "      <td>25.34</td>\n",
       "      <td>75.0</td>\n",
       "      <td>70.0</td>\n",
       "      <td>0</td>\n",
       "    </tr>\n",
       "    <tr>\n",
       "      <th>3</th>\n",
       "      <td>0</td>\n",
       "      <td>61</td>\n",
       "      <td>3.0</td>\n",
       "      <td>1</td>\n",
       "      <td>30.0</td>\n",
       "      <td>0.0</td>\n",
       "      <td>0</td>\n",
       "      <td>1</td>\n",
       "      <td>0</td>\n",
       "      <td>225.0</td>\n",
       "      <td>150.0</td>\n",
       "      <td>95.0</td>\n",
       "      <td>28.58</td>\n",
       "      <td>65.0</td>\n",
       "      <td>103.0</td>\n",
       "      <td>1</td>\n",
       "    </tr>\n",
       "    <tr>\n",
       "      <th>4</th>\n",
       "      <td>0</td>\n",
       "      <td>46</td>\n",
       "      <td>3.0</td>\n",
       "      <td>1</td>\n",
       "      <td>23.0</td>\n",
       "      <td>0.0</td>\n",
       "      <td>0</td>\n",
       "      <td>0</td>\n",
       "      <td>0</td>\n",
       "      <td>285.0</td>\n",
       "      <td>130.0</td>\n",
       "      <td>84.0</td>\n",
       "      <td>23.10</td>\n",
       "      <td>85.0</td>\n",
       "      <td>85.0</td>\n",
       "      <td>0</td>\n",
       "    </tr>\n",
       "  </tbody>\n",
       "</table>\n",
       "</div>"
      ],
      "text/plain": [
       "   male  age  education  currentSmoker  cigsPerDay  BPMeds  prevalentStroke  \\\n",
       "0     1   39        4.0              0         0.0     0.0                0   \n",
       "1     0   46        2.0              0         0.0     0.0                0   \n",
       "2     1   48        1.0              1        20.0     0.0                0   \n",
       "3     0   61        3.0              1        30.0     0.0                0   \n",
       "4     0   46        3.0              1        23.0     0.0                0   \n",
       "\n",
       "   prevalentHyp  diabetes  totChol  sysBP  diaBP    BMI  heartRate  glucose  \\\n",
       "0             0         0    195.0  106.0   70.0  26.97       80.0     77.0   \n",
       "1             0         0    250.0  121.0   81.0  28.73       95.0     76.0   \n",
       "2             0         0    245.0  127.5   80.0  25.34       75.0     70.0   \n",
       "3             1         0    225.0  150.0   95.0  28.58       65.0    103.0   \n",
       "4             0         0    285.0  130.0   84.0  23.10       85.0     85.0   \n",
       "\n",
       "   TenYearCHD  \n",
       "0           0  \n",
       "1           0  \n",
       "2           0  \n",
       "3           1  \n",
       "4           0  "
      ]
     },
     "execution_count": 63,
     "metadata": {},
     "output_type": "execute_result"
    }
   ],
   "source": [
    "df.head()"
   ]
  },
  {
   "cell_type": "code",
   "execution_count": 64,
   "metadata": {},
   "outputs": [],
   "source": [
    "df[\"male\"] = df[\"male\"].astype(\"category\")"
   ]
  },
  {
   "cell_type": "code",
   "execution_count": 68,
   "metadata": {},
   "outputs": [
    {
     "data": {
      "text/plain": [
       "0    3594\n",
       "1     643\n",
       "Name: TenYearCHD, dtype: int64"
      ]
     },
     "execution_count": 68,
     "metadata": {},
     "output_type": "execute_result"
    }
   ],
   "source": [
    "df[\"TenYearCHD\"].value_counts()"
   ]
  },
  {
   "cell_type": "code",
   "execution_count": 70,
   "metadata": {},
   "outputs": [
    {
     "data": {
      "text/plain": [
       "TenYearCHD         1.000000\n",
       "age                0.224541\n",
       "sysBP              0.215640\n",
       "prevalentHyp       0.176935\n",
       "diaBP              0.145772\n",
       "glucose            0.127912\n",
       "diabetes           0.097472\n",
       "BPMeds             0.086571\n",
       "totChol            0.081903\n",
       "BMI                0.074257\n",
       "prevalentStroke    0.061894\n",
       "cigsPerDay         0.058477\n",
       "education          0.054744\n",
       "heartRate          0.022913\n",
       "currentSmoker      0.018907\n",
       "Name: TenYearCHD, dtype: float64"
      ]
     },
     "execution_count": 70,
     "metadata": {},
     "output_type": "execute_result"
    }
   ],
   "source": [
    "abs(df.corr()[\"TenYearCHD\"]).sort_values(ascending = False)"
   ]
  },
  {
   "cell_type": "code",
   "execution_count": 75,
   "metadata": {},
   "outputs": [],
   "source": [
    "df_model = df[[\"TenYearCHD\",\"age\",\"sysBP\",\"prevalentHyp\",\"diaBP\"]]"
   ]
  },
  {
   "cell_type": "code",
   "execution_count": 76,
   "metadata": {},
   "outputs": [],
   "source": [
    "import numpy as np"
   ]
  },
  {
   "cell_type": "code",
   "execution_count": 77,
   "metadata": {},
   "outputs": [
    {
     "data": {
      "text/html": [
       "<style type=\"text/css\">\n",
       "#T_99550_ th {\n",
       "  text-align: left;\n",
       "}\n",
       "#T_99550_row0_col0, #T_99550_row0_col3, #T_99550_row0_col5, #T_99550_row0_col6, #T_99550_row0_col7, #T_99550_row1_col0, #T_99550_row1_col1, #T_99550_row1_col2, #T_99550_row1_col3, #T_99550_row1_col4, #T_99550_row1_col5, #T_99550_row1_col6, #T_99550_row1_col7, #T_99550_row2_col0, #T_99550_row2_col1, #T_99550_row2_col2, #T_99550_row2_col3, #T_99550_row2_col4, #T_99550_row2_col5, #T_99550_row2_col6, #T_99550_row2_col7, #T_99550_row3_col0, #T_99550_row3_col1, #T_99550_row3_col2, #T_99550_row3_col3, #T_99550_row3_col4, #T_99550_row3_col5, #T_99550_row3_col6, #T_99550_row3_col7, #T_99550_row4_col0, #T_99550_row4_col1, #T_99550_row4_col2, #T_99550_row4_col3, #T_99550_row4_col4, #T_99550_row4_col5, #T_99550_row4_col6, #T_99550_row4_col7, #T_99550_row5_col0, #T_99550_row5_col1, #T_99550_row5_col2, #T_99550_row5_col3, #T_99550_row5_col4, #T_99550_row5_col5, #T_99550_row5_col6, #T_99550_row5_col7, #T_99550_row6_col0, #T_99550_row6_col1, #T_99550_row6_col2, #T_99550_row6_col3, #T_99550_row6_col4, #T_99550_row6_col5, #T_99550_row6_col6, #T_99550_row6_col7, #T_99550_row7_col0, #T_99550_row7_col1, #T_99550_row7_col2, #T_99550_row7_col3, #T_99550_row7_col4, #T_99550_row7_col5, #T_99550_row7_col6, #T_99550_row7_col7, #T_99550_row8_col0, #T_99550_row8_col1, #T_99550_row8_col2, #T_99550_row8_col3, #T_99550_row8_col4, #T_99550_row8_col5, #T_99550_row8_col6, #T_99550_row8_col7, #T_99550_row9_col0, #T_99550_row9_col1, #T_99550_row9_col2, #T_99550_row9_col3, #T_99550_row9_col4, #T_99550_row9_col5, #T_99550_row9_col6, #T_99550_row9_col7, #T_99550_row10_col0, #T_99550_row10_col1, #T_99550_row10_col2, #T_99550_row10_col3, #T_99550_row10_col4, #T_99550_row10_col5, #T_99550_row10_col6, #T_99550_row10_col7, #T_99550_row11_col0, #T_99550_row11_col1, #T_99550_row11_col2, #T_99550_row11_col3, #T_99550_row11_col4, #T_99550_row11_col5, #T_99550_row11_col6, #T_99550_row11_col7, #T_99550_row12_col0, #T_99550_row12_col1, #T_99550_row12_col2, #T_99550_row12_col4, #T_99550_row13_col0, #T_99550_row13_col1, #T_99550_row13_col2, #T_99550_row13_col3, #T_99550_row13_col4, #T_99550_row13_col5, #T_99550_row13_col6, #T_99550_row13_col7, #T_99550_row14_col0, #T_99550_row14_col1, #T_99550_row14_col2, #T_99550_row14_col3, #T_99550_row14_col4, #T_99550_row14_col5, #T_99550_row14_col6, #T_99550_row14_col7 {\n",
       "  text-align: left;\n",
       "}\n",
       "#T_99550_row0_col1, #T_99550_row0_col2, #T_99550_row0_col4, #T_99550_row12_col3, #T_99550_row12_col5, #T_99550_row12_col6, #T_99550_row12_col7 {\n",
       "  text-align: left;\n",
       "  background-color: yellow;\n",
       "}\n",
       "#T_99550_row0_col8, #T_99550_row1_col8, #T_99550_row3_col8, #T_99550_row4_col8, #T_99550_row5_col8, #T_99550_row6_col8, #T_99550_row7_col8, #T_99550_row8_col8, #T_99550_row9_col8, #T_99550_row10_col8, #T_99550_row11_col8, #T_99550_row12_col8, #T_99550_row13_col8, #T_99550_row14_col8 {\n",
       "  text-align: left;\n",
       "  background-color: lightgrey;\n",
       "}\n",
       "#T_99550_row2_col8 {\n",
       "  text-align: left;\n",
       "  background-color: yellow;\n",
       "  background-color: lightgrey;\n",
       "}\n",
       "</style>\n",
       "<table id=\"T_99550_\">\n",
       "  <thead>\n",
       "    <tr>\n",
       "      <th class=\"blank level0\" >&nbsp;</th>\n",
       "      <th class=\"col_heading level0 col0\" >Model</th>\n",
       "      <th class=\"col_heading level0 col1\" >Accuracy</th>\n",
       "      <th class=\"col_heading level0 col2\" >AUC</th>\n",
       "      <th class=\"col_heading level0 col3\" >Recall</th>\n",
       "      <th class=\"col_heading level0 col4\" >Prec.</th>\n",
       "      <th class=\"col_heading level0 col5\" >F1</th>\n",
       "      <th class=\"col_heading level0 col6\" >Kappa</th>\n",
       "      <th class=\"col_heading level0 col7\" >MCC</th>\n",
       "      <th class=\"col_heading level0 col8\" >TT (Sec)</th>\n",
       "    </tr>\n",
       "  </thead>\n",
       "  <tbody>\n",
       "    <tr>\n",
       "      <th id=\"T_99550_level0_row0\" class=\"row_heading level0 row0\" >lr</th>\n",
       "      <td id=\"T_99550_row0_col0\" class=\"data row0 col0\" >Logistic Regression</td>\n",
       "      <td id=\"T_99550_row0_col1\" class=\"data row0 col1\" >0.8496</td>\n",
       "      <td id=\"T_99550_row0_col2\" class=\"data row0 col2\" >0.7066</td>\n",
       "      <td id=\"T_99550_row0_col3\" class=\"data row0 col3\" >0.0288</td>\n",
       "      <td id=\"T_99550_row0_col4\" class=\"data row0 col4\" >0.5267</td>\n",
       "      <td id=\"T_99550_row0_col5\" class=\"data row0 col5\" >0.0540</td>\n",
       "      <td id=\"T_99550_row0_col6\" class=\"data row0 col6\" >0.0415</td>\n",
       "      <td id=\"T_99550_row0_col7\" class=\"data row0 col7\" >0.0964</td>\n",
       "      <td id=\"T_99550_row0_col8\" class=\"data row0 col8\" >0.4760</td>\n",
       "    </tr>\n",
       "    <tr>\n",
       "      <th id=\"T_99550_level0_row1\" class=\"row_heading level0 row1\" >ridge</th>\n",
       "      <td id=\"T_99550_row1_col0\" class=\"data row1 col0\" >Ridge Classifier</td>\n",
       "      <td id=\"T_99550_row1_col1\" class=\"data row1 col1\" >0.8489</td>\n",
       "      <td id=\"T_99550_row1_col2\" class=\"data row1 col2\" >0.0000</td>\n",
       "      <td id=\"T_99550_row1_col3\" class=\"data row1 col3\" >0.0067</td>\n",
       "      <td id=\"T_99550_row1_col4\" class=\"data row1 col4\" >0.3000</td>\n",
       "      <td id=\"T_99550_row1_col5\" class=\"data row1 col5\" >0.0130</td>\n",
       "      <td id=\"T_99550_row1_col6\" class=\"data row1 col6\" >0.0111</td>\n",
       "      <td id=\"T_99550_row1_col7\" class=\"data row1 col7\" >0.0413</td>\n",
       "      <td id=\"T_99550_row1_col8\" class=\"data row1 col8\" >0.0050</td>\n",
       "    </tr>\n",
       "    <tr>\n",
       "      <th id=\"T_99550_level0_row2\" class=\"row_heading level0 row2\" >dummy</th>\n",
       "      <td id=\"T_99550_row2_col0\" class=\"data row2 col0\" >Dummy Classifier</td>\n",
       "      <td id=\"T_99550_row2_col1\" class=\"data row2 col1\" >0.8479</td>\n",
       "      <td id=\"T_99550_row2_col2\" class=\"data row2 col2\" >0.5000</td>\n",
       "      <td id=\"T_99550_row2_col3\" class=\"data row2 col3\" >0.0000</td>\n",
       "      <td id=\"T_99550_row2_col4\" class=\"data row2 col4\" >0.0000</td>\n",
       "      <td id=\"T_99550_row2_col5\" class=\"data row2 col5\" >0.0000</td>\n",
       "      <td id=\"T_99550_row2_col6\" class=\"data row2 col6\" >0.0000</td>\n",
       "      <td id=\"T_99550_row2_col7\" class=\"data row2 col7\" >0.0000</td>\n",
       "      <td id=\"T_99550_row2_col8\" class=\"data row2 col8\" >0.0040</td>\n",
       "    </tr>\n",
       "    <tr>\n",
       "      <th id=\"T_99550_level0_row3\" class=\"row_heading level0 row3\" >lda</th>\n",
       "      <td id=\"T_99550_row3_col0\" class=\"data row3 col0\" >Linear Discriminant Analysis</td>\n",
       "      <td id=\"T_99550_row3_col1\" class=\"data row3 col1\" >0.8435</td>\n",
       "      <td id=\"T_99550_row3_col2\" class=\"data row3 col2\" >0.7053</td>\n",
       "      <td id=\"T_99550_row3_col3\" class=\"data row3 col3\" >0.0466</td>\n",
       "      <td id=\"T_99550_row3_col4\" class=\"data row3 col4\" >0.4025</td>\n",
       "      <td id=\"T_99550_row3_col5\" class=\"data row3 col5\" >0.0823</td>\n",
       "      <td id=\"T_99550_row3_col6\" class=\"data row3 col6\" >0.0514</td>\n",
       "      <td id=\"T_99550_row3_col7\" class=\"data row3 col7\" >0.0897</td>\n",
       "      <td id=\"T_99550_row3_col8\" class=\"data row3 col8\" >0.0060</td>\n",
       "    </tr>\n",
       "    <tr>\n",
       "      <th id=\"T_99550_level0_row4\" class=\"row_heading level0 row4\" >ada</th>\n",
       "      <td id=\"T_99550_row4_col0\" class=\"data row4 col0\" >Ada Boost Classifier</td>\n",
       "      <td id=\"T_99550_row4_col1\" class=\"data row4 col1\" >0.8425</td>\n",
       "      <td id=\"T_99550_row4_col2\" class=\"data row4 col2\" >0.6706</td>\n",
       "      <td id=\"T_99550_row4_col3\" class=\"data row4 col3\" >0.0155</td>\n",
       "      <td id=\"T_99550_row4_col4\" class=\"data row4 col4\" >0.2983</td>\n",
       "      <td id=\"T_99550_row4_col5\" class=\"data row4 col5\" >0.0290</td>\n",
       "      <td id=\"T_99550_row4_col6\" class=\"data row4 col6\" >0.0104</td>\n",
       "      <td id=\"T_99550_row4_col7\" class=\"data row4 col7\" >0.0298</td>\n",
       "      <td id=\"T_99550_row4_col8\" class=\"data row4 col8\" >0.0340</td>\n",
       "    </tr>\n",
       "    <tr>\n",
       "      <th id=\"T_99550_level0_row5\" class=\"row_heading level0 row5\" >gbc</th>\n",
       "      <td id=\"T_99550_row5_col0\" class=\"data row5 col0\" >Gradient Boosting Classifier</td>\n",
       "      <td id=\"T_99550_row5_col1\" class=\"data row5 col1\" >0.8422</td>\n",
       "      <td id=\"T_99550_row5_col2\" class=\"data row5 col2\" >0.6752</td>\n",
       "      <td id=\"T_99550_row5_col3\" class=\"data row5 col3\" >0.0288</td>\n",
       "      <td id=\"T_99550_row5_col4\" class=\"data row5 col4\" >0.2688</td>\n",
       "      <td id=\"T_99550_row5_col5\" class=\"data row5 col5\" >0.0516</td>\n",
       "      <td id=\"T_99550_row5_col6\" class=\"data row5 col6\" >0.0264</td>\n",
       "      <td id=\"T_99550_row5_col7\" class=\"data row5 col7\" >0.0451</td>\n",
       "      <td id=\"T_99550_row5_col8\" class=\"data row5 col8\" >0.0460</td>\n",
       "    </tr>\n",
       "    <tr>\n",
       "      <th id=\"T_99550_level0_row6\" class=\"row_heading level0 row6\" >qda</th>\n",
       "      <td id=\"T_99550_row6_col0\" class=\"data row6 col0\" >Quadratic Discriminant Analysis</td>\n",
       "      <td id=\"T_99550_row6_col1\" class=\"data row6 col1\" >0.8320</td>\n",
       "      <td id=\"T_99550_row6_col2\" class=\"data row6 col2\" >0.6913</td>\n",
       "      <td id=\"T_99550_row6_col3\" class=\"data row6 col3\" >0.1286</td>\n",
       "      <td id=\"T_99550_row6_col4\" class=\"data row6 col4\" >0.3500</td>\n",
       "      <td id=\"T_99550_row6_col5\" class=\"data row6 col5\" >0.1871</td>\n",
       "      <td id=\"T_99550_row6_col6\" class=\"data row6 col6\" >0.1165</td>\n",
       "      <td id=\"T_99550_row6_col7\" class=\"data row6 col7\" >0.1346</td>\n",
       "      <td id=\"T_99550_row6_col8\" class=\"data row6 col8\" >0.0060</td>\n",
       "    </tr>\n",
       "    <tr>\n",
       "      <th id=\"T_99550_level0_row7\" class=\"row_heading level0 row7\" >lightgbm</th>\n",
       "      <td id=\"T_99550_row7_col0\" class=\"data row7 col0\" >Light Gradient Boosting Machine</td>\n",
       "      <td id=\"T_99550_row7_col1\" class=\"data row7 col1\" >0.8273</td>\n",
       "      <td id=\"T_99550_row7_col2\" class=\"data row7 col2\" >0.6268</td>\n",
       "      <td id=\"T_99550_row7_col3\" class=\"data row7 col3\" >0.0752</td>\n",
       "      <td id=\"T_99550_row7_col4\" class=\"data row7 col4\" >0.2705</td>\n",
       "      <td id=\"T_99550_row7_col5\" class=\"data row7 col5\" >0.1171</td>\n",
       "      <td id=\"T_99550_row7_col6\" class=\"data row7 col6\" >0.0532</td>\n",
       "      <td id=\"T_99550_row7_col7\" class=\"data row7 col7\" >0.0677</td>\n",
       "      <td id=\"T_99550_row7_col8\" class=\"data row7 col8\" >0.0240</td>\n",
       "    </tr>\n",
       "    <tr>\n",
       "      <th id=\"T_99550_level0_row8\" class=\"row_heading level0 row8\" >xgboost</th>\n",
       "      <td id=\"T_99550_row8_col0\" class=\"data row8 col0\" >Extreme Gradient Boosting</td>\n",
       "      <td id=\"T_99550_row8_col1\" class=\"data row8 col1\" >0.8260</td>\n",
       "      <td id=\"T_99550_row8_col2\" class=\"data row8 col2\" >0.6162</td>\n",
       "      <td id=\"T_99550_row8_col3\" class=\"data row8 col3\" >0.1042</td>\n",
       "      <td id=\"T_99550_row8_col4\" class=\"data row8 col4\" >0.3008</td>\n",
       "      <td id=\"T_99550_row8_col5\" class=\"data row8 col5\" >0.1540</td>\n",
       "      <td id=\"T_99550_row8_col6\" class=\"data row8 col6\" >0.0814</td>\n",
       "      <td id=\"T_99550_row8_col7\" class=\"data row8 col7\" >0.0964</td>\n",
       "      <td id=\"T_99550_row8_col8\" class=\"data row8 col8\" >0.0630</td>\n",
       "    </tr>\n",
       "    <tr>\n",
       "      <th id=\"T_99550_level0_row9\" class=\"row_heading level0 row9\" >rf</th>\n",
       "      <td id=\"T_99550_row9_col0\" class=\"data row9 col0\" >Random Forest Classifier</td>\n",
       "      <td id=\"T_99550_row9_col1\" class=\"data row9 col1\" >0.8256</td>\n",
       "      <td id=\"T_99550_row9_col2\" class=\"data row9 col2\" >0.6049</td>\n",
       "      <td id=\"T_99550_row9_col3\" class=\"data row9 col3\" >0.1108</td>\n",
       "      <td id=\"T_99550_row9_col4\" class=\"data row9 col4\" >0.3079</td>\n",
       "      <td id=\"T_99550_row9_col5\" class=\"data row9 col5\" >0.1620</td>\n",
       "      <td id=\"T_99550_row9_col6\" class=\"data row9 col6\" >0.0876</td>\n",
       "      <td id=\"T_99550_row9_col7\" class=\"data row9 col7\" >0.1028</td>\n",
       "      <td id=\"T_99550_row9_col8\" class=\"data row9 col8\" >0.1980</td>\n",
       "    </tr>\n",
       "    <tr>\n",
       "      <th id=\"T_99550_level0_row10\" class=\"row_heading level0 row10\" >knn</th>\n",
       "      <td id=\"T_99550_row10_col0\" class=\"data row10 col0\" >K Neighbors Classifier</td>\n",
       "      <td id=\"T_99550_row10_col1\" class=\"data row10 col1\" >0.8243</td>\n",
       "      <td id=\"T_99550_row10_col2\" class=\"data row10 col2\" >0.5794</td>\n",
       "      <td id=\"T_99550_row10_col3\" class=\"data row10 col3\" >0.0821</td>\n",
       "      <td id=\"T_99550_row10_col4\" class=\"data row10 col4\" >0.2413</td>\n",
       "      <td id=\"T_99550_row10_col5\" class=\"data row10 col5\" >0.1221</td>\n",
       "      <td id=\"T_99550_row10_col6\" class=\"data row10 col6\" >0.0533</td>\n",
       "      <td id=\"T_99550_row10_col7\" class=\"data row10 col7\" >0.0614</td>\n",
       "      <td id=\"T_99550_row10_col8\" class=\"data row10 col8\" >0.0530</td>\n",
       "    </tr>\n",
       "    <tr>\n",
       "      <th id=\"T_99550_level0_row11\" class=\"row_heading level0 row11\" >et</th>\n",
       "      <td id=\"T_99550_row11_col0\" class=\"data row11 col0\" >Extra Trees Classifier</td>\n",
       "      <td id=\"T_99550_row11_col1\" class=\"data row11 col1\" >0.8155</td>\n",
       "      <td id=\"T_99550_row11_col2\" class=\"data row11 col2\" >0.6026</td>\n",
       "      <td id=\"T_99550_row11_col3\" class=\"data row11 col3\" >0.1152</td>\n",
       "      <td id=\"T_99550_row11_col4\" class=\"data row11 col4\" >0.2463</td>\n",
       "      <td id=\"T_99550_row11_col5\" class=\"data row11 col5\" >0.1556</td>\n",
       "      <td id=\"T_99550_row11_col6\" class=\"data row11 col6\" >0.0703</td>\n",
       "      <td id=\"T_99550_row11_col7\" class=\"data row11 col7\" >0.0756</td>\n",
       "      <td id=\"T_99550_row11_col8\" class=\"data row11 col8\" >0.1860</td>\n",
       "    </tr>\n",
       "    <tr>\n",
       "      <th id=\"T_99550_level0_row12\" class=\"row_heading level0 row12\" >nb</th>\n",
       "      <td id=\"T_99550_row12_col0\" class=\"data row12 col0\" >Naive Bayes</td>\n",
       "      <td id=\"T_99550_row12_col1\" class=\"data row12 col1\" >0.8024</td>\n",
       "      <td id=\"T_99550_row12_col2\" class=\"data row12 col2\" >0.6974</td>\n",
       "      <td id=\"T_99550_row12_col3\" class=\"data row12 col3\" >0.2617</td>\n",
       "      <td id=\"T_99550_row12_col4\" class=\"data row12 col4\" >0.3178</td>\n",
       "      <td id=\"T_99550_row12_col5\" class=\"data row12 col5\" >0.2862</td>\n",
       "      <td id=\"T_99550_row12_col6\" class=\"data row12 col6\" >0.1731</td>\n",
       "      <td id=\"T_99550_row12_col7\" class=\"data row12 col7\" >0.1745</td>\n",
       "      <td id=\"T_99550_row12_col8\" class=\"data row12 col8\" >0.0050</td>\n",
       "    </tr>\n",
       "    <tr>\n",
       "      <th id=\"T_99550_level0_row13\" class=\"row_heading level0 row13\" >dt</th>\n",
       "      <td id=\"T_99550_row13_col0\" class=\"data row13 col0\" >Decision Tree Classifier</td>\n",
       "      <td id=\"T_99550_row13_col1\" class=\"data row13 col1\" >0.7582</td>\n",
       "      <td id=\"T_99550_row13_col2\" class=\"data row13 col2\" >0.5486</td>\n",
       "      <td id=\"T_99550_row13_col3\" class=\"data row13 col3\" >0.2503</td>\n",
       "      <td id=\"T_99550_row13_col4\" class=\"data row13 col4\" >0.2301</td>\n",
       "      <td id=\"T_99550_row13_col5\" class=\"data row13 col5\" >0.2389</td>\n",
       "      <td id=\"T_99550_row13_col6\" class=\"data row13 col6\" >0.0959</td>\n",
       "      <td id=\"T_99550_row13_col7\" class=\"data row13 col7\" >0.0963</td>\n",
       "      <td id=\"T_99550_row13_col8\" class=\"data row13 col8\" >0.0060</td>\n",
       "    </tr>\n",
       "    <tr>\n",
       "      <th id=\"T_99550_level0_row14\" class=\"row_heading level0 row14\" >svm</th>\n",
       "      <td id=\"T_99550_row14_col0\" class=\"data row14 col0\" >SVM - Linear Kernel</td>\n",
       "      <td id=\"T_99550_row14_col1\" class=\"data row14 col1\" >0.7442</td>\n",
       "      <td id=\"T_99550_row14_col2\" class=\"data row14 col2\" >0.0000</td>\n",
       "      <td id=\"T_99550_row14_col3\" class=\"data row14 col3\" >0.2250</td>\n",
       "      <td id=\"T_99550_row14_col4\" class=\"data row14 col4\" >0.1256</td>\n",
       "      <td id=\"T_99550_row14_col5\" class=\"data row14 col5\" >0.1184</td>\n",
       "      <td id=\"T_99550_row14_col6\" class=\"data row14 col6\" >0.0541</td>\n",
       "      <td id=\"T_99550_row14_col7\" class=\"data row14 col7\" >0.0685</td>\n",
       "      <td id=\"T_99550_row14_col8\" class=\"data row14 col8\" >0.0080</td>\n",
       "    </tr>\n",
       "  </tbody>\n",
       "</table>\n"
      ],
      "text/plain": [
       "<pandas.io.formats.style.Styler at 0x22f213e0388>"
      ]
     },
     "metadata": {},
     "output_type": "display_data"
    }
   ],
   "source": [
    "from pycaret.classification import *\n",
    "\n",
    "exp_name = setup(data = df_model , target = \"TenYearCHD\")\n",
    "\n",
    "best_model = compare_models()"
   ]
  },
  {
   "cell_type": "code",
   "execution_count": 79,
   "metadata": {},
   "outputs": [],
   "source": [
    "x_train,x_test,y_train,y_test = train_test_split(df.drop(\"TenYearCHD\",axis=1),df[\"TenYearCHD\"],test_size=0.2,random_state=0)"
   ]
  },
  {
   "cell_type": "code",
   "execution_count": 86,
   "metadata": {},
   "outputs": [
    {
     "data": {
      "text/plain": [
       "LogisticRegression(C=1.0, class_weight=None, dual=False, fit_intercept=True,\n",
       "                   intercept_scaling=1, l1_ratio=None, max_iter=100,\n",
       "                   multi_class='auto', n_jobs=None, penalty='l2',\n",
       "                   random_state=None, solver='lbfgs', tol=0.0001, verbose=0,\n",
       "                   warm_start=False)"
      ]
     },
     "execution_count": 86,
     "metadata": {},
     "output_type": "execute_result"
    }
   ],
   "source": [
    "log.fit(x_train,y_train)"
   ]
  },
  {
   "cell_type": "code",
   "execution_count": 81,
   "metadata": {},
   "outputs": [],
   "source": [
    "y_pred = log.predict(x_test)"
   ]
  },
  {
   "cell_type": "code",
   "execution_count": 82,
   "metadata": {},
   "outputs": [
    {
     "name": "stdout",
     "output_type": "stream",
     "text": [
      "Accuracy Score : 0.8655660377358491\n"
     ]
    }
   ],
   "source": [
    "print(f'Accuracy Score : {accuracy_score(y_test,y_pred)}')"
   ]
  },
  {
   "cell_type": "code",
   "execution_count": 87,
   "metadata": {},
   "outputs": [],
   "source": [
    "probs = log.predict_proba(x_test)\n",
    "probs = probs[:,1]\n",
    "y_pred = log.predict(x_test)\n",
    "fpr, tpr, thresholds = roc_curve(y_test,probs)"
   ]
  },
  {
   "cell_type": "code",
   "execution_count": 93,
   "metadata": {},
   "outputs": [
    {
     "data": {
      "image/png": "[encoded data removed]",
      "text/plain": [
       "<Figure size 2000x1600 with 1 Axes>"
      ]
     },
     "metadata": {
      "needs_background": "light"
     },
     "output_type": "display_data"
    }
   ],
   "source": [
    "import matplotlib.pyplot as plt\n",
    "from matplotlib.pyplot import figure\n",
    "\n",
    "figure(figsize=(10,8), dpi=200)\n",
    "\n",
    "plt.plot(fpr,tpr)\n",
    "plt.title('ROC Curve')\n",
    "plt.show()"
   ]
  },
  {
   "cell_type": "code",
   "execution_count": null,
   "metadata": {},
   "outputs": [],
   "source": []
  }
 ],
 "metadata": {
  "kernelspec": {
   "display_name": "Python 3.7.9 64-bit",
   "language": "python",
   "name": "python3"
  },
  "language_info": {
   "codemirror_mode": {
    "name": "ipython",
    "version": 3
   },
   "file_extension": ".py",
   "mimetype": "text/x-python",
   "name": "python",
   "nbconvert_exporter": "python",
   "pygments_lexer": "ipython3",
   "version": "3.7.9"
  },
  "orig_nbformat": 4,
  "vscode": {
   "interpreter": {
    "hash": "16f3484daa4199d826ac59be93380ed5ae89d2875afe8f45f4b2e96f2f02b6fc"
   }
  }
 },
 "nbformat": 4,
 "nbformat_minor": 2
}
