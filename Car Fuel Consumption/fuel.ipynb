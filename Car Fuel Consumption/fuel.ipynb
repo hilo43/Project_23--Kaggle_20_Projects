{
 "cells": [
  {
   "cell_type": "markdown",
   "metadata": {},
   "source": []
  },
  {
   "cell_type": "markdown",
   "metadata": {},
   "source": [
    "\n",
    "https://www.kaggle.com/datasets/anderas/car-consume"
   ]
  },
  {
   "cell_type": "code",
   "execution_count": 40,
   "metadata": {},
   "outputs": [],
   "source": [
    "import numpy as np\n",
    "import pandas as pd\n",
    "import matplotlib.pyplot as plt\n",
    "import seaborn as sns\n",
    "%matplotlib inline\n",
    "import warnings\n",
    "warnings.filterwarnings('ignore')"
   ]
  },
  {
   "cell_type": "code",
   "execution_count": 41,
   "metadata": {},
   "outputs": [],
   "source": [
    "df1 = pd.read_csv(\"measurements.csv\")\n",
    "df2 = pd.read_excel(\"measurements2.xlsx\")"
   ]
  },
  {
   "cell_type": "code",
   "execution_count": 42,
   "metadata": {},
   "outputs": [
    {
     "data": {
      "text/html": [
       "<div>\n",
       "<style scoped>\n",
       "    .dataframe tbody tr th:only-of-type {\n",
       "        vertical-align: middle;\n",
       "    }\n",
       "\n",
       "    .dataframe tbody tr th {\n",
       "        vertical-align: top;\n",
       "    }\n",
       "\n",
       "    .dataframe thead th {\n",
       "        text-align: right;\n",
       "    }\n",
       "</style>\n",
       "<table border=\"1\" class=\"dataframe\">\n",
       "  <thead>\n",
       "    <tr style=\"text-align: right;\">\n",
       "      <th></th>\n",
       "      <th>distance</th>\n",
       "      <th>consume</th>\n",
       "      <th>speed</th>\n",
       "      <th>temp_inside</th>\n",
       "      <th>temp_outside</th>\n",
       "      <th>specials</th>\n",
       "      <th>gas_type</th>\n",
       "      <th>AC</th>\n",
       "      <th>rain</th>\n",
       "      <th>sun</th>\n",
       "      <th>refill liters</th>\n",
       "      <th>refill gas</th>\n",
       "    </tr>\n",
       "  </thead>\n",
       "  <tbody>\n",
       "    <tr>\n",
       "      <th>0</th>\n",
       "      <td>28</td>\n",
       "      <td>5</td>\n",
       "      <td>26</td>\n",
       "      <td>21,5</td>\n",
       "      <td>12</td>\n",
       "      <td>NaN</td>\n",
       "      <td>E10</td>\n",
       "      <td>0</td>\n",
       "      <td>0</td>\n",
       "      <td>0</td>\n",
       "      <td>45</td>\n",
       "      <td>E10</td>\n",
       "    </tr>\n",
       "    <tr>\n",
       "      <th>1</th>\n",
       "      <td>12</td>\n",
       "      <td>4,2</td>\n",
       "      <td>30</td>\n",
       "      <td>21,5</td>\n",
       "      <td>13</td>\n",
       "      <td>NaN</td>\n",
       "      <td>E10</td>\n",
       "      <td>0</td>\n",
       "      <td>0</td>\n",
       "      <td>0</td>\n",
       "      <td>NaN</td>\n",
       "      <td>NaN</td>\n",
       "    </tr>\n",
       "    <tr>\n",
       "      <th>2</th>\n",
       "      <td>11,2</td>\n",
       "      <td>5,5</td>\n",
       "      <td>38</td>\n",
       "      <td>21,5</td>\n",
       "      <td>15</td>\n",
       "      <td>NaN</td>\n",
       "      <td>E10</td>\n",
       "      <td>0</td>\n",
       "      <td>0</td>\n",
       "      <td>0</td>\n",
       "      <td>NaN</td>\n",
       "      <td>NaN</td>\n",
       "    </tr>\n",
       "    <tr>\n",
       "      <th>3</th>\n",
       "      <td>12,9</td>\n",
       "      <td>3,9</td>\n",
       "      <td>36</td>\n",
       "      <td>21,5</td>\n",
       "      <td>14</td>\n",
       "      <td>NaN</td>\n",
       "      <td>E10</td>\n",
       "      <td>0</td>\n",
       "      <td>0</td>\n",
       "      <td>0</td>\n",
       "      <td>NaN</td>\n",
       "      <td>NaN</td>\n",
       "    </tr>\n",
       "    <tr>\n",
       "      <th>4</th>\n",
       "      <td>18,5</td>\n",
       "      <td>4,5</td>\n",
       "      <td>46</td>\n",
       "      <td>21,5</td>\n",
       "      <td>15</td>\n",
       "      <td>NaN</td>\n",
       "      <td>E10</td>\n",
       "      <td>0</td>\n",
       "      <td>0</td>\n",
       "      <td>0</td>\n",
       "      <td>NaN</td>\n",
       "      <td>NaN</td>\n",
       "    </tr>\n",
       "  </tbody>\n",
       "</table>\n",
       "</div>"
      ],
      "text/plain": [
       "  distance consume  speed temp_inside  temp_outside specials gas_type  AC  \\\n",
       "0       28       5     26        21,5            12      NaN      E10   0   \n",
       "1       12     4,2     30        21,5            13      NaN      E10   0   \n",
       "2     11,2     5,5     38        21,5            15      NaN      E10   0   \n",
       "3     12,9     3,9     36        21,5            14      NaN      E10   0   \n",
       "4     18,5     4,5     46        21,5            15      NaN      E10   0   \n",
       "\n",
       "   rain  sun refill liters refill gas  \n",
       "0     0    0            45        E10  \n",
       "1     0    0           NaN        NaN  \n",
       "2     0    0           NaN        NaN  \n",
       "3     0    0           NaN        NaN  \n",
       "4     0    0           NaN        NaN  "
      ]
     },
     "execution_count": 42,
     "metadata": {},
     "output_type": "execute_result"
    }
   ],
   "source": [
    "df1.head()"
   ]
  },
  {
   "cell_type": "code",
   "execution_count": 43,
   "metadata": {},
   "outputs": [
    {
     "data": {
      "text/html": [
       "<div>\n",
       "<style scoped>\n",
       "    .dataframe tbody tr th:only-of-type {\n",
       "        vertical-align: middle;\n",
       "    }\n",
       "\n",
       "    .dataframe tbody tr th {\n",
       "        vertical-align: top;\n",
       "    }\n",
       "\n",
       "    .dataframe thead th {\n",
       "        text-align: right;\n",
       "    }\n",
       "</style>\n",
       "<table border=\"1\" class=\"dataframe\">\n",
       "  <thead>\n",
       "    <tr style=\"text-align: right;\">\n",
       "      <th></th>\n",
       "      <th>distance</th>\n",
       "      <th>consume</th>\n",
       "      <th>speed</th>\n",
       "      <th>temp_inside</th>\n",
       "      <th>temp_outside</th>\n",
       "      <th>specials</th>\n",
       "      <th>gas_type</th>\n",
       "      <th>AC</th>\n",
       "      <th>rain</th>\n",
       "      <th>sun</th>\n",
       "      <th>refill liters</th>\n",
       "      <th>refill gas</th>\n",
       "    </tr>\n",
       "  </thead>\n",
       "  <tbody>\n",
       "    <tr>\n",
       "      <th>0</th>\n",
       "      <td>28.0</td>\n",
       "      <td>5.0</td>\n",
       "      <td>26</td>\n",
       "      <td>21.5</td>\n",
       "      <td>12</td>\n",
       "      <td>NaN</td>\n",
       "      <td>E10</td>\n",
       "      <td>0</td>\n",
       "      <td>0</td>\n",
       "      <td>0</td>\n",
       "      <td>45.0</td>\n",
       "      <td>E10</td>\n",
       "    </tr>\n",
       "    <tr>\n",
       "      <th>1</th>\n",
       "      <td>12.0</td>\n",
       "      <td>4.2</td>\n",
       "      <td>30</td>\n",
       "      <td>21.5</td>\n",
       "      <td>13</td>\n",
       "      <td>NaN</td>\n",
       "      <td>E10</td>\n",
       "      <td>0</td>\n",
       "      <td>0</td>\n",
       "      <td>0</td>\n",
       "      <td>NaN</td>\n",
       "      <td>NaN</td>\n",
       "    </tr>\n",
       "    <tr>\n",
       "      <th>2</th>\n",
       "      <td>11.2</td>\n",
       "      <td>5.5</td>\n",
       "      <td>38</td>\n",
       "      <td>21.5</td>\n",
       "      <td>15</td>\n",
       "      <td>NaN</td>\n",
       "      <td>E10</td>\n",
       "      <td>0</td>\n",
       "      <td>0</td>\n",
       "      <td>0</td>\n",
       "      <td>NaN</td>\n",
       "      <td>NaN</td>\n",
       "    </tr>\n",
       "    <tr>\n",
       "      <th>3</th>\n",
       "      <td>12.9</td>\n",
       "      <td>3.9</td>\n",
       "      <td>36</td>\n",
       "      <td>21.5</td>\n",
       "      <td>14</td>\n",
       "      <td>NaN</td>\n",
       "      <td>E10</td>\n",
       "      <td>0</td>\n",
       "      <td>0</td>\n",
       "      <td>0</td>\n",
       "      <td>NaN</td>\n",
       "      <td>NaN</td>\n",
       "    </tr>\n",
       "    <tr>\n",
       "      <th>4</th>\n",
       "      <td>18.5</td>\n",
       "      <td>4.5</td>\n",
       "      <td>46</td>\n",
       "      <td>21.5</td>\n",
       "      <td>15</td>\n",
       "      <td>NaN</td>\n",
       "      <td>E10</td>\n",
       "      <td>0</td>\n",
       "      <td>0</td>\n",
       "      <td>0</td>\n",
       "      <td>NaN</td>\n",
       "      <td>NaN</td>\n",
       "    </tr>\n",
       "  </tbody>\n",
       "</table>\n",
       "</div>"
      ],
      "text/plain": [
       "   distance  consume  speed  temp_inside  temp_outside specials gas_type  AC  \\\n",
       "0      28.0      5.0     26         21.5            12      NaN      E10   0   \n",
       "1      12.0      4.2     30         21.5            13      NaN      E10   0   \n",
       "2      11.2      5.5     38         21.5            15      NaN      E10   0   \n",
       "3      12.9      3.9     36         21.5            14      NaN      E10   0   \n",
       "4      18.5      4.5     46         21.5            15      NaN      E10   0   \n",
       "\n",
       "   rain  sun  refill liters refill gas  \n",
       "0     0    0           45.0        E10  \n",
       "1     0    0            NaN        NaN  \n",
       "2     0    0            NaN        NaN  \n",
       "3     0    0            NaN        NaN  \n",
       "4     0    0            NaN        NaN  "
      ]
     },
     "execution_count": 43,
     "metadata": {},
     "output_type": "execute_result"
    }
   ],
   "source": [
    "df2.head()"
   ]
  },
  {
   "cell_type": "code",
   "execution_count": 44,
   "metadata": {},
   "outputs": [],
   "source": [
    "df = df1.copy()"
   ]
  },
  {
   "cell_type": "code",
   "execution_count": 45,
   "metadata": {},
   "outputs": [
    {
     "name": "stdout",
     "output_type": "stream",
     "text": [
      "<class 'pandas.core.frame.DataFrame'>\n",
      "RangeIndex: 388 entries, 0 to 387\n",
      "Data columns (total 12 columns):\n",
      " #   Column         Non-Null Count  Dtype \n",
      "---  ------         --------------  ----- \n",
      " 0   distance       388 non-null    object\n",
      " 1   consume        388 non-null    object\n",
      " 2   speed          388 non-null    int64 \n",
      " 3   temp_inside    376 non-null    object\n",
      " 4   temp_outside   388 non-null    int64 \n",
      " 5   specials       93 non-null     object\n",
      " 6   gas_type       388 non-null    object\n",
      " 7   AC             388 non-null    int64 \n",
      " 8   rain           388 non-null    int64 \n",
      " 9   sun            388 non-null    int64 \n",
      " 10  refill liters  13 non-null     object\n",
      " 11  refill gas     13 non-null     object\n",
      "dtypes: int64(5), object(7)\n",
      "memory usage: 36.5+ KB\n"
     ]
    }
   ],
   "source": [
    "df.info()"
   ]
  },
  {
   "cell_type": "code",
   "execution_count": 46,
   "metadata": {},
   "outputs": [],
   "source": [
    "df.drop([\"refill gas\",\"refill liters\",\"specials\"] ,axis=1 , inplace=True)"
   ]
  },
  {
   "cell_type": "code",
   "execution_count": 47,
   "metadata": {},
   "outputs": [
    {
     "data": {
      "text/plain": [
       "distance         0\n",
       "consume          0\n",
       "speed            0\n",
       "temp_inside     12\n",
       "temp_outside     0\n",
       "gas_type         0\n",
       "AC               0\n",
       "rain             0\n",
       "sun              0\n",
       "dtype: int64"
      ]
     },
     "execution_count": 47,
     "metadata": {},
     "output_type": "execute_result"
    }
   ],
   "source": [
    "df.isnull().sum()"
   ]
  },
  {
   "cell_type": "code",
   "execution_count": 48,
   "metadata": {},
   "outputs": [
    {
     "data": {
      "text/plain": [
       "21,5    133\n",
       "22      102\n",
       "22,5     59\n",
       "20       25\n",
       "21       13\n",
       "23       13\n",
       "25       12\n",
       "24,5      7\n",
       "20,5      4\n",
       "24        3\n",
       "23,5      2\n",
       "25,5      2\n",
       "19        1\n",
       "Name: temp_inside, dtype: int64"
      ]
     },
     "execution_count": 48,
     "metadata": {},
     "output_type": "execute_result"
    }
   ],
   "source": [
    "df[\"temp_inside\"].value_counts()"
   ]
  },
  {
   "cell_type": "code",
   "execution_count": 49,
   "metadata": {},
   "outputs": [],
   "source": [
    "df[\"temp_inside\"] = df[\"temp_inside\"].str.replace(\",\",\".\")"
   ]
  },
  {
   "cell_type": "code",
   "execution_count": 50,
   "metadata": {},
   "outputs": [],
   "source": [
    "df[\"temp_inside\"] = df[\"temp_inside\"].astype(float)"
   ]
  },
  {
   "cell_type": "code",
   "execution_count": 51,
   "metadata": {},
   "outputs": [],
   "source": [
    "mean_value=df['temp_inside'].mean()\n",
    "df['temp_inside'].fillna(value=mean_value, inplace=True)"
   ]
  },
  {
   "cell_type": "code",
   "execution_count": 52,
   "metadata": {},
   "outputs": [],
   "source": [
    "df[\"distance\"] = df[\"distance\"].str.replace(\",\",\".\")\n",
    "df[\"distance\"] = df[\"distance\"].astype(float)\n",
    "\n",
    "df[\"consume\"] = df[\"consume\"].str.replace(\",\",\".\")\n",
    "df[\"consume\"] = df[\"consume\"].astype(float)\n"
   ]
  },
  {
   "cell_type": "code",
   "execution_count": 53,
   "metadata": {},
   "outputs": [
    {
     "name": "stdout",
     "output_type": "stream",
     "text": [
      "<class 'pandas.core.frame.DataFrame'>\n",
      "RangeIndex: 388 entries, 0 to 387\n",
      "Data columns (total 9 columns):\n",
      " #   Column        Non-Null Count  Dtype  \n",
      "---  ------        --------------  -----  \n",
      " 0   distance      388 non-null    float64\n",
      " 1   consume       388 non-null    float64\n",
      " 2   speed         388 non-null    int64  \n",
      " 3   temp_inside   388 non-null    float64\n",
      " 4   temp_outside  388 non-null    int64  \n",
      " 5   gas_type      388 non-null    object \n",
      " 6   AC            388 non-null    int64  \n",
      " 7   rain          388 non-null    int64  \n",
      " 8   sun           388 non-null    int64  \n",
      "dtypes: float64(3), int64(5), object(1)\n",
      "memory usage: 27.4+ KB\n"
     ]
    }
   ],
   "source": [
    "df.info()"
   ]
  },
  {
   "cell_type": "code",
   "execution_count": 54,
   "metadata": {},
   "outputs": [
    {
     "data": {
      "text/plain": [
       "SP98    228\n",
       "E10     160\n",
       "Name: gas_type, dtype: int64"
      ]
     },
     "execution_count": 54,
     "metadata": {},
     "output_type": "execute_result"
    }
   ],
   "source": [
    "df[\"gas_type\"].value_counts()"
   ]
  },
  {
   "cell_type": "code",
   "execution_count": 55,
   "metadata": {},
   "outputs": [],
   "source": [
    "df['gas_type'] = df['gas_type'].map({'SP98': 1, 'E10': 0})"
   ]
  },
  {
   "cell_type": "code",
   "execution_count": 56,
   "metadata": {},
   "outputs": [
    {
     "data": {
      "text/plain": [
       "consume         1.000000\n",
       "temp_outside    0.320811\n",
       "rain            0.248118\n",
       "speed           0.227866\n",
       "sun             0.170667\n",
       "temp_inside     0.160623\n",
       "distance        0.128967\n",
       "AC              0.096591\n",
       "gas_type        0.015327\n",
       "Name: consume, dtype: float64"
      ]
     },
     "execution_count": 56,
     "metadata": {},
     "output_type": "execute_result"
    }
   ],
   "source": [
    "abs(df.corr()[\"consume\"]).sort_values(ascending = False) "
   ]
  },
  {
   "cell_type": "code",
   "execution_count": 62,
   "metadata": {},
   "outputs": [],
   "source": [
    "df_model = df.drop([\"AC\",\"gas_type\"] , axis =1 )"
   ]
  },
  {
   "cell_type": "code",
   "execution_count": 63,
   "metadata": {},
   "outputs": [],
   "source": [
    "import numpy as np"
   ]
  },
  {
   "cell_type": "code",
   "execution_count": 64,
   "metadata": {},
   "outputs": [
    {
     "data": {
      "text/html": [
       "<style type=\"text/css\">\n",
       "#T_4bf6a_ th {\n",
       "  text-align: left;\n",
       "}\n",
       "#T_4bf6a_row0_col0, #T_4bf6a_row0_col2, #T_4bf6a_row0_col3, #T_4bf6a_row1_col0, #T_4bf6a_row1_col1, #T_4bf6a_row1_col4, #T_4bf6a_row1_col5, #T_4bf6a_row1_col6, #T_4bf6a_row2_col0, #T_4bf6a_row2_col1, #T_4bf6a_row2_col2, #T_4bf6a_row2_col3, #T_4bf6a_row2_col4, #T_4bf6a_row2_col5, #T_4bf6a_row2_col6, #T_4bf6a_row3_col0, #T_4bf6a_row3_col1, #T_4bf6a_row3_col2, #T_4bf6a_row3_col3, #T_4bf6a_row3_col4, #T_4bf6a_row3_col5, #T_4bf6a_row3_col6, #T_4bf6a_row4_col0, #T_4bf6a_row4_col1, #T_4bf6a_row4_col2, #T_4bf6a_row4_col3, #T_4bf6a_row4_col4, #T_4bf6a_row4_col5, #T_4bf6a_row4_col6, #T_4bf6a_row5_col0, #T_4bf6a_row5_col1, #T_4bf6a_row5_col2, #T_4bf6a_row5_col3, #T_4bf6a_row5_col4, #T_4bf6a_row5_col5, #T_4bf6a_row5_col6, #T_4bf6a_row6_col0, #T_4bf6a_row6_col1, #T_4bf6a_row6_col2, #T_4bf6a_row6_col3, #T_4bf6a_row6_col4, #T_4bf6a_row6_col5, #T_4bf6a_row6_col6, #T_4bf6a_row7_col0, #T_4bf6a_row7_col1, #T_4bf6a_row7_col2, #T_4bf6a_row7_col3, #T_4bf6a_row7_col4, #T_4bf6a_row7_col5, #T_4bf6a_row7_col6, #T_4bf6a_row8_col0, #T_4bf6a_row8_col1, #T_4bf6a_row8_col2, #T_4bf6a_row8_col3, #T_4bf6a_row8_col4, #T_4bf6a_row8_col5, #T_4bf6a_row8_col6, #T_4bf6a_row9_col0, #T_4bf6a_row9_col1, #T_4bf6a_row9_col2, #T_4bf6a_row9_col3, #T_4bf6a_row9_col4, #T_4bf6a_row9_col5, #T_4bf6a_row9_col6, #T_4bf6a_row10_col0, #T_4bf6a_row10_col1, #T_4bf6a_row10_col2, #T_4bf6a_row10_col3, #T_4bf6a_row10_col4, #T_4bf6a_row10_col5, #T_4bf6a_row10_col6, #T_4bf6a_row11_col0, #T_4bf6a_row11_col1, #T_4bf6a_row11_col2, #T_4bf6a_row11_col3, #T_4bf6a_row11_col4, #T_4bf6a_row11_col5, #T_4bf6a_row11_col6, #T_4bf6a_row12_col0, #T_4bf6a_row12_col1, #T_4bf6a_row12_col2, #T_4bf6a_row12_col3, #T_4bf6a_row12_col4, #T_4bf6a_row12_col5, #T_4bf6a_row12_col6, #T_4bf6a_row13_col0, #T_4bf6a_row13_col1, #T_4bf6a_row13_col2, #T_4bf6a_row13_col3, #T_4bf6a_row13_col4, #T_4bf6a_row13_col5, #T_4bf6a_row13_col6, #T_4bf6a_row14_col0, #T_4bf6a_row14_col1, #T_4bf6a_row14_col2, #T_4bf6a_row14_col3, #T_4bf6a_row14_col4, #T_4bf6a_row14_col5, #T_4bf6a_row14_col6, #T_4bf6a_row15_col0, #T_4bf6a_row15_col1, #T_4bf6a_row15_col2, #T_4bf6a_row15_col3, #T_4bf6a_row15_col4, #T_4bf6a_row15_col5, #T_4bf6a_row15_col6, #T_4bf6a_row16_col0, #T_4bf6a_row16_col1, #T_4bf6a_row16_col2, #T_4bf6a_row16_col3, #T_4bf6a_row16_col4, #T_4bf6a_row16_col5, #T_4bf6a_row16_col6, #T_4bf6a_row17_col0, #T_4bf6a_row17_col1, #T_4bf6a_row17_col2, #T_4bf6a_row17_col3, #T_4bf6a_row17_col4, #T_4bf6a_row17_col5, #T_4bf6a_row17_col6, #T_4bf6a_row18_col0, #T_4bf6a_row18_col1, #T_4bf6a_row18_col2, #T_4bf6a_row18_col3, #T_4bf6a_row18_col4, #T_4bf6a_row18_col5, #T_4bf6a_row18_col6 {\n",
       "  text-align: left;\n",
       "}\n",
       "#T_4bf6a_row0_col1, #T_4bf6a_row0_col4, #T_4bf6a_row0_col5, #T_4bf6a_row0_col6, #T_4bf6a_row1_col2, #T_4bf6a_row1_col3 {\n",
       "  text-align: left;\n",
       "  background-color: yellow;\n",
       "}\n",
       "#T_4bf6a_row0_col7, #T_4bf6a_row1_col7, #T_4bf6a_row2_col7, #T_4bf6a_row3_col7, #T_4bf6a_row4_col7, #T_4bf6a_row5_col7, #T_4bf6a_row6_col7, #T_4bf6a_row8_col7, #T_4bf6a_row9_col7, #T_4bf6a_row10_col7, #T_4bf6a_row17_col7 {\n",
       "  text-align: left;\n",
       "  background-color: lightgrey;\n",
       "}\n",
       "#T_4bf6a_row7_col7, #T_4bf6a_row11_col7, #T_4bf6a_row12_col7, #T_4bf6a_row13_col7, #T_4bf6a_row14_col7, #T_4bf6a_row15_col7, #T_4bf6a_row16_col7, #T_4bf6a_row18_col7 {\n",
       "  text-align: left;\n",
       "  background-color: yellow;\n",
       "  background-color: lightgrey;\n",
       "}\n",
       "</style>\n",
       "<table id=\"T_4bf6a_\">\n",
       "  <thead>\n",
       "    <tr>\n",
       "      <th class=\"blank level0\" >&nbsp;</th>\n",
       "      <th class=\"col_heading level0 col0\" >Model</th>\n",
       "      <th class=\"col_heading level0 col1\" >MAE</th>\n",
       "      <th class=\"col_heading level0 col2\" >MSE</th>\n",
       "      <th class=\"col_heading level0 col3\" >RMSE</th>\n",
       "      <th class=\"col_heading level0 col4\" >R2</th>\n",
       "      <th class=\"col_heading level0 col5\" >RMSLE</th>\n",
       "      <th class=\"col_heading level0 col6\" >MAPE</th>\n",
       "      <th class=\"col_heading level0 col7\" >TT (Sec)</th>\n",
       "    </tr>\n",
       "  </thead>\n",
       "  <tbody>\n",
       "    <tr>\n",
       "      <th id=\"T_4bf6a_level0_row0\" class=\"row_heading level0 row0\" >gbr</th>\n",
       "      <td id=\"T_4bf6a_row0_col0\" class=\"data row0 col0\" >Gradient Boosting Regressor</td>\n",
       "      <td id=\"T_4bf6a_row0_col1\" class=\"data row0 col1\" >0.4598</td>\n",
       "      <td id=\"T_4bf6a_row0_col2\" class=\"data row0 col2\" >0.5322</td>\n",
       "      <td id=\"T_4bf6a_row0_col3\" class=\"data row0 col3\" >0.6882</td>\n",
       "      <td id=\"T_4bf6a_row0_col4\" class=\"data row0 col4\" >0.5483</td>\n",
       "      <td id=\"T_4bf6a_row0_col5\" class=\"data row0 col5\" >0.1005</td>\n",
       "      <td id=\"T_4bf6a_row0_col6\" class=\"data row0 col6\" >0.0886</td>\n",
       "      <td id=\"T_4bf6a_row0_col7\" class=\"data row0 col7\" >0.0140</td>\n",
       "    </tr>\n",
       "    <tr>\n",
       "      <th id=\"T_4bf6a_level0_row1\" class=\"row_heading level0 row1\" >rf</th>\n",
       "      <td id=\"T_4bf6a_row1_col0\" class=\"data row1 col0\" >Random Forest Regressor</td>\n",
       "      <td id=\"T_4bf6a_row1_col1\" class=\"data row1 col1\" >0.4604</td>\n",
       "      <td id=\"T_4bf6a_row1_col2\" class=\"data row1 col2\" >0.5146</td>\n",
       "      <td id=\"T_4bf6a_row1_col3\" class=\"data row1 col3\" >0.6831</td>\n",
       "      <td id=\"T_4bf6a_row1_col4\" class=\"data row1 col4\" >0.5342</td>\n",
       "      <td id=\"T_4bf6a_row1_col5\" class=\"data row1 col5\" >0.1006</td>\n",
       "      <td id=\"T_4bf6a_row1_col6\" class=\"data row1 col6\" >0.0896</td>\n",
       "      <td id=\"T_4bf6a_row1_col7\" class=\"data row1 col7\" >0.1570</td>\n",
       "    </tr>\n",
       "    <tr>\n",
       "      <th id=\"T_4bf6a_level0_row2\" class=\"row_heading level0 row2\" >et</th>\n",
       "      <td id=\"T_4bf6a_row2_col0\" class=\"data row2 col0\" >Extra Trees Regressor</td>\n",
       "      <td id=\"T_4bf6a_row2_col1\" class=\"data row2 col1\" >0.5107</td>\n",
       "      <td id=\"T_4bf6a_row2_col2\" class=\"data row2 col2\" >0.5708</td>\n",
       "      <td id=\"T_4bf6a_row2_col3\" class=\"data row2 col3\" >0.7295</td>\n",
       "      <td id=\"T_4bf6a_row2_col4\" class=\"data row2 col4\" >0.4387</td>\n",
       "      <td id=\"T_4bf6a_row2_col5\" class=\"data row2 col5\" >0.1086</td>\n",
       "      <td id=\"T_4bf6a_row2_col6\" class=\"data row2 col6\" >0.0994</td>\n",
       "      <td id=\"T_4bf6a_row2_col7\" class=\"data row2 col7\" >0.1440</td>\n",
       "    </tr>\n",
       "    <tr>\n",
       "      <th id=\"T_4bf6a_level0_row3\" class=\"row_heading level0 row3\" >lightgbm</th>\n",
       "      <td id=\"T_4bf6a_row3_col0\" class=\"data row3 col0\" >Light Gradient Boosting Machine</td>\n",
       "      <td id=\"T_4bf6a_row3_col1\" class=\"data row3 col1\" >0.5020</td>\n",
       "      <td id=\"T_4bf6a_row3_col2\" class=\"data row3 col2\" >0.5396</td>\n",
       "      <td id=\"T_4bf6a_row3_col3\" class=\"data row3 col3\" >0.7239</td>\n",
       "      <td id=\"T_4bf6a_row3_col4\" class=\"data row3 col4\" >0.4323</td>\n",
       "      <td id=\"T_4bf6a_row3_col5\" class=\"data row3 col5\" >0.1067</td>\n",
       "      <td id=\"T_4bf6a_row3_col6\" class=\"data row3 col6\" >0.0981</td>\n",
       "      <td id=\"T_4bf6a_row3_col7\" class=\"data row3 col7\" >0.0100</td>\n",
       "    </tr>\n",
       "    <tr>\n",
       "      <th id=\"T_4bf6a_level0_row4\" class=\"row_heading level0 row4\" >ada</th>\n",
       "      <td id=\"T_4bf6a_row4_col0\" class=\"data row4 col0\" >AdaBoost Regressor</td>\n",
       "      <td id=\"T_4bf6a_row4_col1\" class=\"data row4 col1\" >0.5544</td>\n",
       "      <td id=\"T_4bf6a_row4_col2\" class=\"data row4 col2\" >0.6208</td>\n",
       "      <td id=\"T_4bf6a_row4_col3\" class=\"data row4 col3\" >0.7595</td>\n",
       "      <td id=\"T_4bf6a_row4_col4\" class=\"data row4 col4\" >0.3968</td>\n",
       "      <td id=\"T_4bf6a_row4_col5\" class=\"data row4 col5\" >0.1153</td>\n",
       "      <td id=\"T_4bf6a_row4_col6\" class=\"data row4 col6\" >0.1104</td>\n",
       "      <td id=\"T_4bf6a_row4_col7\" class=\"data row4 col7\" >0.0140</td>\n",
       "    </tr>\n",
       "    <tr>\n",
       "      <th id=\"T_4bf6a_level0_row5\" class=\"row_heading level0 row5\" >knn</th>\n",
       "      <td id=\"T_4bf6a_row5_col0\" class=\"data row5 col0\" >K Neighbors Regressor</td>\n",
       "      <td id=\"T_4bf6a_row5_col1\" class=\"data row5 col1\" >0.5267</td>\n",
       "      <td id=\"T_4bf6a_row5_col2\" class=\"data row5 col2\" >0.6030</td>\n",
       "      <td id=\"T_4bf6a_row5_col3\" class=\"data row5 col3\" >0.7513</td>\n",
       "      <td id=\"T_4bf6a_row5_col4\" class=\"data row5 col4\" >0.3939</td>\n",
       "      <td id=\"T_4bf6a_row5_col5\" class=\"data row5 col5\" >0.1115</td>\n",
       "      <td id=\"T_4bf6a_row5_col6\" class=\"data row5 col6\" >0.1018</td>\n",
       "      <td id=\"T_4bf6a_row5_col7\" class=\"data row5 col7\" >0.0250</td>\n",
       "    </tr>\n",
       "    <tr>\n",
       "      <th id=\"T_4bf6a_level0_row6\" class=\"row_heading level0 row6\" >xgboost</th>\n",
       "      <td id=\"T_4bf6a_row6_col0\" class=\"data row6 col0\" >Extreme Gradient Boosting</td>\n",
       "      <td id=\"T_4bf6a_row6_col1\" class=\"data row6 col1\" >0.5335</td>\n",
       "      <td id=\"T_4bf6a_row6_col2\" class=\"data row6 col2\" >0.6544</td>\n",
       "      <td id=\"T_4bf6a_row6_col3\" class=\"data row6 col3\" >0.7866</td>\n",
       "      <td id=\"T_4bf6a_row6_col4\" class=\"data row6 col4\" >0.3806</td>\n",
       "      <td id=\"T_4bf6a_row6_col5\" class=\"data row6 col5\" >0.1175</td>\n",
       "      <td id=\"T_4bf6a_row6_col6\" class=\"data row6 col6\" >0.1033</td>\n",
       "      <td id=\"T_4bf6a_row6_col7\" class=\"data row6 col7\" >0.0180</td>\n",
       "    </tr>\n",
       "    <tr>\n",
       "      <th id=\"T_4bf6a_level0_row7\" class=\"row_heading level0 row7\" >dt</th>\n",
       "      <td id=\"T_4bf6a_row7_col0\" class=\"data row7 col0\" >Decision Tree Regressor</td>\n",
       "      <td id=\"T_4bf6a_row7_col1\" class=\"data row7 col1\" >0.6435</td>\n",
       "      <td id=\"T_4bf6a_row7_col2\" class=\"data row7 col2\" >0.8685</td>\n",
       "      <td id=\"T_4bf6a_row7_col3\" class=\"data row7 col3\" >0.9064</td>\n",
       "      <td id=\"T_4bf6a_row7_col4\" class=\"data row7 col4\" >0.1464</td>\n",
       "      <td id=\"T_4bf6a_row7_col5\" class=\"data row7 col5\" >0.1359</td>\n",
       "      <td id=\"T_4bf6a_row7_col6\" class=\"data row7 col6\" >0.1257</td>\n",
       "      <td id=\"T_4bf6a_row7_col7\" class=\"data row7 col7\" >0.0060</td>\n",
       "    </tr>\n",
       "    <tr>\n",
       "      <th id=\"T_4bf6a_level0_row8\" class=\"row_heading level0 row8\" >huber</th>\n",
       "      <td id=\"T_4bf6a_row8_col0\" class=\"data row8 col0\" >Huber Regressor</td>\n",
       "      <td id=\"T_4bf6a_row8_col1\" class=\"data row8 col1\" >0.6396</td>\n",
       "      <td id=\"T_4bf6a_row8_col2\" class=\"data row8 col2\" >1.0954</td>\n",
       "      <td id=\"T_4bf6a_row8_col3\" class=\"data row8 col3\" >0.9960</td>\n",
       "      <td id=\"T_4bf6a_row8_col4\" class=\"data row8 col4\" >0.1035</td>\n",
       "      <td id=\"T_4bf6a_row8_col5\" class=\"data row8 col5\" >0.1430</td>\n",
       "      <td id=\"T_4bf6a_row8_col6\" class=\"data row8 col6\" >0.1186</td>\n",
       "      <td id=\"T_4bf6a_row8_col7\" class=\"data row8 col7\" >0.0100</td>\n",
       "    </tr>\n",
       "    <tr>\n",
       "      <th id=\"T_4bf6a_level0_row9\" class=\"row_heading level0 row9\" >omp</th>\n",
       "      <td id=\"T_4bf6a_row9_col0\" class=\"data row9 col0\" >Orthogonal Matching Pursuit</td>\n",
       "      <td id=\"T_4bf6a_row9_col1\" class=\"data row9 col1\" >0.6638</td>\n",
       "      <td id=\"T_4bf6a_row9_col2\" class=\"data row9 col2\" >1.1145</td>\n",
       "      <td id=\"T_4bf6a_row9_col3\" class=\"data row9 col3\" >1.0012</td>\n",
       "      <td id=\"T_4bf6a_row9_col4\" class=\"data row9 col4\" >0.1028</td>\n",
       "      <td id=\"T_4bf6a_row9_col5\" class=\"data row9 col5\" >0.1446</td>\n",
       "      <td id=\"T_4bf6a_row9_col6\" class=\"data row9 col6\" >0.1267</td>\n",
       "      <td id=\"T_4bf6a_row9_col7\" class=\"data row9 col7\" >0.0070</td>\n",
       "    </tr>\n",
       "    <tr>\n",
       "      <th id=\"T_4bf6a_level0_row10\" class=\"row_heading level0 row10\" >en</th>\n",
       "      <td id=\"T_4bf6a_row10_col0\" class=\"data row10 col0\" >Elastic Net</td>\n",
       "      <td id=\"T_4bf6a_row10_col1\" class=\"data row10 col1\" >0.6780</td>\n",
       "      <td id=\"T_4bf6a_row10_col2\" class=\"data row10 col2\" >1.0875</td>\n",
       "      <td id=\"T_4bf6a_row10_col3\" class=\"data row10 col3\" >0.9945</td>\n",
       "      <td id=\"T_4bf6a_row10_col4\" class=\"data row10 col4\" >0.1023</td>\n",
       "      <td id=\"T_4bf6a_row10_col5\" class=\"data row10 col5\" >0.1451</td>\n",
       "      <td id=\"T_4bf6a_row10_col6\" class=\"data row10 col6\" >0.1312</td>\n",
       "      <td id=\"T_4bf6a_row10_col7\" class=\"data row10 col7\" >0.0070</td>\n",
       "    </tr>\n",
       "    <tr>\n",
       "      <th id=\"T_4bf6a_level0_row11\" class=\"row_heading level0 row11\" >lasso</th>\n",
       "      <td id=\"T_4bf6a_row11_col0\" class=\"data row11 col0\" >Lasso Regression</td>\n",
       "      <td id=\"T_4bf6a_row11_col1\" class=\"data row11 col1\" >0.6787</td>\n",
       "      <td id=\"T_4bf6a_row11_col2\" class=\"data row11 col2\" >1.1052</td>\n",
       "      <td id=\"T_4bf6a_row11_col3\" class=\"data row11 col3\" >1.0013</td>\n",
       "      <td id=\"T_4bf6a_row11_col4\" class=\"data row11 col4\" >0.0945</td>\n",
       "      <td id=\"T_4bf6a_row11_col5\" class=\"data row11 col5\" >0.1459</td>\n",
       "      <td id=\"T_4bf6a_row11_col6\" class=\"data row11 col6\" >0.1313</td>\n",
       "      <td id=\"T_4bf6a_row11_col7\" class=\"data row11 col7\" >0.0060</td>\n",
       "    </tr>\n",
       "    <tr>\n",
       "      <th id=\"T_4bf6a_level0_row12\" class=\"row_heading level0 row12\" >br</th>\n",
       "      <td id=\"T_4bf6a_row12_col0\" class=\"data row12 col0\" >Bayesian Ridge</td>\n",
       "      <td id=\"T_4bf6a_row12_col1\" class=\"data row12 col1\" >0.6834</td>\n",
       "      <td id=\"T_4bf6a_row12_col2\" class=\"data row12 col2\" >1.0837</td>\n",
       "      <td id=\"T_4bf6a_row12_col3\" class=\"data row12 col3\" >0.9956</td>\n",
       "      <td id=\"T_4bf6a_row12_col4\" class=\"data row12 col4\" >0.0937</td>\n",
       "      <td id=\"T_4bf6a_row12_col5\" class=\"data row12 col5\" >0.1458</td>\n",
       "      <td id=\"T_4bf6a_row12_col6\" class=\"data row12 col6\" >0.1324</td>\n",
       "      <td id=\"T_4bf6a_row12_col7\" class=\"data row12 col7\" >0.0060</td>\n",
       "    </tr>\n",
       "    <tr>\n",
       "      <th id=\"T_4bf6a_level0_row13\" class=\"row_heading level0 row13\" >ridge</th>\n",
       "      <td id=\"T_4bf6a_row13_col0\" class=\"data row13 col0\" >Ridge Regression</td>\n",
       "      <td id=\"T_4bf6a_row13_col1\" class=\"data row13 col1\" >0.6866</td>\n",
       "      <td id=\"T_4bf6a_row13_col2\" class=\"data row13 col2\" >1.0620</td>\n",
       "      <td id=\"T_4bf6a_row13_col3\" class=\"data row13 col3\" >0.9966</td>\n",
       "      <td id=\"T_4bf6a_row13_col4\" class=\"data row13 col4\" >0.0598</td>\n",
       "      <td id=\"T_4bf6a_row13_col5\" class=\"data row13 col5\" >0.1462</td>\n",
       "      <td id=\"T_4bf6a_row13_col6\" class=\"data row13 col6\" >0.1332</td>\n",
       "      <td id=\"T_4bf6a_row13_col7\" class=\"data row13 col7\" >0.0060</td>\n",
       "    </tr>\n",
       "    <tr>\n",
       "      <th id=\"T_4bf6a_level0_row14\" class=\"row_heading level0 row14\" >lr</th>\n",
       "      <td id=\"T_4bf6a_row14_col0\" class=\"data row14 col0\" >Linear Regression</td>\n",
       "      <td id=\"T_4bf6a_row14_col1\" class=\"data row14 col1\" >0.6874</td>\n",
       "      <td id=\"T_4bf6a_row14_col2\" class=\"data row14 col2\" >1.0631</td>\n",
       "      <td id=\"T_4bf6a_row14_col3\" class=\"data row14 col3\" >0.9976</td>\n",
       "      <td id=\"T_4bf6a_row14_col4\" class=\"data row14 col4\" >0.0560</td>\n",
       "      <td id=\"T_4bf6a_row14_col5\" class=\"data row14 col5\" >0.1464</td>\n",
       "      <td id=\"T_4bf6a_row14_col6\" class=\"data row14 col6\" >0.1334</td>\n",
       "      <td id=\"T_4bf6a_row14_col7\" class=\"data row14 col7\" >0.0060</td>\n",
       "    </tr>\n",
       "    <tr>\n",
       "      <th id=\"T_4bf6a_level0_row15\" class=\"row_heading level0 row15\" >lar</th>\n",
       "      <td id=\"T_4bf6a_row15_col0\" class=\"data row15 col0\" >Least Angle Regression</td>\n",
       "      <td id=\"T_4bf6a_row15_col1\" class=\"data row15 col1\" >0.6874</td>\n",
       "      <td id=\"T_4bf6a_row15_col2\" class=\"data row15 col2\" >1.0631</td>\n",
       "      <td id=\"T_4bf6a_row15_col3\" class=\"data row15 col3\" >0.9976</td>\n",
       "      <td id=\"T_4bf6a_row15_col4\" class=\"data row15 col4\" >0.0560</td>\n",
       "      <td id=\"T_4bf6a_row15_col5\" class=\"data row15 col5\" >0.1464</td>\n",
       "      <td id=\"T_4bf6a_row15_col6\" class=\"data row15 col6\" >0.1334</td>\n",
       "      <td id=\"T_4bf6a_row15_col7\" class=\"data row15 col7\" >0.0060</td>\n",
       "    </tr>\n",
       "    <tr>\n",
       "      <th id=\"T_4bf6a_level0_row16\" class=\"row_heading level0 row16\" >llar</th>\n",
       "      <td id=\"T_4bf6a_row16_col0\" class=\"data row16 col0\" >Lasso Least Angle Regression</td>\n",
       "      <td id=\"T_4bf6a_row16_col1\" class=\"data row16 col1\" >0.7232</td>\n",
       "      <td id=\"T_4bf6a_row16_col2\" class=\"data row16 col2\" >1.2547</td>\n",
       "      <td id=\"T_4bf6a_row16_col3\" class=\"data row16 col3\" >1.0721</td>\n",
       "      <td id=\"T_4bf6a_row16_col4\" class=\"data row16 col4\" >-0.0439</td>\n",
       "      <td id=\"T_4bf6a_row16_col5\" class=\"data row16 col5\" >0.1575</td>\n",
       "      <td id=\"T_4bf6a_row16_col6\" class=\"data row16 col6\" >0.1401</td>\n",
       "      <td id=\"T_4bf6a_row16_col7\" class=\"data row16 col7\" >0.0060</td>\n",
       "    </tr>\n",
       "    <tr>\n",
       "      <th id=\"T_4bf6a_level0_row17\" class=\"row_heading level0 row17\" >dummy</th>\n",
       "      <td id=\"T_4bf6a_row17_col0\" class=\"data row17 col0\" >Dummy Regressor</td>\n",
       "      <td id=\"T_4bf6a_row17_col1\" class=\"data row17 col1\" >0.7232</td>\n",
       "      <td id=\"T_4bf6a_row17_col2\" class=\"data row17 col2\" >1.2547</td>\n",
       "      <td id=\"T_4bf6a_row17_col3\" class=\"data row17 col3\" >1.0721</td>\n",
       "      <td id=\"T_4bf6a_row17_col4\" class=\"data row17 col4\" >-0.0439</td>\n",
       "      <td id=\"T_4bf6a_row17_col5\" class=\"data row17 col5\" >0.1575</td>\n",
       "      <td id=\"T_4bf6a_row17_col6\" class=\"data row17 col6\" >0.1401</td>\n",
       "      <td id=\"T_4bf6a_row17_col7\" class=\"data row17 col7\" >0.0070</td>\n",
       "    </tr>\n",
       "    <tr>\n",
       "      <th id=\"T_4bf6a_level0_row18\" class=\"row_heading level0 row18\" >par</th>\n",
       "      <td id=\"T_4bf6a_row18_col0\" class=\"data row18 col0\" >Passive Aggressive Regressor</td>\n",
       "      <td id=\"T_4bf6a_row18_col1\" class=\"data row18 col1\" >1.1237</td>\n",
       "      <td id=\"T_4bf6a_row18_col2\" class=\"data row18 col2\" >2.6951</td>\n",
       "      <td id=\"T_4bf6a_row18_col3\" class=\"data row18 col3\" >1.5493</td>\n",
       "      <td id=\"T_4bf6a_row18_col4\" class=\"data row18 col4\" >-1.8099</td>\n",
       "      <td id=\"T_4bf6a_row18_col5\" class=\"data row18 col5\" >0.2631</td>\n",
       "      <td id=\"T_4bf6a_row18_col6\" class=\"data row18 col6\" >0.2250</td>\n",
       "      <td id=\"T_4bf6a_row18_col7\" class=\"data row18 col7\" >0.0060</td>\n",
       "    </tr>\n",
       "  </tbody>\n",
       "</table>\n"
      ],
      "text/plain": [
       "<pandas.io.formats.style.Styler at 0x276c2a84888>"
      ]
     },
     "metadata": {},
     "output_type": "display_data"
    }
   ],
   "source": [
    "from pycaret.regression import *\n",
    "\n",
    "exp_name = setup(data = df_model , target = \"consume\")\n",
    "\n",
    "best_model = compare_models()"
   ]
  },
  {
   "cell_type": "markdown",
   "metadata": {},
   "source": [
    " En iyi sonucu gradient boosting regressor verdi"
   ]
  }
 ],
 "metadata": {
  "kernelspec": {
   "display_name": "Python 3.7.9 64-bit",
   "language": "python",
   "name": "python3"
  },
  "language_info": {
   "codemirror_mode": {
    "name": "ipython",
    "version": 3
   },
   "file_extension": ".py",
   "mimetype": "text/x-python",
   "name": "python",
   "nbconvert_exporter": "python",
   "pygments_lexer": "ipython3",
   "version": "3.7.9"
  },
  "orig_nbformat": 4,
  "vscode": {
   "interpreter": {
    "hash": "16f3484daa4199d826ac59be93380ed5ae89d2875afe8f45f4b2e96f2f02b6fc"
   }
  }
 },
 "nbformat": 4,
 "nbformat_minor": 2
}
